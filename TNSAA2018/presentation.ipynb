{
 "cells": [
  {
   "cell_type": "markdown",
   "metadata": {
    "slideshow": {
     "slide_type": "slide"
    }
   },
   "source": [
    "### TNSAA Workshop 2018, January 29, Beijing\n",
    "\n",
    "# &nbsp;\n",
    "\n",
    "# TensorKit.jl:\n",
    "## Tensors and tensor networks with symmetries in Julia\n",
    "\n",
    "# &nbsp;\n",
    "\n",
    "### Jutho Haegeman\n",
    "#### Department of Physics and Astronomy, UGent"
   ]
  },
  {
   "cell_type": "markdown",
   "metadata": {
    "slideshow": {
     "slide_type": "slide"
    }
   },
   "source": [
    "## Overview\n",
    "\n",
    "* **What is a tensor?**\n",
    "* **Tensors and symmetries**\n",
    "* **Intro to the Julia Language**\n",
    "* **TensorKit.jl**\n",
    "* **Some (preliminary) benchmarks**\n",
    "* **Outlook**"
   ]
  },
  {
   "cell_type": "markdown",
   "metadata": {
    "slideshow": {
     "slide_type": "slide"
    }
   },
   "source": [
    "# What is a tensor?"
   ]
  },
  {
   "cell_type": "markdown",
   "metadata": {
    "slideshow": {
     "slide_type": "subslide"
    }
   },
   "source": [
    "## Tensors as elements from a tensor product space\n",
    "* Tensors are elements from the tensor product of vector spaces\n",
    "\n",
    "    * e.g. a rank-$N$ tensor $t$:\n",
    "    $$ t \\in V_1 \\otimes V_2 \\otimes \\ldots \\otimes V_N $$\n",
    "      <img src=\"tensor.svg\">\n",
    "\n",
    "    * tensors behave as vectors, tensors in the same space can be added and multiplied by scalars\n",
    "    \n",
    "    * (For quantum mechanics, we will only consider complex vector spaces or super vector spaces with Euclidean inner product, for which the dual vector space is naturally isomorphic to the complex conjugate vector space: $\\overline{V} = V^{\\ast}$.)\n",
    "    \n",
    "    * e.g. without symmetries: $t \\in \\mathbb{C}^{d_1} \\otimes \\mathbb{C}^{d_2} \\otimes \\ldots \\otimes \\mathbb{C}^{d_N}$\n",
    "    $$t = \\sum_{i_1=1}^{d_1}\\sum_{i_2=1}^{d_2}\\cdots \\sum_{i_N=1}^{d_N} t_{i_1,i_2,\\ldots,i_N} \\vert i_1\\rangle \\otimes \\vert i_2\\rangle \\otimes\\ldots\\otimes \\vert i_N\\rangle  $$"
   ]
  },
  {
   "cell_type": "markdown",
   "metadata": {
    "slideshow": {
     "slide_type": "subslide"
    }
   },
   "source": [
    "## Tensors as linear maps between tensor product spaces\n",
    "\n",
    "* Sometimes we also want to think of a tensor as a linear map between 2 tensor product spaces:\n",
    "    \n",
    "    * tensor contraction = composition of linear maps (matrix multiplication)\n",
    "    * tensor factorization (singular value decompostion, eigenvalue decomposition, qr factorization)\n",
    "\n",
    "    * e.g. a linear map (henceforth called tensor map)\n",
    "    $$t: W_1 \\otimes W_2 \\otimes \\ldots \\otimes W_{N_2} \\to V_1 \\otimes V_2 \\otimes \\ldots \\otimes V_{N_1}$$ \n",
    "      <img src=\"tensormap.svg\">\n",
    "\n",
    "        * has range/codomain $\\mathrm{cod}(t) = V_1 \\otimes V_2 \\otimes \\ldots \\otimes V_{N_1}$\n",
    "        * has domain $\\mathrm{dom}(t) = W_1 \\otimes W_2 \\otimes \\ldots \\otimes W_{N_2}$\n",
    "        * a tensor of rank $N$ is a tensor map with $N_1=N, N_2 = 0$\n",
    "    \n",
    "* Category theory: tensor product spaces are the objects of the category $\\mathsf{Vect}$ and tensor (maps) are the corresponding morphisms. $\\mathsf{Vect}$ is a monoidal cateogry as $V_1 \\otimes (V_2 \\otimes V_3) \\equiv (V_1 \\otimes V_2) \\otimes V_3$ are trivially isomorphic."
   ]
  },
  {
   "cell_type": "markdown",
   "metadata": {
    "slideshow": {
     "slide_type": "subslide"
    }
   },
   "source": [
    "## Tensors and index permutations\n",
    "* Bipartition between domain and codomain indices of a tensor is not fixed and has to be constantly changed in contracting tensor networks or during tensor factorizations.\n",
    "* To change the order between spaces in either domain or codomain of the tensor, we need a braiding structure $c_{1,2}$, i.e. an isomorphism $c_{1,2}:V_1 \\otimes V_2 \\to V_2 \\otimes V_1$.\n",
    "    * For bosons or spins (finite dimensional complex Euclidean spaces, the action of is trivial. For fermions (super vector spaces, i.e. with a natural $\\mathbb{Z}_2$ grading), the braiding acts as a controlled $Z$. \n",
    "    * These braidings are symmetric ($c_{2,1}=c_{1,2}^{-1}$), which means that crossing lines in a tensor network diagram are well defined.\n",
    "    <img src=\"braiding.svg\">"
   ]
  },
  {
   "cell_type": "markdown",
   "metadata": {
    "slideshow": {
     "slide_type": "subslide"
    }
   },
   "source": [
    "## Tensors and index permutations\n",
    "* Bipartition between domain and codomain indices of a tensor is not fixed and has to be constantly changed in contracting tensor networks or during tensor factorizations.\n",
    "* To exchange spaces between domain and codomain, we use the autonomous and pivotal structure ($\\epsilon: V^{\\ast} \\otimes V \\to \\mathbb{C}$ and $\\eta:\\mathbb{C} \\to V \\otimes V^{\\ast}$ with $V^{\\ast \\ast} \\equiv V$). Henceforth, we denote $V^\\ast$ as $\\overline{V}$ as they are the same.\n",
    "<img src=\"repartition.svg\">"
   ]
  },
  {
   "cell_type": "markdown",
   "metadata": {
    "slideshow": {
     "slide_type": "subslide"
    }
   },
   "source": [
    "## Tensors, adjoints and inner products\n",
    "* A general tensor map can have normal and dual spaces in both domain and codomain: we will use left pointing arrows for normal spaces and right pointing arrows for dual spaces\n",
    "<img src=\"arrowedtensor.svg\">\n",
    "e.g $$t \\big( \\langle j_1\\vert \\otimes \\vert j_2\\rangle\\big) = t_{i_1,i_2,i_3; j_1,j_2} \\vert i_1\\rangle \\otimes \\langle i_2\\vert \\otimes \\vert i_3\\rangle$$\n",
    "\n",
    "* The adjoint (dagger or Hermitian conjugate) of a tensor map\n",
    "$$t: W_1 \\otimes W_2 \\otimes \\ldots \\otimes W_{N_2} \\to V_1 \\otimes V_2 \\otimes \\ldots \\otimes V_{N_1}$$ \n",
    "is a tensor map\n",
    "$$t^\\dagger: V_1 \\otimes V_2 \\otimes \\ldots \\otimes V_{N_1} \\to W_1 \\otimes W_2 \\otimes \\ldots \\otimes W_{N_2}$$\n",
    "\n",
    "* Note that the dagger of a tensor $t \\in V_1 \\otimes V_2 \\otimes \\ldots \\otimes V_{N}$ is not a tensor but a dual object $t^\\dagger: V_1 \\otimes V_2 \\otimes \\ldots \\otimes V_{N} \\to \\mathbb{C}$. By using index permitations, $t^\\dagger$ can be permuted into a tensor in $\\overline{V}_N \\otimes \\ldots \\otimes \\overline{V}_2 \\otimes \\overline{V}_1$ or in $\\overline{V}_1 \\otimes \\overline{V}_2 \\otimes \\ldots \\otimes \\overline{V}_N$ (using additional braidings)."
   ]
  },
  {
   "cell_type": "markdown",
   "metadata": {
    "slideshow": {
     "slide_type": "slide"
    }
   },
   "source": [
    "# Tensors and symmetries"
   ]
  },
  {
   "cell_type": "markdown",
   "metadata": {
    "slideshow": {
     "slide_type": "subslide"
    }
   },
   "source": [
    "## Symmetries and unitary representations\n",
    "* Let $v(g)$ be a unitary representation of elements $g$ of a group $\\mathsf{G}$ on a (complex Euclidean) space $V$. We can decompose $v(g)$ into a block diagonal form corresponding to the irreducible representations $j$ of $\\mathsf{G}$. $V$ is completely specified (up to basis transforms) by the number of times $n_j$ that irrep $j$ appears, i.e.\n",
    "$$ V = \\bigoplus_{j} R_j \\otimes \\mathbb{C}^{n_j}$$\n",
    "The corresponding representation $v(g)$ takes the form\n",
    "$$ v(g) = \\bigoplus_{j} r_j(g) \\otimes 1_{n_j}$$"
   ]
  },
  {
   "cell_type": "markdown",
   "metadata": {
    "slideshow": {
     "slide_type": "subslide"
    }
   },
   "source": [
    "## Symmetries and unitary representations\n",
    "* Consider a tensor map\n",
    "$$t: W_1 \\otimes W_2 \\otimes \\ldots \\otimes W_{N_2} \\to V_1 \\otimes V_2 \\otimes \\ldots \\otimes V_{N_1}$$ \n",
    "where the spaces $V_i$ and $W_j$ have unitary representations $v_i(g)$ and $w_i(g)$ for the elements $g$ of a group $\\mathsf{G}$. A symmetric tensor acts as an intertwiner between the unitary representations \n",
    "$$v_1(g) \\otimes v_2(g) \\otimes \\ldots \\otimes v_{N_1}(g)$$\n",
    "and\n",
    "$$w_1(g) \\otimes w_2(g) \\otimes \\ldots \\otimes w_{N_1}(g),$$\n",
    "i.e.\n",
    "$$(v_1(g) \\otimes v_2(g) \\otimes \\ldots \\otimes v_{N_1}(g)) \\circ t = t \\circ (w_1(g) \\otimes w_2(g) \\otimes \\ldots \\otimes w_{N_1}(g)) .$$\n",
    "\n",
    "* In particular, a symmetric tensor $t \\in V_1 \\otimes V_2 \\otimes \\ldots \\otimes V_N$ is invariant under the action of $$v_1(g) \\otimes v_2(g) \\otimes \\ldots \\otimes v_{N}(g)$$\n",
    "for all $g \\in \\mathsf{G}$."
   ]
  },
  {
   "cell_type": "markdown",
   "metadata": {
    "slideshow": {
     "slide_type": "subslide"
    }
   },
   "source": [
    "## Symmetric tensors and fusion trees\n",
    "* By Schur's Lemma, a symmetric tensor map will be block diagonal in the coupled basis of irreps, obtained from fusing the irreps contained in the tensor product $v_1(g) \\otimes v_2(g) \\otimes \\ldots \\otimes v_{N_1}(g)$ and $w_1(g) \\otimes w_2(g) \\otimes \\ldots \\otimes w_{N_1}(g)$.\n",
    "\n",
    "* We can use the elementary isometric intertwiners $x_{a,b}^{c;\\mu}: R_{c} \\to R_{a} \\otimes R_{b}$ (fusion/splitting tensors, a.k.a. Clebsch-Gordon coefficients):\n",
    "    <img src=\"splittingtensor.svg\">\n",
    "    Here, $\\mu = 1,\\ldots N_{a,b}^c$ is a degeneracy label for number of times $N_{a,b}^c$ that irrep $c$ appears in the fusion product of $a \\otimes b$."
   ]
  },
  {
   "cell_type": "markdown",
   "metadata": {
    "slideshow": {
     "slide_type": "subslide"
    }
   },
   "source": [
    "## Symmetric tensors and fusion trees\n",
    "\n",
    "* For the space $V_1 \\otimes V_2 \\otimes \\overline{V}_3 \\otimes \\overline{V}_4$, we can build a set of canonical fusion trees $x_{a_1 a_2 \\bar{a}_3 \\bar{a}_4}^{c,(e_1,e_2),(\\mu_1,\\mu_2,\\mu_3)}$ for fusing to a joint irrep $c$\n",
    "    <img src=\"fusiontree.svg\">\n",
    "    * Here, $z_a$ is a canonical mapping $R_a \\to \\overline{R}_{\\bar{a}}$ that can be constructed from the elementary intertwiner $x_{a,\\bar{a}}^{1}$. Here, $\\bar{a}$ is the dual representation of $a$, the unique irrep that has $N_{a,\\bar{a}}^{1} > 0$ (and actually $N_{a,\\bar{a}}^{1} = 1$).\n",
    "    * The fusion trees are mutually orthogonal isometries, i.e.\n",
    "    $$ (x_{a_1 a_2 \\bar{a}_3 \\bar{a}_4}^{c,(e_1,e_2),(\\mu_1,\\mu_2,\\mu_3)})^\\dagger \\circ (x_{a_1 a_2 \\bar{a}_3 \\bar{a}_4}^{c',(e_1',e_2'),(\\mu_1',\\mu_2',\\mu_3')}) = \\delta_{c,c'} \\delta_{e_1,e_1'}\\delta_{e_2,e_2'}\\delta_{\\mu_1,\\mu_1'}\\delta_{\\mu_2,\\mu_2'}\\delta_{\\mu_3,\\mu_3'} 1_{R_c}$$\n",
    "    "
   ]
  },
  {
   "cell_type": "markdown",
   "metadata": {
    "slideshow": {
     "slide_type": "subslide"
    }
   },
   "source": [
    "## Symmetric tensors and fusion trees\n",
    "\n",
    "\n",
    "* We can now decompose tensor map $t:W_1 \\otimes \\overline{W}_2 \\otimes W_3 \\to V_1 \\otimes V_2 \\otimes \\overline{V}_3 \\otimes \\overline{V}_4$ as\n",
    "    $$ t=\\sum_c \\sum_{a_1,a_2,a_3,b_1,b_2,e_1,e_2,f_1,\\mu_1,\\mu_2,\\mu_3,\\nu_1,\\nu_2} x_{a_1 a_2 \\bar{a}_3 \\bar{a}_4}^{c,(e_1,e_2),(\\mu_1,\\mu_2,\\mu_3)} \\otimes t_{a_1 a_2 \\bar{a}_3 \\bar{a}_4; b_1 \\bar{b}_2 b_3}^{c,(e_1,e_2),(f_1),(\\mu_1,\\mu_2,\\mu_3),(\\nu_1,\\nu_2)} \\otimes \\big(x_{b_1 \\bar{b}_2 b_3}^{c,(f_1),,(\\nu_1,\\nu_2)}\\big)^\\dagger $$\n",
    "    or graphically\n",
    "    <img src=\"tensorfused.svg\">\n",
    "     * Here, $t_{a_1 a_2 \\bar{a}_3 \\bar{a}_4; b_1 \\bar{b}_2 b_3}^{c,(e_1,e_2),(f_1),(\\mu_1,\\mu_2,\\mu_3),(\\nu_1,\\nu_2)}$ is a regular complex array of dimension $(m_1 \\times m_2 \\times m_3 \\times m_4) \\times (n_1 \\times n_2 \\times n_3)$, with $m_i$ the degeneracy of irrep $a_i$ in $V_i$ and and $n_j$ the degeneracy of irrep $b_j$ in $W_j$."
   ]
  },
  {
   "cell_type": "markdown",
   "metadata": {
    "slideshow": {
     "slide_type": "subslide"
    }
   },
   "source": [
    "## Symmetric tensors and fusion trees\n",
    "\n",
    "\n",
    "* The advantage of working with symmetric tensors, is that we can work with only the blocks $t_{a_1 a_2 \\bar{a}_3 \\bar{a}_4; b_1 \\bar{b}_2 b_3}^{c,(e_1,e_2),(f_1),(\\mu_1,\\mu_2,\\mu_3),(\\nu_1,\\nu_2)}$.\n",
    "\n",
    "* Furthermore, the various blocks for a fixed label of $c$ can be patched together into a full matrix, which is related to the full matrix representation of the tensor by isometries. For matrix multiplication or singular value decomposition, we don't have to care about those isometries.\n"
   ]
  },
  {
   "cell_type": "markdown",
   "metadata": {
    "slideshow": {
     "slide_type": "subslide"
    }
   },
   "source": [
    "## Symmetric tensors and fusion trees\n",
    "\n",
    "* To manipulate a tensor (index permutations), we need to be able to manipulate the corresponding fusion trees, in order to bring them back into canonical form.\n",
    "\n",
    "* For this, we only need the \"topological\" data of the group:\n",
    "    <img src=\"Fmove.svg\">\n",
    "    <img src=\"Rmove.svg\">\n",
    "    <img src=\"Bmove.svg\">\n",
    "where the Frobenius-Schur indicator $\\chi_b$, the irrep dimension $d_b$ and the $B$-symbol all are encoded in the $F$-symbol (6j-symbols in case of $\\mathsf{SU}_2$)\n",
    "\n",
    "* All of this simplifies drastically for\n",
    "    * Abelian groups\n",
    "    * Non-abelian groups with no degeneracies ($N_{ab}^{c} \\leq 1$), e.g. $\\mathsf{SU}_2$"
   ]
  },
  {
   "cell_type": "markdown",
   "metadata": {
    "slideshow": {
     "slide_type": "slide"
    }
   },
   "source": [
    "# Introduction to the Julia Language\n",
    "\n",
    "  <img src=\"julia.png\" style=\"width: 200px;\"/>\n"
   ]
  },
  {
   "cell_type": "markdown",
   "metadata": {
    "slideshow": {
     "slide_type": "-"
    }
   },
   "source": [
    "* Selling point: dynamic high-level language with the speed of a statically-compiled language"
   ]
  },
  {
   "cell_type": "markdown",
   "metadata": {
    "slideshow": {
     "slide_type": "-"
    }
   },
   "source": [
    "* Key features:\n",
    "    * Just-in-time compiled (using LLVM infrastructure)\n",
    "    * Dynamic type system\n",
    "    * Multiple dispatch:\n",
    "        * define function behavior across many combinations of argument types\n",
    "        * automatic generation of efficient, specialized code for different argument types\n",
    "    * Good support for computational science: numerics, statistics, multidimensional arrays, ...\n",
    "    * Homoiconic and powerful metaprogramming facilities"
   ]
  },
  {
   "cell_type": "markdown",
   "metadata": {
    "slideshow": {
     "slide_type": "subslide"
    }
   },
   "source": [
    "## Code specialization"
   ]
  },
  {
   "cell_type": "code",
   "execution_count": 1,
   "metadata": {
    "slideshow": {
     "slide_type": "-"
    }
   },
   "outputs": [
    {
     "data": {
      "text/plain": [
       "myabs (generic function with 1 method)"
      ]
     },
     "execution_count": 1,
     "metadata": {},
     "output_type": "execute_result"
    }
   ],
   "source": [
    "function myabs(x)\n",
    "    if x < 0\n",
    "        return -x\n",
    "    end\n",
    "    return x\n",
    "end"
   ]
  },
  {
   "cell_type": "code",
   "execution_count": 2,
   "metadata": {
    "slideshow": {
     "slide_type": "-"
    }
   },
   "outputs": [
    {
     "name": "stdout",
     "output_type": "stream",
     "text": [
      "\n",
      "define i64 @julia_myabs_62987(i64) #0 !dbg !5 {\n",
      "top:\n",
      "  %1 = icmp sgt i64 %0, -1\n",
      "  br i1 %1, label %L4, label %if\n",
      "\n",
      "if:                                               ; preds = %top\n",
      "  %2 = sub i64 0, %0\n",
      "  ret i64 %2\n",
      "\n",
      "L4:                                               ; preds = %top\n",
      "  ret i64 %0\n",
      "}\n"
     ]
    }
   ],
   "source": [
    "@code_llvm myabs(3) # LLVM code for 64-bit integer"
   ]
  },
  {
   "cell_type": "markdown",
   "metadata": {
    "slideshow": {
     "slide_type": "subslide"
    }
   },
   "source": [
    "## Code specialization"
   ]
  },
  {
   "cell_type": "code",
   "execution_count": 3,
   "metadata": {},
   "outputs": [
    {
     "name": "stdout",
     "output_type": "stream",
     "text": [
      "\n",
      "define i64 @julia_myabs_62993(i64) #0 !dbg !5 {\n",
      "L4:\n",
      "  ret i64 %0\n",
      "}\n"
     ]
    }
   ],
   "source": [
    "code_llvm(myabs,Tuple{UInt64}) # LLVM code for 64-bit unsigned integer"
   ]
  },
  {
   "cell_type": "code",
   "execution_count": 4,
   "metadata": {},
   "outputs": [
    {
     "name": "stdout",
     "output_type": "stream",
     "text": [
      "\n",
      "define double @julia_myabs_62994(double) #0 !dbg !5 {\n",
      "top:\n",
      "  %1 = fcmp uge double %0, 0.000000e+00\n",
      "  br i1 %1, label %L9, label %if\n",
      "\n",
      "if:                                               ; preds = %top\n",
      "  %2 = fsub double -0.000000e+00, %0\n",
      "  ret double %2\n",
      "\n",
      "L9:                                               ; preds = %top\n",
      "  ret double %0\n",
      "}\n"
     ]
    }
   ],
   "source": [
    "code_llvm(myabs,Tuple{Float64}) # LLVM code for 64-bit floating point"
   ]
  },
  {
   "cell_type": "markdown",
   "metadata": {
    "slideshow": {
     "slide_type": "subslide"
    }
   },
   "source": [
    "## Type inference & type stability"
   ]
  },
  {
   "cell_type": "code",
   "execution_count": 5,
   "metadata": {
    "slideshow": {
     "slide_type": "-"
    }
   },
   "outputs": [
    {
     "name": "stdout",
     "output_type": "stream",
     "text": [
      "Variables:\n",
      "  #self# <optimized out>\n",
      "  x::Float64\n",
      "\n",
      "Body:\n",
      "  begin \n",
      "      unless (Base.lt_float)(x::Float64, (Base.sitofp)(Float64, 0)::Float64)::Bool goto 3\n",
      "      return $(Expr(:invoke, MethodInstance for sqrt(::Complex{Float64}), :(Main.sqrt), :($(Expr(:new, Complex{Float64}, :(x), :((Base.sitofp)(Float64, 0)::Float64))))))\n",
      "      3: \n",
      "      return (Base.Math.sqrt_llvm)(x::Float64)::Float64\n",
      "  end\u001b[1m\u001b[91m::Union{Complex{Float64}, Float64}\u001b[39m\u001b[22m\n"
     ]
    }
   ],
   "source": [
    "mysqrt(x) = x < zero(x) ? sqrt(complex(x)) : sqrt(x)\n",
    "code_warntype(mysqrt,Tuple{Float64})"
   ]
  },
  {
   "cell_type": "markdown",
   "metadata": {
    "slideshow": {
     "slide_type": "subslide"
    }
   },
   "source": [
    "## Type inference & type stability"
   ]
  },
  {
   "cell_type": "code",
   "execution_count": 6,
   "metadata": {
    "slideshow": {
     "slide_type": "-"
    }
   },
   "outputs": [
    {
     "name": "stdout",
     "output_type": "stream",
     "text": [
      "Variables:\n",
      "  #self# <optimized out>\n",
      "  v::Array{Float64,1}\n",
      "  i::Int64\n",
      "  #temp#@_4::Int64\n",
      "  s::Float64\n",
      "  fy::Float64\n",
      "  #temp#@_7::Float64\n",
      "\n",
      "Body:\n",
      "  begin \n",
      "      SSAValue(2) = (Base.arrayref)(v::Array{Float64,1}, 1)::Float64\n",
      "      $(Expr(:inbounds, false))\n",
      "      # meta: location In[1] myabs 2\n",
      "      # meta: location float.jl < 491\n",
      "      fy::Float64 = (Base.sitofp)(Float64, 0)::Float64\n",
      "      # meta: pop location\n",
      "      unless (Base.or_int)((Base.lt_float)(SSAValue(2), fy::Float64)::Bool, (Base.and_int)((Base.and_int)((Base.eq_float)(SSAValue(2), fy::Float64)::Bool, (Base.lt_float)(fy::Float64, 9.223372036854776e18)::Bool)::Bool, (Base.slt_int)((Base.fptosi)(Int64, fy::Float64)::Int64, 0)::Bool)::Bool)::Bool goto 11 # line 3:\n",
      "      #temp#@_7::Float64 = (Base.neg_float)(SSAValue(2))::Float64\n",
      "      goto 14\n",
      "      11:  # line 5:\n",
      "      #temp#@_7::Float64 = SSAValue(2)\n",
      "      14: \n",
      "      # meta: pop location\n",
      "      $(Expr(:inbounds, :pop))\n",
      "      s::Float64 = #temp#@_7::Float64 # line 3:\n",
      "      SSAValue(3) = (Base.arraylen)(v::Array{Float64,1})::Int64\n",
      "      SSAValue(4) = (Base.select_value)((Base.sle_int)(2, SSAValue(3))::Bool, SSAValue(3), (Base.sub_int)(2, 1)::Int64)::Int64\n",
      "      #temp#@_4::Int64 = 2\n",
      "      22: \n",
      "      unless (Base.not_int)((#temp#@_4::Int64 === (Base.add_int)(SSAValue(4), 1)::Int64)::Bool)::Bool goto 32\n",
      "      SSAValue(5) = #temp#@_4::Int64\n",
      "      SSAValue(6) = (Base.add_int)(#temp#@_4::Int64, 1)::Int64\n",
      "      i::Int64 = SSAValue(5)\n",
      "      #temp#@_4::Int64 = SSAValue(6) # line 4:\n",
      "      s::Float64 = (Base.add_float)(s::Float64, (Base.abs_float)((Base.arrayref)(v::Array{Float64,1}, i::Int64)::Float64)::Float64)::Float64\n",
      "      30: \n",
      "      goto 22\n",
      "      32:  # line 6:\n",
      "      return s::Float64\n",
      "  end::Float64\n"
     ]
    }
   ],
   "source": [
    "function summyabs(v::Vector)\n",
    "    s = myabs(v[1])\n",
    "    for i = 2:length(v)\n",
    "        s += abs(v[i])\n",
    "    end\n",
    "    return s\n",
    "end\n",
    "code_warntype(summyabs, Tuple{Vector{Float64}})"
   ]
  },
  {
   "cell_type": "code",
   "execution_count": 7,
   "metadata": {},
   "outputs": [
    {
     "name": "stdout",
     "output_type": "stream",
     "text": [
      "  0.007333 seconds (192 allocations: 13.248 KiB)\n",
      "  0.000005 seconds (5 allocations: 176 bytes)\n",
      "  0.000026 seconds (5 allocations: 176 bytes)\n"
     ]
    },
    {
     "data": {
      "text/plain": [
       "7900.138261367283"
      ]
     },
     "execution_count": 7,
     "metadata": {},
     "output_type": "execute_result"
    }
   ],
   "source": [
    "x=randn(100)\n",
    "@time summyabs(x)\n",
    "x=randn(1000)\n",
    "@time summyabs(x)\n",
    "x=randn(10000)\n",
    "@time summyabs(x)"
   ]
  },
  {
   "cell_type": "markdown",
   "metadata": {
    "slideshow": {
     "slide_type": "subslide"
    }
   },
   "source": [
    "## Type inference & type stability"
   ]
  },
  {
   "cell_type": "code",
   "execution_count": 8,
   "metadata": {
    "scrolled": true,
    "slideshow": {
     "slide_type": "-"
    }
   },
   "outputs": [
    {
     "name": "stdout",
     "output_type": "stream",
     "text": [
      "Variables:\n",
      "  #self# <optimized out>\n",
      "  v::Array{Int64,1}\n",
      "  i::Int64\n",
      "  #temp#@_4::Int64\n",
      "  s\u001b[1m\u001b[91m::Union{Complex{Float64}, Float64}\u001b[39m\u001b[22m\n",
      "  #temp#@_6\u001b[1m\u001b[91m::Union{Complex{Float64}, Float64}\u001b[39m\u001b[22m\n",
      "  #temp#@_7\u001b[1m\u001b[91m::Union{Complex{Float64}, Float64}\u001b[39m\u001b[22m\n",
      "  #temp#@_8::Core.MethodInstance\n",
      "  #temp#@_9\u001b[1m\u001b[91m::Union{Complex{Float64}, Float64}\u001b[39m\u001b[22m\n",
      "\n",
      "Body:\n",
      "  begin \n",
      "      SSAValue(2) = (Base.arrayref)(v::Array{Int64,1}, 1)::Int64\n",
      "      $(Expr(:inbounds, false))\n",
      "      # meta: location In[5] mysqrt 1\n",
      "      unless (Base.slt_int)(SSAValue(2), 0)::Bool goto 7\n",
      "      #temp#@_6\u001b[1m\u001b[91m::Union{Complex{Float64}, Float64}\u001b[39m\u001b[22m = $(Expr(:invoke, MethodInstance for sqrt(::Complex{Float64}), :(Base.sqrt), :($(Expr(:new, Complex{Float64}, :((Base.sitofp)(Float64, SSAValue(2))::Float64), :((Base.sitofp)(Float64, 0)::Float64))))))\n",
      "      goto 9\n",
      "      7: \n",
      "      #temp#@_6\u001b[1m\u001b[91m::Union{Complex{Float64}, Float64}\u001b[39m\u001b[22m = (Base.Math.sqrt_llvm)((Base.sitofp)(Float64, SSAValue(2))::Float64)::Float64\n",
      "      9: \n",
      "      # meta: pop location\n",
      "      $(Expr(:inbounds, :pop))\n",
      "      s\u001b[1m\u001b[91m::Union{Complex{Float64}, Float64}\u001b[39m\u001b[22m = #temp#@_6\u001b[1m\u001b[91m::Union{Complex{Float64}, Float64}\u001b[39m\u001b[22m # line 3:\n",
      "      SSAValue(5) = (Base.arraylen)(v::Array{Int64,1})::Int64\n",
      "      SSAValue(9) = (Base.select_value)((Base.sle_int)(2, SSAValue(5))::Bool, SSAValue(5), (Base.sub_int)(2, 1)::Int64)::Int64\n",
      "      #temp#@_4::Int64 = 2\n",
      "      17: \n",
      "      unless (Base.not_int)((#temp#@_4::Int64 === (Base.add_int)(SSAValue(9), 1)::Int64)::Bool)::Bool goto 67\n",
      "      SSAValue(10) = #temp#@_4::Int64\n",
      "      SSAValue(11) = (Base.add_int)(#temp#@_4::Int64, 1)::Int64\n",
      "      i::Int64 = SSAValue(10)\n",
      "      #temp#@_4::Int64 = SSAValue(11) # line 4:\n",
      "      SSAValue(6) = (Base.arrayref)(v::Array{Int64,1}, i::Int64)::Int64\n",
      "      $(Expr(:inbounds, false))\n",
      "      # meta: location In[5] mysqrt 1\n",
      "      unless (Base.slt_int)(SSAValue(6), 0)::Bool goto 30\n",
      "      #temp#@_7\u001b[1m\u001b[91m::Union{Complex{Float64}, Float64}\u001b[39m\u001b[22m = $(Expr(:invoke, MethodInstance for sqrt(::Complex{Float64}), :(Base.sqrt), :($(Expr(:new, Complex{Float64}, :((Base.sitofp)(Float64, SSAValue(6))::Float64), :((Base.sitofp)(Float64, 0)::Float64))))))\n",
      "      goto 32\n",
      "      30: \n",
      "      #temp#@_7\u001b[1m\u001b[91m::Union{Complex{Float64}, Float64}\u001b[39m\u001b[22m = (Base.Math.sqrt_llvm)((Base.sitofp)(Float64, SSAValue(6))::Float64)::Float64\n",
      "      32: \n",
      "      # meta: pop location\n",
      "      $(Expr(:inbounds, :pop))\n",
      "      unless (#temp#@_7\u001b[1m\u001b[91m::Union{Complex{Float64}, Float64}\u001b[39m\u001b[22m isa Complex{Float64})::Bool goto 45\n",
      "      unless (s\u001b[1m\u001b[91m::Union{Complex{Float64}, Float64}\u001b[39m\u001b[22m isa Complex{Float64})::Bool goto 39\n",
      "      #temp#@_8::Core.MethodInstance = MethodInstance for +(::Complex{Float64}, ::Complex{Float64})\n",
      "      goto 61\n",
      "      39: \n",
      "      unless (s\u001b[1m\u001b[91m::Union{Complex{Float64}, Float64}\u001b[39m\u001b[22m isa Float64)::Bool goto 43\n",
      "      #temp#@_8::Core.MethodInstance = MethodInstance for +(::Float64, ::Complex{Float64})\n",
      "      goto 61\n",
      "      43: \n",
      "      goto 58\n",
      "      45: \n",
      "      unless (#temp#@_7\u001b[1m\u001b[91m::Union{Complex{Float64}, Float64}\u001b[39m\u001b[22m isa Float64)::Bool goto 56\n",
      "      unless (s\u001b[1m\u001b[91m::Union{Complex{Float64}, Float64}\u001b[39m\u001b[22m isa Complex{Float64})::Bool goto 50\n",
      "      #temp#@_8::Core.MethodInstance = MethodInstance for +(::Complex{Float64}, ::Float64)\n",
      "      goto 61\n",
      "      50: \n",
      "      unless (s\u001b[1m\u001b[91m::Union{Complex{Float64}, Float64}\u001b[39m\u001b[22m isa Float64)::Bool goto 54\n",
      "      #temp#@_8::Core.MethodInstance = MethodInstance for +(::Float64, ::Float64)\n",
      "      goto 61\n",
      "      54: \n",
      "      goto 58\n",
      "      56: \n",
      "      goto 58\n",
      "      58: \n",
      "      #temp#@_9\u001b[1m\u001b[91m::Union{Complex{Float64}, Float64}\u001b[39m\u001b[22m = (s\u001b[1m\u001b[91m::Union{Complex{Float64}, Float64}\u001b[39m\u001b[22m + #temp#@_7\u001b[1m\u001b[91m::Union{Complex{Float64}, Float64}\u001b[39m\u001b[22m)\u001b[1m\u001b[91m::Union{Complex{Float64}, Float64}\u001b[39m\u001b[22m\n",
      "      goto 63\n",
      "      61: \n",
      "      #temp#@_9\u001b[1m\u001b[91m::Union{Complex{Float64}, Float64}\u001b[39m\u001b[22m = $(Expr(:invoke, :(#temp#@_8), :(Main.+), :(s), :(#temp#@_7)))\n",
      "      63: \n",
      "      s\u001b[1m\u001b[91m::Union{Complex{Float64}, Float64}\u001b[39m\u001b[22m = #temp#@_9\u001b[1m\u001b[91m::Union{Complex{Float64}, Float64}\u001b[39m\u001b[22m\n",
      "      65: \n",
      "      goto 17\n",
      "      67:  # line 6:\n",
      "      return s\u001b[1m\u001b[91m::Union{Complex{Float64}, Float64}\u001b[39m\u001b[22m\n",
      "  end\u001b[1m\u001b[91m::Union{Complex{Float64}, Float64}\u001b[39m\u001b[22m\n"
     ]
    }
   ],
   "source": [
    "function summysqrt(v::Vector)\n",
    "    s = mysqrt(v[1])\n",
    "    for i = 2:length(v)\n",
    "        s += mysqrt(v[i])\n",
    "    end\n",
    "    return s\n",
    "end\n",
    "code_warntype(summysqrt,Tuple{Vector{Int64}})"
   ]
  },
  {
   "cell_type": "code",
   "execution_count": 9,
   "metadata": {},
   "outputs": [
    {
     "name": "stdout",
     "output_type": "stream",
     "text": [
      "  0.046556 seconds (3.00 k allocations: 162.022 KiB)\n",
      "  0.000085 seconds (3.00 k allocations: 86.203 KiB)\n",
      "  0.000861 seconds (30.00 k allocations: 860.094 KiB)\n"
     ]
    },
    {
     "data": {
      "text/plain": [
       "4060.6137972516444 + 4121.888993375175im"
      ]
     },
     "execution_count": 9,
     "metadata": {},
     "output_type": "execute_result"
    }
   ],
   "source": [
    "x=randn(100)\n",
    "@time summysqrt(x)\n",
    "x=randn(1000)\n",
    "@time summysqrt(x)\n",
    "x=randn(10000)\n",
    "@time summysqrt(x)"
   ]
  },
  {
   "cell_type": "markdown",
   "metadata": {
    "slideshow": {
     "slide_type": "subslide"
    }
   },
   "source": [
    "## Homoiconicity"
   ]
  },
  {
   "cell_type": "code",
   "execution_count": 10,
   "metadata": {
    "slideshow": {
     "slide_type": "-"
    }
   },
   "outputs": [
    {
     "data": {
      "text/plain": [
       "quote  # In[10], line 2:\n",
       "    function summysqrt(v::Vector) # In[10], line 3:\n",
       "        s = mysqrt(v[1]) # In[10], line 4:\n",
       "        for i = 2:length(v) # In[10], line 5:\n",
       "            s += mysqrt(v[i])\n",
       "        end # In[10], line 7:\n",
       "        return x\n",
       "    end\n",
       "end"
      ]
     },
     "execution_count": 10,
     "metadata": {},
     "output_type": "execute_result"
    }
   ],
   "source": [
    "ex=quote\n",
    "    function summysqrt(v::Vector)\n",
    "        s = mysqrt(v[1])\n",
    "        for i = 2:length(v)\n",
    "            s += mysqrt(v[i])\n",
    "        end\n",
    "        return x\n",
    "        end\n",
    "end"
   ]
  },
  {
   "cell_type": "code",
   "execution_count": 11,
   "metadata": {
    "slideshow": {
     "slide_type": "-"
    }
   },
   "outputs": [
    {
     "data": {
      "text/plain": [
       "Expr"
      ]
     },
     "execution_count": 11,
     "metadata": {},
     "output_type": "execute_result"
    }
   ],
   "source": [
    "typeof(ex)"
   ]
  },
  {
   "cell_type": "markdown",
   "metadata": {
    "slideshow": {
     "slide_type": "subslide"
    }
   },
   "source": [
    "## Homoiconicity"
   ]
  },
  {
   "cell_type": "code",
   "execution_count": 12,
   "metadata": {
    "slideshow": {
     "slide_type": "-"
    }
   },
   "outputs": [
    {
     "name": "stdout",
     "output_type": "stream",
     "text": [
      "(:block,\n",
      "  (:line, 2, Symbol(\"In[10]\")),\n",
      "  (:function, (:call, :summysqrt, (:(::), :v, :Vector)), (:block,\n",
      "      (:line, 3, Symbol(\"In[10]\")),\n",
      "      (:(=), :s, (:call, :mysqrt, (:ref, :v, 1))),\n",
      "      (:line, 4, Symbol(\"In[10]\")),\n",
      "      (:for, (:(=), :i, (:(:), 2, (:call, :length, :v))), (:block,\n",
      "          (:line, 5, Symbol(\"In[10]\")),\n",
      "          (:+=, :s, (:call, :mysqrt, (:ref, :v, :i)))\n",
      "        )),\n",
      "      (:line, 7, Symbol(\"In[10]\")),\n",
      "      (:return, :x)\n",
      "    ))\n",
      ")"
     ]
    }
   ],
   "source": [
    "Meta.show_sexpr(ex)"
   ]
  },
  {
   "cell_type": "markdown",
   "metadata": {
    "slideshow": {
     "slide_type": "subslide"
    }
   },
   "source": [
    "## Metaprogramming"
   ]
  },
  {
   "cell_type": "code",
   "execution_count": 13,
   "metadata": {
    "slideshow": {
     "slide_type": "-"
    }
   },
   "outputs": [
    {
     "data": {
      "text/plain": [
       "@twice (macro with 1 method)"
      ]
     },
     "execution_count": 13,
     "metadata": {},
     "output_type": "execute_result"
    }
   ],
   "source": [
    "macro twice(ex)\n",
    "    Expr(:block, esc(ex), esc(ex))\n",
    "end"
   ]
  },
  {
   "cell_type": "code",
   "execution_count": 14,
   "metadata": {
    "slideshow": {
     "slide_type": "-"
    }
   },
   "outputs": [
    {
     "data": {
      "text/plain": [
       "5"
      ]
     },
     "execution_count": 14,
     "metadata": {},
     "output_type": "execute_result"
    }
   ],
   "source": [
    "x=3;\n",
    "@twice x+=1\n",
    "x"
   ]
  },
  {
   "cell_type": "code",
   "execution_count": 15,
   "metadata": {
    "slideshow": {
     "slide_type": "-"
    }
   },
   "outputs": [
    {
     "data": {
      "text/plain": [
       "quote \n",
       "    x += 1\n",
       "    x += 1\n",
       "end"
      ]
     },
     "execution_count": 15,
     "metadata": {},
     "output_type": "execute_result"
    }
   ],
   "source": [
    "macroexpand(:(@twice x+=1))"
   ]
  },
  {
   "cell_type": "markdown",
   "metadata": {
    "slideshow": {
     "slide_type": "slide"
    }
   },
   "source": [
    "# TensorKit.jl\n"
   ]
  },
  {
   "cell_type": "code",
   "execution_count": 16,
   "metadata": {
    "slideshow": {
     "slide_type": "skip"
    }
   },
   "outputs": [
    {
     "name": "stderr",
     "output_type": "stream",
     "text": [
      "WARNING: could not import LinAlg.exp! into TensorKit\n",
      "WARNING: Method definition (::Type{Array{T, N} where N})(Base.LinAlg.UniformScaling{T} where T<:Number, Tuple{Int64, Int64}) in module Compat at /Users/jutho/.julia/v0.6/Compat/src/Compat.jl:922 overwritten in module TensorKit at /Users/jutho/.julia/v0.6/TensorKit/src/TensorKit.jl:119.\n",
      "WARNING: Method definition (::Type{Array{T, N} where N})(Base.LinAlg.UniformScaling{T} where T<:Number, Integer, Integer) in module Compat at /Users/jutho/.julia/v0.6/Compat/src/Compat.jl:923 overwritten in module TensorKit at /Users/jutho/.julia/v0.6/TensorKit/src/TensorKit.jl:120.\n",
      "WARNING: Method definition (::Type{Array{T, 2}})(Base.LinAlg.UniformScaling{T} where T<:Number, Tuple{Int64, Int64}) in module Compat at /Users/jutho/.julia/v0.6/Compat/src/Compat.jl:903 overwritten in module TensorKit at /Users/jutho/.julia/v0.6/TensorKit/src/TensorKit.jl:122.\n",
      "WARNING: Method definition (::Type{Array{T, 2}})(Base.LinAlg.UniformScaling{T} where T<:Number, Integer, Integer) in module Compat at /Users/jutho/.julia/v0.6/Compat/src/Compat.jl:904 overwritten in module TensorKit at /Users/jutho/.julia/v0.6/TensorKit/src/TensorKit.jl:123.\n"
     ]
    }
   ],
   "source": [
    "using Revise\n",
    "using TensorKit\n",
    "using TensorOperations.@optimalcontractiontree"
   ]
  },
  {
   "cell_type": "markdown",
   "metadata": {
    "slideshow": {
     "slide_type": "subslide"
    }
   },
   "source": [
    "## General tensors (without symmetries)"
   ]
  },
  {
   "cell_type": "code",
   "execution_count": 17,
   "metadata": {},
   "outputs": [
    {
     "data": {
      "text/plain": [
       "TensorMap((ℂ^4 ⊗ ℂ^2) ← (ℂ^3 ⊗ ℂ^2)):\n",
       "[:, :, 1, 1] =\n",
       "  0.0312438  -0.210017\n",
       "  0.0601861   0.12207 \n",
       " -0.0771344  -0.65382 \n",
       " -0.0610272   0.706569\n",
       "\n",
       "[:, :, 2, 1] =\n",
       " -0.225436   0.17414 \n",
       " -0.243116  -0.459363\n",
       " -0.177601   0.091665\n",
       "  0.724433   0.289803\n",
       "\n",
       "[:, :, 3, 1] =\n",
       " -0.177359   -0.825418 \n",
       " -0.342269    0.28757  \n",
       " -0.0450495   0.216373 \n",
       "  0.190785   -0.0462469\n",
       "\n",
       "[:, :, 1, 2] =\n",
       " -0.581861  0.0401665\n",
       "  0.542701  0.18495  \n",
       " -0.109522  0.436191 \n",
       " -0.110039  0.341655 \n",
       "\n",
       "[:, :, 2, 2] =\n",
       "  0.518423  -0.0479517\n",
       " -0.141276  -0.151231 \n",
       "  0.277309   0.549337 \n",
       " -0.18156    0.523902 \n",
       "\n",
       "[:, :, 3, 2] =\n",
       "  0.477003  -0.0236493\n",
       "  0.228581   0.174189 \n",
       " -0.806983   0.135042 \n",
       "  0.137927  -0.0289096\n"
      ]
     },
     "execution_count": 17,
     "metadata": {},
     "output_type": "execute_result"
    }
   ],
   "source": [
    "t = TensorMap(randisometry, ℂ^4 ⊗ ℂ^2, ℂ^3 ⊗ ℂ^2) #or randnormal, randuniform"
   ]
  },
  {
   "cell_type": "markdown",
   "metadata": {
    "slideshow": {
     "slide_type": "subslide"
    }
   },
   "source": [
    "## General tensors (without symmetries)\n",
    "\n",
    "* Permuting `TensorMap` indices (between range and domain)"
   ]
  },
  {
   "cell_type": "code",
   "execution_count": 18,
   "metadata": {
    "slideshow": {
     "slide_type": "-"
    }
   },
   "outputs": [
    {
     "data": {
      "text/plain": [
       "TensorMap((ℂ^4 ⊗ (ℂ^3)') ← (ℂ^2 ⊗ (ℂ^2)')):\n",
       "[:, :, 1, 1] =\n",
       "  0.0312438  -0.225436  -0.177359 \n",
       "  0.0601861  -0.243116  -0.342269 \n",
       " -0.0771344  -0.177601  -0.0450495\n",
       " -0.0610272   0.724433   0.190785 \n",
       "\n",
       "[:, :, 2, 1] =\n",
       " -0.581861   0.518423   0.477003\n",
       "  0.542701  -0.141276   0.228581\n",
       " -0.109522   0.277309  -0.806983\n",
       " -0.110039  -0.18156    0.137927\n",
       "\n",
       "[:, :, 1, 2] =\n",
       " -0.210017   0.17414   -0.825418 \n",
       "  0.12207   -0.459363   0.28757  \n",
       " -0.65382    0.091665   0.216373 \n",
       "  0.706569   0.289803  -0.0462469\n",
       "\n",
       "[:, :, 2, 2] =\n",
       " 0.0401665  -0.0479517  -0.0236493\n",
       " 0.18495    -0.151231    0.174189 \n",
       " 0.436191    0.549337    0.135042 \n",
       " 0.341655    0.523902   -0.0289096\n"
      ]
     },
     "execution_count": 18,
     "metadata": {},
     "output_type": "execute_result"
    }
   ],
   "source": [
    "permuteind(t, (1,3),(4,2))"
   ]
  },
  {
   "cell_type": "markdown",
   "metadata": {
    "slideshow": {
     "slide_type": "subslide"
    }
   },
   "source": [
    "## General tensors (without symmetries)\n",
    "\n",
    "* Tensor Factorization:"
   ]
  },
  {
   "cell_type": "code",
   "execution_count": 19,
   "metadata": {
    "slideshow": {
     "slide_type": "-"
    }
   },
   "outputs": [
    {
     "ename": "LoadError",
     "evalue": "\u001b[91mMethodError: no method matching resize!(::Strided.StridedView{Float64,1,Array{Float64,1},Base.#identity}, ::Int64)\u001b[0m\nClosest candidates are:\n  resize!(\u001b[91m::Array{T,1} where T\u001b[39m, ::Integer) at array.jl:772\n  resize!(\u001b[91m::BitArray{1}\u001b[39m, ::Integer) at bitarray.jl:825\u001b[39m",
     "output_type": "error",
     "traceback": [
      "\u001b[91mMethodError: no method matching resize!(::Strided.StridedView{Float64,1,Array{Float64,1},Base.#identity}, ::Int64)\u001b[0m\nClosest candidates are:\n  resize!(\u001b[91m::Array{T,1} where T\u001b[39m, ::Integer) at array.jl:772\n  resize!(\u001b[91m::BitArray{1}\u001b[39m, ::Integer) at bitarray.jl:825\u001b[39m",
      "",
      "Stacktrace:",
      " [1] \u001b[1m_truncate!\u001b[22m\u001b[22m\u001b[1m(\u001b[22m\u001b[22m::Strided.StridedView{Float64,1,Array{Float64,1},Base.#identity}, ::TensorKit.TruncationError{Float64}, ::Int64\u001b[1m)\u001b[22m\u001b[22m at \u001b[1m/Users/jutho/.julia/v0.6/TensorKit/src/tensors/tensor.jl:581\u001b[22m\u001b[22m",
      " [2] \u001b[1msvd!\u001b[22m\u001b[22m\u001b[1m(\u001b[22m\u001b[22m::TensorKit.TensorMap{ComplexSpace,2,2,Strided.StridedView{Float64,2,Array{Float64,2},Base.#identity},Trivial,Void,Void}, ::TensorKit.TruncationError{Float64}, ::Int64\u001b[1m)\u001b[22m\u001b[22m at \u001b[1m/Users/jutho/.julia/v0.6/TensorKit/src/tensors/tensor.jl:500\u001b[22m\u001b[22m",
      " [3] \u001b[1msvd\u001b[22m\u001b[22m\u001b[1m(\u001b[22m\u001b[22m::TensorKit.TensorMap{ComplexSpace,2,2,Strided.StridedView{Float64,2,Array{Float64,2},Base.#identity},Trivial,Void,Void}, ::Tuple{Int64,Int64}, ::Tuple{Int64,Int64}, ::TensorKit.TruncationError{Float64}\u001b[1m)\u001b[22m\u001b[22m at \u001b[1m/Users/jutho/.julia/v0.6/TensorKit/src/tensors/factorizations.jl:26\u001b[22m\u001b[22m",
      " [4] \u001b[1minclude_string\u001b[22m\u001b[22m\u001b[1m(\u001b[22m\u001b[22m::String, ::String\u001b[1m)\u001b[22m\u001b[22m at \u001b[1m./loading.jl:522\u001b[22m\u001b[22m"
     ]
    }
   ],
   "source": [
    "U,S,V = svd(t,(1,3),(4,2),truncerr(0.5)) # or qr, ..., \n",
    "S"
   ]
  },
  {
   "cell_type": "markdown",
   "metadata": {
    "slideshow": {
     "slide_type": "subslide"
    }
   },
   "source": [
    "## Symmetries"
   ]
  },
  {
   "cell_type": "code",
   "execution_count": 20,
   "metadata": {},
   "outputs": [
    {
     "name": "stdout",
     "output_type": "stream",
     "text": [
      "c = U₁(1//1)\n",
      "dual(c) = U₁(-1//1)\n",
      "one(c) = U₁(0//1)\n",
      "collect(c ⊗ c) = U₁[2//1]\n",
      "s = SU₂(1//1)\n",
      "dual(s) = SU₂(1//1)\n",
      "one(s) = SU₂(0//1)\n",
      "collect(s ⊗ s) = SU₂[0//1, 1//1, 2//1]\n",
      "n = (U₁(1//1) × SU₂(1//1))\n",
      "dual(n) = (U₁(-1//1) × SU₂(1//1))\n",
      "one(n) = (U₁(0//1) × SU₂(0//1))\n",
      "collect(n ⊗ n) = (U₁ × SU₂)[(2//1, 0//1), (2//1, 1//1), (2//1, 2//1)]\n"
     ]
    }
   ],
   "source": [
    "c = U1Irrep(1)\n",
    "@show c\n",
    "@show dual(c)\n",
    "@show one(c)\n",
    "@show collect(c ⊗ c)\n",
    "s = SU2Irrep(1)\n",
    "@show s\n",
    "@show dual(s)\n",
    "@show one(s)\n",
    "@show collect(s ⊗ s);\n",
    "n = c × s\n",
    "@show n\n",
    "@show dual(n)\n",
    "@show one(n)\n",
    "@show collect(n ⊗ n);"
   ]
  },
  {
   "cell_type": "markdown",
   "metadata": {
    "slideshow": {
     "slide_type": "subslide"
    }
   },
   "source": [
    "### Symmetries and fusion trees"
   ]
  },
  {
   "cell_type": "code",
   "execution_count": 21,
   "metadata": {},
   "outputs": [
    {
     "data": {
      "text/plain": [
       "1-element Array{TensorKit.FusionTree{U₁,5,3,4,Void},1}:\n",
       " FusionTree{U₁}((1//1, -1//1, 1//1, -1//1, 1//1), 1//1, (0//1, 1//1, 0//1))"
      ]
     },
     "execution_count": 21,
     "metadata": {},
     "output_type": "execute_result"
    }
   ],
   "source": [
    "collect(fusiontrees((c,conj(c),c,conj(c),c),c))"
   ]
  },
  {
   "cell_type": "code",
   "execution_count": 22,
   "metadata": {},
   "outputs": [
    {
     "data": {
      "text/plain": [
       "15-element Array{TensorKit.FusionTree{SU₂,5,3,4,Void},1}:\n",
       " FusionTree{SU₂}((1//1, 1//1, 1//1, 1//1, 1//1), 1//1, (0//1, 1//1, 0//1))\n",
       " FusionTree{SU₂}((1//1, 1//1, 1//1, 1//1, 1//1), 1//1, (0//1, 1//1, 1//1))\n",
       " FusionTree{SU₂}((1//1, 1//1, 1//1, 1//1, 1//1), 1//1, (0//1, 1//1, 2//1))\n",
       " FusionTree{SU₂}((1//1, 1//1, 1//1, 1//1, 1//1), 1//1, (1//1, 0//1, 1//1))\n",
       " FusionTree{SU₂}((1//1, 1//1, 1//1, 1//1, 1//1), 1//1, (1//1, 1//1, 0//1))\n",
       " FusionTree{SU₂}((1//1, 1//1, 1//1, 1//1, 1//1), 1//1, (1//1, 1//1, 1//1))\n",
       " FusionTree{SU₂}((1//1, 1//1, 1//1, 1//1, 1//1), 1//1, (1//1, 1//1, 2//1))\n",
       " FusionTree{SU₂}((1//1, 1//1, 1//1, 1//1, 1//1), 1//1, (1//1, 2//1, 1//1))\n",
       " FusionTree{SU₂}((1//1, 1//1, 1//1, 1//1, 1//1), 1//1, (1//1, 2//1, 2//1))\n",
       " FusionTree{SU₂}((1//1, 1//1, 1//1, 1//1, 1//1), 1//1, (2//1, 1//1, 0//1))\n",
       " FusionTree{SU₂}((1//1, 1//1, 1//1, 1//1, 1//1), 1//1, (2//1, 1//1, 1//1))\n",
       " FusionTree{SU₂}((1//1, 1//1, 1//1, 1//1, 1//1), 1//1, (2//1, 1//1, 2//1))\n",
       " FusionTree{SU₂}((1//1, 1//1, 1//1, 1//1, 1//1), 1//1, (2//1, 2//1, 1//1))\n",
       " FusionTree{SU₂}((1//1, 1//1, 1//1, 1//1, 1//1), 1//1, (2//1, 2//1, 2//1))\n",
       " FusionTree{SU₂}((1//1, 1//1, 1//1, 1//1, 1//1), 1//1, (2//1, 3//1, 2//1))"
      ]
     },
     "execution_count": 22,
     "metadata": {},
     "output_type": "execute_result"
    }
   ],
   "source": [
    "collect(fusiontrees((s,s,s,s,s),s))"
   ]
  },
  {
   "cell_type": "markdown",
   "metadata": {
    "slideshow": {
     "slide_type": "subslide"
    }
   },
   "source": [
    "### Symmetries and fusion trees"
   ]
  },
  {
   "cell_type": "code",
   "execution_count": 23,
   "metadata": {},
   "outputs": [
    {
     "data": {
      "text/plain": [
       "15-element Array{TensorKit.FusionTree{(U₁ × SU₂),5,3,4,Void},1}:\n",
       " FusionTree{(U₁ × SU₂)}(((1//1, 1//1), (-1//1, 1//1), (1//1, 1//1), (-1//1, 1//1), (1//1, 1//1)), (1//1, 1//1), ((0//1, 0//1), (1//1, 1//1), (0//1, 0//1)))\n",
       " FusionTree{(U₁ × SU₂)}(((1//1, 1//1), (-1//1, 1//1), (1//1, 1//1), (-1//1, 1//1), (1//1, 1//1)), (1//1, 1//1), ((0//1, 0//1), (1//1, 1//1), (0//1, 1//1)))\n",
       " FusionTree{(U₁ × SU₂)}(((1//1, 1//1), (-1//1, 1//1), (1//1, 1//1), (-1//1, 1//1), (1//1, 1//1)), (1//1, 1//1), ((0//1, 0//1), (1//1, 1//1), (0//1, 2//1)))\n",
       " FusionTree{(U₁ × SU₂)}(((1//1, 1//1), (-1//1, 1//1), (1//1, 1//1), (-1//1, 1//1), (1//1, 1//1)), (1//1, 1//1), ((0//1, 1//1), (1//1, 0//1), (0//1, 1//1)))\n",
       " FusionTree{(U₁ × SU₂)}(((1//1, 1//1), (-1//1, 1//1), (1//1, 1//1), (-1//1, 1//1), (1//1, 1//1)), (1//1, 1//1), ((0//1, 1//1), (1//1, 1//1), (0//1, 0//1)))\n",
       " FusionTree{(U₁ × SU₂)}(((1//1, 1//1), (-1//1, 1//1), (1//1, 1//1), (-1//1, 1//1), (1//1, 1//1)), (1//1, 1//1), ((0//1, 1//1), (1//1, 1//1), (0//1, 1//1)))\n",
       " FusionTree{(U₁ × SU₂)}(((1//1, 1//1), (-1//1, 1//1), (1//1, 1//1), (-1//1, 1//1), (1//1, 1//1)), (1//1, 1//1), ((0//1, 1//1), (1//1, 1//1), (0//1, 2//1)))\n",
       " FusionTree{(U₁ × SU₂)}(((1//1, 1//1), (-1//1, 1//1), (1//1, 1//1), (-1//1, 1//1), (1//1, 1//1)), (1//1, 1//1), ((0//1, 1//1), (1//1, 2//1), (0//1, 1//1)))\n",
       " FusionTree{(U₁ × SU₂)}(((1//1, 1//1), (-1//1, 1//1), (1//1, 1//1), (-1//1, 1//1), (1//1, 1//1)), (1//1, 1//1), ((0//1, 1//1), (1//1, 2//1), (0//1, 2//1)))\n",
       " FusionTree{(U₁ × SU₂)}(((1//1, 1//1), (-1//1, 1//1), (1//1, 1//1), (-1//1, 1//1), (1//1, 1//1)), (1//1, 1//1), ((0//1, 2//1), (1//1, 1//1), (0//1, 0//1)))\n",
       " FusionTree{(U₁ × SU₂)}(((1//1, 1//1), (-1//1, 1//1), (1//1, 1//1), (-1//1, 1//1), (1//1, 1//1)), (1//1, 1//1), ((0//1, 2//1), (1//1, 1//1), (0//1, 1//1)))\n",
       " FusionTree{(U₁ × SU₂)}(((1//1, 1//1), (-1//1, 1//1), (1//1, 1//1), (-1//1, 1//1), (1//1, 1//1)), (1//1, 1//1), ((0//1, 2//1), (1//1, 1//1), (0//1, 2//1)))\n",
       " FusionTree{(U₁ × SU₂)}(((1//1, 1//1), (-1//1, 1//1), (1//1, 1//1), (-1//1, 1//1), (1//1, 1//1)), (1//1, 1//1), ((0//1, 2//1), (1//1, 2//1), (0//1, 1//1)))\n",
       " FusionTree{(U₁ × SU₂)}(((1//1, 1//1), (-1//1, 1//1), (1//1, 1//1), (-1//1, 1//1), (1//1, 1//1)), (1//1, 1//1), ((0//1, 2//1), (1//1, 2//1), (0//1, 2//1)))\n",
       " FusionTree{(U₁ × SU₂)}(((1//1, 1//1), (-1//1, 1//1), (1//1, 1//1), (-1//1, 1//1), (1//1, 1//1)), (1//1, 1//1), ((0//1, 2//1), (1//1, 3//1), (0//1, 2//1)))"
      ]
     },
     "execution_count": 23,
     "metadata": {},
     "output_type": "execute_result"
    }
   ],
   "source": [
    "collect(fusiontrees((n,dual(n),n,dual(n),n),n))"
   ]
  },
  {
   "cell_type": "markdown",
   "metadata": {
    "slideshow": {
     "slide_type": "subslide"
    }
   },
   "source": [
    "## Symmetries and representation spaces"
   ]
  },
  {
   "cell_type": "code",
   "execution_count": 24,
   "metadata": {},
   "outputs": [
    {
     "name": "stdout",
     "output_type": "stream",
     "text": [
      "V1 = RepresentationSpace{ℤ₂}(0=>3, 1=>4)\n",
      "V2 = RepresentationSpace{U₁}(0//1=>3, 1//1=>2, -1//1=>2)\n",
      "V3 = RepresentationSpace{SU₂}(0//1=>1, 1//2=>2, 1//1=>1)\n",
      "V4 = RepresentationSpace{(ℤ₂ × ℤ₂)}((0, 0)=>3, (1, 0)=>2, (0, 1)=>2, (1, 1)=>1)\n",
      "dim(V1) = 7\n",
      "dims(W1, (c, c, c)) = (3, 3, 3)\n",
      "dim(W1, (c, c, c)) = 27\n",
      "collect(TensorKit.blocksectors(W2)) = U₁[0//1, 1//1, -1//1, 2//1, -2//1, 3//1, -3//1]\n"
     ]
    }
   ],
   "source": [
    "V1 = Z2Space(3,4)\n",
    "V2 = U1Space(0=>3,1=>2,-1=>2)\n",
    "V3 = SU2Space(0=>1,1/2=>2,1=>1)\n",
    "V4 = RepresentationSpace{ℤ₂×ℤ₂}((0,0)=>3,(1,0)=>2,(0,1)=>2,(1,1)=>1)\n",
    "@show V1\n",
    "@show V2\n",
    "@show V3\n",
    "@show V4;\n",
    "W1 = V1 ⊗ V1 ⊗ V1'\n",
    "c = ℤ₂(0)\n",
    "@show dim(V1)\n",
    "@show dims(W1,(c,c,c))\n",
    "@show dim(W1,(c,c,c))\n",
    "W2 = V2 ⊗ V2 ⊗ V2\n",
    "@show collect(TensorKit.blocksectors(W2));"
   ]
  },
  {
   "cell_type": "markdown",
   "metadata": {
    "slideshow": {
     "slide_type": "subslide"
    }
   },
   "source": [
    "### Symmetric tensors"
   ]
  },
  {
   "cell_type": "code",
   "execution_count": 25,
   "metadata": {},
   "outputs": [
    {
     "data": {
      "text/plain": [
       "TensorMap((RepresentationSpace{U₁}(0//1=>3, 1//1=>2, -1//1=>2) ⊗ RepresentationSpace{U₁}(0//1=>4, 1//1=>3, -1//1=>3, 2//1=>2, -2//1=>2) ⊗ RepresentationSpace{U₁}(0//1=>4, 1//1=>3, -1//1=>3, 2//1=>2, -2//1=>2)' ⊗ RepresentationSpace{U₁}(0//1=>3, 1//1=>2, -1//1=>2)') ← ProductSpace{U₁Space,0}()):\n",
       "* Data for sector (U₁(0//1), U₁(0//1), U₁(0//1), U₁(0//1)) ← ():\n",
       "[:, :, 1, 1] =\n",
       "  0.48829     1.20849   -0.373954   0.655721 \n",
       " -0.0328748   0.144397  -2.29702    2.35152  \n",
       " -0.0572206  -1.19095   -0.383219  -0.0455046\n",
       "\n",
       "[:, :, 2, 1] =\n",
       " -1.28738   -1.21872    0.284383    0.771736\n",
       " -2.20188    0.069144   0.0238391  -0.502429\n",
       "  0.982306   1.02042   -2.0276      0.316226\n",
       "\n",
       "[:, :, 3, 1] =\n",
       "  0.695419   0.963833   0.275837  -2.00103  \n",
       " -0.783211  -0.735714  -0.12261   -0.0890856\n",
       "  1.93299   -1.2437     1.30646    1.7517   \n",
       "\n",
       "[:, :, 4, 1] =\n",
       " -0.985491   1.73759   0.337716  -1.16531 \n",
       " -1.1265    -0.572328  0.634778   0.967514\n",
       "  0.554456  -0.654078  1.18396   -0.460801\n",
       "\n",
       "[:, :, 1, 2] =\n",
       " -0.986715   0.143518   1.12474  -0.0166626\n",
       " -0.34831   -1.2075    -1.10449  -1.46309  \n",
       " -0.546888  -1.88534   -1.41742   1.49062  \n",
       "\n",
       "[:, :, 2, 2] =\n",
       " -0.534325  -0.21158    -0.15915    0.554494 \n",
       " -1.04894    0.40083     1.43806   -1.51013  \n",
       " -1.33435   -0.0107286  -0.898082  -0.0224645\n",
       "\n",
       "[:, :, 3, 2] =\n",
       " -0.39601    1.07444    0.344596   0.140219\n",
       "  1.25374   -0.371956  -0.329319   1.04757 \n",
       "  0.143928   0.468209  -0.321604  -0.528563\n",
       "\n",
       "[:, :, 4, 2] =\n",
       " -0.363946  -1.01737   0.362631  -0.863708\n",
       " -0.36228    0.553104  1.92265    0.823489\n",
       "  0.641898   1.02817   0.471383  -1.47271 \n",
       "\n",
       "[:, :, 1, 3] =\n",
       "  1.56656    0.654811   0.733554  -0.844229\n",
       " -0.476988  -0.120641   0.554675  -2.08672 \n",
       " -0.522245   1.29176   -1.14094   -1.08832 \n",
       "\n",
       "[:, :, 2, 3] =\n",
       "  0.172014  -0.71914   -0.634999  -0.346656\n",
       "  0.201231   0.193786   2.25668   -0.773973\n",
       " -0.349593  -1.55622   -0.448674   0.484067\n",
       "\n",
       "[:, :, 3, 3] =\n",
       " 0.244892   -1.57232   -0.757055   0.282396\n",
       " 1.66331     0.169249  -3.12342    0.131662\n",
       " 0.0546379   0.794573  -0.899928  -0.228633\n",
       "\n",
       "[:, :, 4, 3] =\n",
       " -0.314733  -0.639059   1.63214   -0.294796\n",
       " -1.07141   -0.124833  -0.877123   2.20096 \n",
       "  1.02561    0.513694  -0.727277   1.04445 \n",
       "* Data for sector (U₁(-1//1), U₁(1//1), U₁(0//1), U₁(0//1)) ← ():\n",
       "[:, :, 1, 1] =\n",
       "  0.757082  -1.24924    0.928923\n",
       " -0.529004   0.174973  -1.67801 \n",
       "\n",
       "[:, :, 2, 1] =\n",
       " 0.0833378  -0.382806  -1.13592 \n",
       " 1.01291    -0.458086  -0.198872\n",
       "\n",
       "[:, :, 3, 1] =\n",
       "  1.373     -1.00044  -0.305577\n",
       " -0.728402   1.05696   0.446681\n",
       "\n",
       "[:, :, 4, 1] =\n",
       "  1.90129   0.304611  1.46546 \n",
       " -2.35638  -1.26881   0.469874\n",
       "\n",
       "[:, :, 1, 2] =\n",
       " -1.01435   0.529305  -1.14724\n",
       "  1.27967  -0.257016  -1.02695\n",
       "\n",
       "[:, :, 2, 2] =\n",
       " -0.764339   0.772954   -1.57248 \n",
       "  0.137825  -0.0896729   0.318619\n",
       "\n",
       "[:, :, 3, 2] =\n",
       " -1.88224  -0.583821  -1.88951 \n",
       " -1.01899  -0.567828  -0.520215\n",
       "\n",
       "[:, :, 4, 2] =\n",
       " -0.835724  1.2577    0.617862 \n",
       " -0.534893  0.713957  0.0259169\n",
       "\n",
       "[:, :, 1, 3] =\n",
       "  1.43235    1.35683   0.384077\n",
       " -0.473338  -0.399881  0.118302\n",
       "\n",
       "[:, :, 2, 3] =\n",
       " -0.295401   1.63199   -0.721454\n",
       " -1.30767   -0.542905   0.485128\n",
       "\n",
       "[:, :, 3, 3] =\n",
       " -0.20085   0.0611964  -0.743198\n",
       "  1.77573  -0.76304     0.575015\n",
       "\n",
       "[:, :, 4, 3] =\n",
       " -0.599869   0.612533   0.452355 \n",
       " -0.209677  -0.269228  -0.0371936\n",
       "* Data for sector (U₁(1//1), U₁(-1//1), U₁(0//1), U₁(0//1)) ← ():\n",
       "[:, :, 1, 1] =\n",
       "  0.236302  2.2867    -0.424058\n",
       " -0.235518  0.750664  -1.40434 \n",
       "\n",
       "[:, :, 2, 1] =\n",
       " 2.1831     0.806478   0.773392\n",
       " 0.880105  -0.20061   -0.265673\n",
       "\n",
       "[:, :, 3, 1] =\n",
       " -0.518009  -2.0097   -0.828013\n",
       " -1.02743   -1.49772  -0.155286\n",
       "\n",
       "[:, :, 4, 1] =\n",
       " -1.6593     0.950315  -0.294123\n",
       "  0.748073  -0.158964  -0.5337  \n",
       "\n",
       "[:, :, 1, 2] =\n",
       " -1.55342  -1.00202   -1.27429 \n",
       "  1.76426  -0.837594   0.530817\n",
       "\n",
       "[:, :, 2, 2] =\n",
       "  0.00326543   0.0651506   0.572716\n",
       " -0.00479573  -0.896359   -0.908866\n",
       "\n",
       "[:, :, 3, 2] =\n",
       "  1.10548  0.586617  -0.43254\n",
       " -1.65735  1.05282    1.3428 \n",
       "\n",
       "[:, :, 4, 2] =\n",
       " -0.470403  0.394316  -0.19307 \n",
       " -0.672289  1.13544   -0.358001\n",
       "\n",
       "[:, :, 1, 3] =\n",
       " -0.351519   1.07559    0.123706\n",
       " -0.891486  -0.0734945  1.41119 \n",
       "\n",
       "[:, :, 2, 3] =\n",
       " -0.185387   0.458498  -0.659163\n",
       "  0.0720766  1.2344     0.26597 \n",
       "\n",
       "[:, :, 3, 3] =\n",
       " -2.09762   -0.0409632   1.98126\n",
       "  0.173367   2.34036    -1.54643\n",
       "\n",
       "[:, :, 4, 3] =\n",
       "  0.671685  -1.36533   1.03686   \n",
       " -0.15475    0.230548  0.00464475\n",
       "* Data for sector (U₁(1//1), U₁(0//1), U₁(-1//1), U₁(0//1)) ← ():\n",
       "[:, :, 1, 1] =\n",
       " -0.979531  -0.0155025  -0.045159   0.258521\n",
       " -0.709767   1.12665     0.566421  -1.05932 \n",
       "\n",
       "[:, :, 2, 1] =\n",
       "  1.85721  -1.72457  0.488464  -2.80886 \n",
       " -1.73111   1.15862  0.74111    0.142899\n",
       "\n",
       "[:, :, 3, 1] =\n",
       "  0.132977   0.878555   0.301262  2.41611\n",
       " -0.775576  -2.29793   -0.259438  0.48133\n",
       "\n",
       "[:, :, 1, 2] =\n",
       "  1.78053    0.244871  -0.701086  -1.39555\n",
       " -0.167261  -0.359426  -1.11807   -2.38563\n",
       "\n",
       "[:, :, 2, 2] =\n",
       " -0.00527127  -1.39734    -0.454168   0.742403\n",
       "  0.684148     0.0424553   0.197055  -0.540477\n",
       "\n",
       "[:, :, 3, 2] =\n",
       "  1.20199   -0.128677   0.128079    0.594478\n",
       " -0.095311   0.706669  -0.0964695  -0.65947 \n",
       "\n",
       "[:, :, 1, 3] =\n",
       " -1.17975   0.638726  -1.31605    0.165336\n",
       " -0.408519  2.19572   -0.387316  -0.52021 \n",
       "\n",
       "[:, :, 2, 3] =\n",
       " 0.152531  -1.56216  -0.66169  0.371019\n",
       " 0.917488  -0.6482    1.02981  1.38296 \n",
       "\n",
       "[:, :, 3, 3] =\n",
       " -1.71909    0.0946946  -2.18555   0.000883893\n",
       " -0.764927  -2.07787     0.892087  1.89092    \n",
       "* Data for sector (U₁(0//1), U₁(1//1), U₁(-1//1), U₁(0//1)) ← ():\n",
       "[:, :, 1, 1] =\n",
       " -0.337259   0.757748  -0.0250538\n",
       "  0.12313   -0.942399  -0.253085 \n",
       " -0.982396  -0.204991  -0.045594 \n",
       "\n",
       "[:, :, 2, 1] =\n",
       "  0.913388  1.10058    1.90629\n",
       " -1.01197   0.388496   1.85222\n",
       "  0.830355  0.792105  -0.70697\n",
       "\n",
       "[:, :, 3, 1] =\n",
       "  0.558183  -0.0180079   0.174146\n",
       " -0.492539  -0.803235   -0.323015\n",
       "  1.39229    1.53613    -1.64332 \n",
       "\n",
       "[:, :, 1, 2] =\n",
       " 1.01275   0.0285962  -0.185589\n",
       " 1.92624  -0.246644   -0.719998\n",
       " 0.33553  -0.784023    0.762622\n",
       "\n",
       "[:, :, 2, 2] =\n",
       " -0.962033   -0.416009  -1.77406   \n",
       "  1.25169    -1.79816    0.601576  \n",
       " -0.0518902   1.64087    0.00494194\n",
       "\n",
       "[:, :, 3, 2] =\n",
       " -0.219789  0.983018  -0.960302\n",
       " -1.28929   1.17344   -0.837309\n",
       "  0.122042  0.694343   0.726127\n",
       "\n",
       "[:, :, 1, 3] =\n",
       " -1.2772    2.39159   -0.876649\n",
       " -1.80499   1.98671    0.508382\n",
       " -0.544568  0.241573   0.252123\n",
       "\n",
       "[:, :, 2, 3] =\n",
       "  1.42399    0.745757   0.468218\n",
       " -0.436727  -0.676161  -1.19391 \n",
       "  0.243552   1.87976    1.56837 \n",
       "\n",
       "[:, :, 3, 3] =\n",
       " -0.316784  -0.735206  -0.618574\n",
       " -1.23428   -1.2309    -0.604919\n",
       " -1.45938    0.409111   0.690492\n",
       "* Data for sector (U₁(-1//1), U₁(2//1), U₁(-1//1), U₁(0//1)) ← ():\n",
       "[:, :, 1, 1] =\n",
       " 1.75641   -0.411137 \n",
       " 0.344908  -0.0291862\n",
       "\n",
       "[:, :, 2, 1] =\n",
       "  0.82323     1.28089 \n",
       " -0.0794767  -0.595344\n",
       "\n",
       "[:, :, 3, 1] =\n",
       " -0.0548672  0.55923 \n",
       " -0.497464   0.741705\n",
       "\n",
       "[:, :, 1, 2] =\n",
       " -0.648626  -0.672745\n",
       " -2.59689   -1.3504  \n",
       "\n",
       "[:, :, 2, 2] =\n",
       " 0.0223334  -1.26977 \n",
       " 1.20688     0.681524\n",
       "\n",
       "[:, :, 3, 2] =\n",
       " 0.65141      1.76604 \n",
       " 0.00380622  -0.203312\n",
       "\n",
       "[:, :, 1, 3] =\n",
       " -0.414909  -0.4649 \n",
       "  0.271583   0.31896\n",
       "\n",
       "[:, :, 2, 3] =\n",
       " -1.25622   0.378952\n",
       " -1.15739  -0.966095\n",
       "\n",
       "[:, :, 3, 3] =\n",
       " -0.423942  -0.471648\n",
       " -1.18808   -0.781787\n",
       "* Data for sector (U₁(-1//1), U₁(0//1), U₁(1//1), U₁(0//1)) ← ():\n",
       "[:, :, 1, 1] =\n",
       " 0.181905  -0.0246629  -0.829347   2.27249 \n",
       " 0.196675   1.37368    -1.17595   -0.144491\n",
       "\n",
       "[:, :, 2, 1] =\n",
       " -0.316972  -0.470494   0.306974   1.07285 \n",
       " -0.609403   0.334946  -0.916349  -0.318476\n",
       "\n",
       "[:, :, 3, 1] =\n",
       "  0.0726424   0.0977869  -1.10095   0.705906\n",
       " -0.481822   -2.80188     0.733223  0.718796\n",
       "\n",
       "[:, :, 1, 2] =\n",
       " 0.785272  -0.511167  0.420457  -0.576335\n",
       " 0.706843   1.31286   0.217264  -1.95391 \n",
       "\n",
       "[:, :, 2, 2] =\n",
       " -0.373584  0.128835   0.659657   0.304583\n",
       "  0.291358  0.607793  -1.53708   -1.95565 \n",
       "\n",
       "[:, :, 3, 2] =\n",
       " -0.219576  -0.063832  -0.539228  -1.02901\n",
       " -2.05235   -0.526754   1.14972   -1.22701\n",
       "\n",
       "[:, :, 1, 3] =\n",
       "  0.489345   0.176701   0.546431  0.395042\n",
       " -0.66376   -0.0782695  0.74047   0.39051 \n",
       "\n",
       "[:, :, 2, 3] =\n",
       " 1.34443   0.247429  -0.310888  -0.689664\n",
       " 0.185429  0.119906  -0.307112  -0.142334\n",
       "\n",
       "[:, :, 3, 3] =\n",
       " 0.0906549  -0.449644   0.0126199  0.440252\n",
       " 0.459384    0.118331  -0.203438   1.8379  \n",
       "* Data for sector (U₁(0//1), U₁(-1//1), U₁(1//1), U₁(0//1)) ← ():\n",
       "[:, :, 1, 1] =\n",
       "  0.13369   -2.01267    -0.168008\n",
       " -1.40112    0.709763    0.674759\n",
       " -0.431278   0.0297532   1.76199 \n",
       "\n",
       "[:, :, 2, 1] =\n",
       " 0.30807    0.473347  0.128147\n",
       " 0.983767   0.768832  1.79326 \n",
       " 0.958259  -0.496663  1.0249  \n",
       "\n",
       "[:, :, 3, 1] =\n",
       "  0.352325  -1.58711   -0.697752\n",
       " -0.27282    0.460978   0.689061\n",
       " -0.38647    0.441474  -0.629833\n",
       "\n",
       "[:, :, 1, 2] =\n",
       " 0.784554   0.909939  -1.58003 \n",
       " 0.498788  -1.11512   -0.497913\n",
       " 1.09662   -1.45834   -0.315821\n",
       "\n",
       "[:, :, 2, 2] =\n",
       "  1.62819    1.32047    0.654956\n",
       "  0.46839   -0.655095  -0.389946\n",
       " -0.513276  -0.310921   0.272607\n",
       "\n",
       "[:, :, 3, 2] =\n",
       " 0.776384   1.01585   -1.77469 \n",
       " 0.51394   -1.21365   -0.567539\n",
       " 1.99691    0.728637  -1.2601  \n",
       "\n",
       "[:, :, 1, 3] =\n",
       "  1.4846   -1.38625    2.21007 \n",
       "  1.13195   1.83124    1.58723 \n",
       " -1.19361  -0.353016  -0.743817\n",
       "\n",
       "[:, :, 2, 3] =\n",
       " 0.0774834  -0.374792    0.49883 \n",
       " 0.35182    -0.0417872   0.673046\n",
       " 1.76918    -1.68196    -0.16357 \n",
       "\n",
       "[:, :, 3, 3] =\n",
       " -1.51637   0.41586    0.775728\n",
       " -1.22632  -0.423015  -2.26113 \n",
       " -1.86359  -0.408395   2.12425 \n",
       "* Data for sector (U₁(1//1), U₁(-2//1), U₁(1//1), U₁(0//1)) ← ():\n",
       "[:, :, 1, 1] =\n",
       " -0.215408  -0.357671\n",
       " -0.13841   -1.58053 \n",
       "\n",
       "[:, :, 2, 1] =\n",
       " -1.69232  -0.544638\n",
       "  1.97759   0.70179 \n",
       "\n",
       "[:, :, 3, 1] =\n",
       " 1.03176   0.75771 \n",
       " 1.04033  -0.127205\n",
       "\n",
       "[:, :, 1, 2] =\n",
       " -2.08089   -2.69986\n",
       " -0.465552  -1.91251\n",
       "\n",
       "[:, :, 2, 2] =\n",
       " -0.605483   0.210771\n",
       " -1.15082   -0.586352\n",
       "\n",
       "[:, :, 3, 2] =\n",
       "  1.55864   0.285031\n",
       " -0.753447  0.338305\n",
       "\n",
       "[:, :, 1, 3] =\n",
       "  0.232269    0.537472\n",
       " -0.0240361  -0.226196\n",
       "\n",
       "[:, :, 2, 3] =\n",
       " -0.96485   0.873773\n",
       " -1.62625  -1.13606 \n",
       "\n",
       "[:, :, 3, 3] =\n",
       " -0.637505  -1.6491 \n",
       " -0.311642  -1.43487\n",
       "* Data for sector (U₁(1//1), U₁(1//1), U₁(-2//1), U₁(0//1)) ← ():\n",
       "[:, :, 1, 1] =\n",
       " -2.382    1.43839  -0.653918\n",
       "  2.40767  1.27329  -1.33215 \n",
       "\n",
       "[:, :, 2, 1] =\n",
       "  0.850045  -0.333826  -0.739842\n",
       " -1.81158    0.247718   1.16584 \n",
       "\n",
       "[:, :, 1, 2] =\n",
       "  0.775912  -0.545412  -1.44122\n",
       " -0.922587  -1.27718    2.21113\n",
       "\n",
       "[:, :, 2, 2] =\n",
       " -0.134013  1.1067    0.698981 \n",
       " -1.05219   1.78836  -0.0785065\n",
       "\n",
       "[:, :, 1, 3] =\n",
       " 1.02021   -0.157152   0.418725\n",
       " 0.566625   0.441697  -0.788063\n",
       "\n",
       "[:, :, 2, 3] =\n",
       " 0.258826  1.71808     0.636769\n",
       " 0.998255  0.0860424  -0.684958\n",
       "* Data for sector (U₁(0//1), U₁(2//1), U₁(-2//1), U₁(0//1)) ← ():\n",
       "[:, :, 1, 1] =\n",
       "  1.29218   -0.441335\n",
       "  0.438398  -0.962758\n",
       " -0.493694  -0.732996\n",
       "\n",
       "[:, :, 2, 1] =\n",
       " 0.537573  1.26959\n",
       " 2.87496   1.48402\n",
       " 0.398654  1.46755\n",
       "\n",
       "[:, :, 1, 2] =\n",
       "  0.329348  -1.19762 \n",
       " -0.770136  -0.578762\n",
       " -1.04655   -0.546201\n",
       "\n",
       "[:, :, 2, 2] =\n",
       " -0.0679055  -1.1868 \n",
       "  0.56109     1.07092\n",
       "  0.965858    1.19989\n",
       "\n",
       "[:, :, 1, 3] =\n",
       " -2.00138   1.35478 \n",
       "  0.846267  1.12233 \n",
       " -0.481545  0.458529\n",
       "\n",
       "[:, :, 2, 3] =\n",
       " 0.526467  -1.38382 \n",
       " 2.39424   -1.00444 \n",
       " 0.239291  -0.389629\n",
       "* Data for sector (U₁(-1//1), U₁(-1//1), U₁(2//1), U₁(0//1)) ← ():\n",
       "[:, :, 1, 1] =\n",
       "  0.834251  2.68721   -1.25941\n",
       " -0.755578  0.871391   2.88605\n",
       "\n",
       "[:, :, 2, 1] =\n",
       "  1.04526  0.386576   0.0846 \n",
       " -1.08258  0.387767  -1.12136\n",
       "\n",
       "[:, :, 1, 2] =\n",
       " -0.943528  -0.62075   0.380062\n",
       "  0.76781    1.07463  -0.939671\n",
       "\n",
       "[:, :, 2, 2] =\n",
       " 0.380144  -1.774     -0.379907\n",
       " 0.673263  -0.602458   0.594978\n",
       "\n",
       "[:, :, 1, 3] =\n",
       " 1.15413  0.194528  1.71861\n",
       " 1.17635  0.223393  1.24008\n",
       "\n",
       "[:, :, 2, 3] =\n",
       "  1.68052   -0.0741455  0.963756\n",
       " -0.585621   0.480784   0.784291\n",
       "* Data for sector (U₁(0//1), U₁(-2//1), U₁(2//1), U₁(0//1)) ← ():\n",
       "[:, :, 1, 1] =\n",
       "  1.20099   -0.867713\n",
       " -0.956684  -0.36813 \n",
       "  0.254608   0.19065 \n",
       "\n",
       "[:, :, 2, 1] =\n",
       "  0.262446   0.375758 \n",
       "  1.35963    0.399766 \n",
       " -3.3914    -0.0562497\n",
       "\n",
       "[:, :, 1, 2] =\n",
       " -1.36839    0.299271\n",
       "  1.09793    1.39925 \n",
       " -0.491192  -0.359941\n",
       "\n",
       "[:, :, 2, 2] =\n",
       " -0.911283  -0.389715 \n",
       "  0.286489  -0.405635 \n",
       " -0.867043  -0.0649919\n",
       "\n",
       "[:, :, 1, 3] =\n",
       " -0.0183349  1.02019 \n",
       " -0.943538   0.668353\n",
       " -2.00364    1.45415 \n",
       "\n",
       "[:, :, 2, 3] =\n",
       " -1.35441    0.680545\n",
       " -0.696057  -0.74873 \n",
       "  0.496718   1.37847 \n",
       "* Data for sector (U₁(1//1), U₁(0//1), U₁(0//1), U₁(-1//1)) ← ():\n",
       "[:, :, 1, 1] =\n",
       " 0.390864  -0.573271  -0.98126   0.417062\n",
       " 1.00931    1.33149   -2.69353  -1.23338 \n",
       "\n",
       "[:, :, 2, 1] =\n",
       "  0.170419   0.555765   0.733093  -0.547949\n",
       " -0.0946889  1.00724   -0.345665   0.527816\n",
       "\n",
       "[:, :, 3, 1] =\n",
       " 1.22348   -0.356211  -0.767958   0.877708\n",
       " 0.100686   0.46186    1.30309   -0.856244\n",
       "\n",
       "[:, :, 4, 1] =\n",
       " -1.73263   -0.0353142   0.552619  -0.297146 \n",
       "  0.933187  -0.00911742  0.958598   0.0633096\n",
       "\n",
       "[:, :, 1, 2] =\n",
       " -1.24486  -1.7178    0.852423  0.202057\n",
       "  1.29735   0.764848  0.709829  0.966227\n",
       "\n",
       "[:, :, 2, 2] =\n",
       "  0.050487  0.155578  -0.282663  0.284568\n",
       " -0.215903  0.534032   0.934843  0.5628  \n",
       "\n",
       "[:, :, 3, 2] =\n",
       " -0.0658785  1.10444  -0.694774  -1.02271 \n",
       "  0.963203   1.1195   -0.183461  -0.565852\n",
       "\n",
       "[:, :, 4, 2] =\n",
       "  2.08504   -0.37466    1.10615    -0.177852\n",
       " -0.675002   0.906025  -0.0784731   0.190301\n",
       "* Data for sector (U₁(0//1), U₁(1//1), U₁(0//1), U₁(-1//1)) ← ():\n",
       "[:, :, 1, 1] =\n",
       " -0.0157671  -0.691913  -0.573327\n",
       "  1.14291    -0.364307   1.23371 \n",
       " -1.2545      0.589687  -0.136298\n",
       "\n",
       "[:, :, 2, 1] =\n",
       " -0.540951   0.814212    0.665623 \n",
       "  0.203814  -0.0340334  -0.0599962\n",
       "  0.793184  -1.93759     0.0669929\n",
       "\n",
       "[:, :, 3, 1] =\n",
       "  0.758829    1.76496     0.593172\n",
       " -0.0904178  -0.0955981  -0.217247\n",
       " -0.219561   -0.250753    1.33394 \n",
       "\n",
       "[:, :, 4, 1] =\n",
       "  0.190973   0.621804  -0.440544\n",
       " -0.675124  -0.494479   0.569451\n",
       "  0.17479    0.968055   0.705575\n",
       "\n",
       "[:, :, 1, 2] =\n",
       " -0.130273  2.05611   0.534539\n",
       "  0.985291  2.45671  -0.163197\n",
       "  0.343917  1.84353  -1.34518 \n",
       "\n",
       "[:, :, 2, 2] =\n",
       "  0.520249   -0.38951    0.643043\n",
       " -0.0436407  -0.371499   1.04949 \n",
       "  0.680725   -0.356138  -0.424824\n",
       "\n",
       "[:, :, 3, 2] =\n",
       " -0.993696  -0.0499759   0.943093\n",
       " -2.3572    -0.332681   -0.769192\n",
       " -1.41867   -0.735174    0.183515\n",
       "\n",
       "[:, :, 4, 2] =\n",
       " -0.683424  -1.47826   -0.740949\n",
       "  0.161332   0.148671   0.530615\n",
       " -0.176302  -0.976092  -1.24087 \n",
       "* Data for sector (U₁(-1//1), U₁(2//1), U₁(0//1), U₁(-1//1)) ← ():\n",
       "[:, :, 1, 1] =\n",
       "  0.202051  2.06114 \n",
       " -0.145313  0.166597\n",
       "\n",
       "[:, :, 2, 1] =\n",
       " -0.987042  -0.492953\n",
       " -1.0708     0.277717\n",
       "\n",
       "[:, :, 3, 1] =\n",
       "  0.0854061  -0.509392\n",
       " -0.915976   -0.328519\n",
       "\n",
       "[:, :, 4, 1] =\n",
       "  0.640276  -0.279297\n",
       " -1.66753   -0.55818 \n",
       "\n",
       "[:, :, 1, 2] =\n",
       " -0.241054  0.483389\n",
       " -1.59538   0.87704 \n",
       "\n",
       "[:, :, 2, 2] =\n",
       " 0.0802954  -0.556037\n",
       " 0.60847     0.715757\n",
       "\n",
       "[:, :, 3, 2] =\n",
       "  1.0807    0.0396257\n",
       " -1.20803  -0.397602 \n",
       "\n",
       "[:, :, 4, 2] =\n",
       "  1.48152  -0.24307 \n",
       " -0.7238    0.439282\n",
       "* Data for sector (U₁(1//1), U₁(1//1), U₁(-1//1), U₁(-1//1)) ← ():\n",
       "[:, :, 1, 1] =\n",
       " -1.75495   -1.19125  -1.4899 \n",
       " -0.233747  -1.11984  -0.22323\n",
       "\n",
       "[:, :, 2, 1] =\n",
       " -0.610096  0.265946  2.15788\n",
       " -0.572854  0.675693  0.5383 \n",
       "\n",
       "[:, :, 3, 1] =\n",
       " 0.355341  -1.06689  -1.32467\n",
       " 0.192341  -0.55323   1.82551\n",
       "\n",
       "[:, :, 1, 2] =\n",
       " 0.102903   1.07488  -0.0896737\n",
       " 0.624022  -1.13982   0.809871 \n",
       "\n",
       "[:, :, 2, 2] =\n",
       " -0.562838  -0.933354  -0.248972\n",
       " -0.447999  -0.818387  -0.444605\n",
       "\n",
       "[:, :, 3, 2] =\n",
       "  1.38856   -1.00784  0.0210828\n",
       " -0.227809  -1.04786  0.77565  \n",
       "* Data for sector (U₁(0//1), U₁(2//1), U₁(-1//1), U₁(-1//1)) ← ():\n",
       "[:, :, 1, 1] =\n",
       "  0.485446  1.04614\n",
       "  0.678957  1.15769\n",
       " -0.42696   1.19153\n",
       "\n",
       "[:, :, 2, 1] =\n",
       " 0.0734693   0.487445\n",
       " 1.21274     0.233726\n",
       " 0.399749   -0.757459\n",
       "\n",
       "[:, :, 3, 1] =\n",
       " -0.0680853  0.532756\n",
       "  1.82252    0.147643\n",
       " -0.420801   1.96138 \n",
       "\n",
       "[:, :, 1, 2] =\n",
       "  1.05506   -0.292682\n",
       " -0.635055   1.24519 \n",
       "  0.786282   0.287558\n",
       "\n",
       "[:, :, 2, 2] =\n",
       "  0.389891  -0.8401  \n",
       "  2.12434   -0.490915\n",
       " -0.636398  -0.307786\n",
       "\n",
       "[:, :, 3, 2] =\n",
       " -2.3473      1.42956 \n",
       "  0.626791   -0.647569\n",
       " -0.0547181  -0.545249\n",
       "* Data for sector (U₁(0//1), U₁(0//1), U₁(1//1), U₁(-1//1)) ← ():\n",
       "[:, :, 1, 1] =\n",
       " -2.093     -0.121994   0.0457793   1.46982 \n",
       " -0.878023   2.37772   -0.447197   -0.348003\n",
       " -0.899325  -0.916992   0.291213    0.740309\n",
       "\n",
       "[:, :, 2, 1] =\n",
       "  0.0219189  -0.105539   0.394957   0.916021\n",
       "  1.0749     -0.193148  -0.958821  -0.744255\n",
       " -1.06775    -0.316757  -1.45969   -0.580986\n",
       "\n",
       "[:, :, 3, 1] =\n",
       "  1.26142   -1.80394   -0.383234  0.890368\n",
       " -0.691353  -0.81176   -1.40924   0.396364\n",
       "  0.739808   0.934985  -0.240073  0.040547\n",
       "\n",
       "[:, :, 1, 2] =\n",
       "  0.215577  -0.404486  -0.55401   0.297294\n",
       " -0.307638  -0.474908   1.54136   0.132549\n",
       "  1.07492   -1.47247   -0.55642  -0.374407\n",
       "\n",
       "[:, :, 2, 2] =\n",
       " 0.264706  -1.61128   0.135473   0.769405\n",
       " 0.220538   1.13573  -0.9036     0.110203\n",
       " 1.12122   -1.50742  -2.36607   -0.212972\n",
       "\n",
       "[:, :, 3, 2] =\n",
       " -0.448275   0.54506   0.0202244   0.824767\n",
       " -1.05103   -1.71804   1.28883    -0.780573\n",
       "  0.206956  -0.271164  2.18613    -0.526833\n",
       "* Data for sector (U₁(-1//1), U₁(1//1), U₁(1//1), U₁(-1//1)) ← ():\n",
       "[:, :, 1, 1] =\n",
       "  0.0429032   1.04073   -0.780772\n",
       " -0.0548287  -0.272697   0.966316\n",
       "\n",
       "[:, :, 2, 1] =\n",
       "  1.93677   0.767397  -1.76892 \n",
       " -1.17329  -0.660768   0.923733\n",
       "\n",
       "[:, :, 3, 1] =\n",
       " -0.82022  -0.921064  -0.513753\n",
       " -1.78719   0.741808  -1.14977 \n",
       "\n",
       "[:, :, 1, 2] =\n",
       " -0.00865054   0.483798   -0.234897\n",
       "  1.98848     -0.0445142   0.635518\n",
       "\n",
       "[:, :, 2, 2] =\n",
       " -0.0292148  -0.159472  0.277932\n",
       "  0.676113    0.428729  0.431391\n",
       "\n",
       "[:, :, 3, 2] =\n",
       " -1.07968   -0.678417  -0.990272\n",
       "  0.780165  -1.52617   -1.34576 \n",
       "* Data for sector (U₁(1//1), U₁(-1//1), U₁(1//1), U₁(-1//1)) ← ():\n",
       "[:, :, 1, 1] =\n",
       " -0.625111  -0.0269254  -0.192654\n",
       " -2.51902   -0.202353   -1.65333 \n",
       "\n",
       "[:, :, 2, 1] =\n",
       " 0.152404  -0.427677  -1.88512 \n",
       " 0.873957   1.48457   -0.755018\n",
       "\n",
       "[:, :, 3, 1] =\n",
       " -1.09009   -0.916367  -0.944977\n",
       " -0.950978   0.424299  -1.27935 \n",
       "\n",
       "[:, :, 1, 2] =\n",
       " -2.41799    0.629381  -1.21239 \n",
       "  0.505796  -0.846598   0.182799\n",
       "\n",
       "[:, :, 2, 2] =\n",
       "  0.0563455  -1.00179     1.57273 \n",
       " -0.91224     0.0941942  -0.483988\n",
       "\n",
       "[:, :, 3, 2] =\n",
       " -1.50935  0.506355  -0.087508\n",
       "  0.23712  1.37136   -0.42962 \n",
       "* Data for sector (U₁(1//1), U₁(2//1), U₁(-2//1), U₁(-1//1)) ← ():\n",
       "[:, :, 1, 1] =\n",
       " 0.344037   0.609386\n",
       " 0.0273288  0.919203\n",
       "\n",
       "[:, :, 2, 1] =\n",
       " -1.35627  -0.209018\n",
       "  1.26334  -0.83913 \n",
       "\n",
       "[:, :, 1, 2] =\n",
       " -1.21654     0.941281\n",
       "  0.0885243  -0.245351\n",
       "\n",
       "[:, :, 2, 2] =\n",
       " -0.289495  -0.820372\n",
       " -0.259125  -1.65005 \n",
       "* Data for sector (U₁(-1//1), U₁(0//1), U₁(2//1), U₁(-1//1)) ← ():\n",
       "[:, :, 1, 1] =\n",
       "  0.684806  0.919088  -0.773316  1.75475 \n",
       " -0.458106  0.475437   0.80451   0.806914\n",
       "\n",
       "[:, :, 2, 1] =\n",
       " 0.576298  -0.731066  0.204518  -0.0943841\n",
       " 0.897778  -0.727508  0.423001   0.652807 \n",
       "\n",
       "[:, :, 1, 2] =\n",
       " -1.81689    1.20322   0.662163  -1.09444\n",
       "  0.523135  -1.11133  -0.781417  -1.37601\n",
       "\n",
       "[:, :, 2, 2] =\n",
       " -0.574437  -1.65363   -0.0869889  -0.471367\n",
       "  0.128265   0.738123   1.10986     0.962009\n",
       "* Data for sector (U₁(0//1), U₁(-1//1), U₁(2//1), U₁(-1//1)) ← ():\n",
       "[:, :, 1, 1] =\n",
       " -1.43562  -0.757191  -1.02536 \n",
       "  2.18059   0.463016  -0.733234\n",
       " -1.19948  -0.771931   1.24237 \n",
       "\n",
       "[:, :, 2, 1] =\n",
       " -0.888796   1.27411   -1.67802\n",
       " -0.803913   0.337217   2.01267\n",
       "  0.922204  -0.623586   1.42112\n",
       "\n",
       "[:, :, 1, 2] =\n",
       "  1.18442    -0.996094  -0.360576\n",
       " -0.0132012  -0.863161  -0.909004\n",
       " -0.05992    -0.798753   0.341234\n",
       "\n",
       "[:, :, 2, 2] =\n",
       " -1.16192    -1.60725   -1.72309 \n",
       "  0.580879    0.654048   0.438191\n",
       "  0.0251835  -0.242482   0.725518\n",
       "* Data for sector (U₁(1//1), U₁(-2//1), U₁(2//1), U₁(-1//1)) ← ():\n",
       "[:, :, 1, 1] =\n",
       " 0.367035   1.18688\n",
       " 0.858513  -2.20252\n",
       "\n",
       "[:, :, 2, 1] =\n",
       " -0.717      0.788448\n",
       "  0.792694  -0.431039\n",
       "\n",
       "[:, :, 1, 2] =\n",
       "  0.470781  -1.68577\n",
       " -0.320043  -1.34   \n",
       "\n",
       "[:, :, 2, 2] =\n",
       "  2.61678   -0.754348\n",
       " -0.997565   0.172616\n",
       "* Data for sector (U₁(-1//1), U₁(0//1), U₁(0//1), U₁(1//1)) ← ():\n",
       "[:, :, 1, 1] =\n",
       " -0.291017  0.119339   1.75118   -0.768429\n",
       " -0.173349  0.119245  -0.328944   0.977108\n",
       "\n",
       "[:, :, 2, 1] =\n",
       " -0.582267  0.467836  -1.84873  -0.68351\n",
       " -0.640957  0.968507   1.73339   1.86843\n",
       "\n",
       "[:, :, 3, 1] =\n",
       " -0.984259   1.20997  0.319523  -0.824626\n",
       " -0.181158  -1.41901  1.52439   -1.55468 \n",
       "\n",
       "[:, :, 4, 1] =\n",
       " -0.556285   0.611979  -0.0574492   0.525229\n",
       " -0.260154  -0.406631  -0.478351   -0.536356\n",
       "\n",
       "[:, :, 1, 2] =\n",
       "  0.372583  1.01438  -0.968866  1.17876 \n",
       " -0.151673  1.33456   0.613437  0.573306\n",
       "\n",
       "[:, :, 2, 2] =\n",
       " -1.5031    -0.0596857   1.4344   -0.245323\n",
       "  0.274511   0.847465   -1.82477  -2.17667 \n",
       "\n",
       "[:, :, 3, 2] =\n",
       "  1.46947    0.515618   0.492907   0.598822\n",
       " -0.866153  -0.122187  -1.95945   -0.221722\n",
       "\n",
       "[:, :, 4, 2] =\n",
       "  0.982618  0.710273  0.673727  -0.263214\n",
       " -1.44383   0.45006   0.907178   0.944723\n",
       "* Data for sector (U₁(0//1), U₁(-1//1), U₁(0//1), U₁(1//1)) ← ():\n",
       "[:, :, 1, 1] =\n",
       "  1.39092   0.0879714   1.52637\n",
       " -0.62662   1.58017    -0.50648\n",
       "  0.332526  2.09229     1.2988 \n",
       "\n",
       "[:, :, 2, 1] =\n",
       "  1.09098    -1.32069   1.14086 \n",
       " -0.0549139   2.25463  -0.485222\n",
       " -0.519476    1.67373  -1.81277 \n",
       "\n",
       "[:, :, 3, 1] =\n",
       " -1.10618    0.0713768   0.374115\n",
       " -0.311787  -0.970793   -1.09294 \n",
       " -1.24966   -1.69664    -2.34999 \n",
       "\n",
       "[:, :, 4, 1] =\n",
       " -0.734538  -0.844755   -1.37705 \n",
       " -0.12017   -0.617255   -0.970484\n",
       " -0.196501   0.0425009  -1.00582 \n",
       "\n",
       "[:, :, 1, 2] =\n",
       " -0.709953   -0.281603  -0.295934\n",
       "  0.0964689  -1.07601   -0.968261\n",
       " -1.12228    -1.14989   -0.775773\n",
       "\n",
       "[:, :, 2, 2] =\n",
       "  0.0289298  -2.99454     0.776921\n",
       " -0.134326   -1.06677    -0.291245\n",
       "  1.85838    -0.0701041  -0.615631\n",
       "\n",
       "[:, :, 3, 2] =\n",
       " 0.197372  -2.02802  -0.239239\n",
       " 0.152518   1.74398  -1.5822  \n",
       " 2.04847    0.0671    0.959161\n",
       "\n",
       "[:, :, 4, 2] =\n",
       "  0.246767  0.98742   -0.217429\n",
       " -1.79872   1.34987   -0.24244 \n",
       "  0.118171  0.913249  -1.65801 \n",
       "* Data for sector (U₁(1//1), U₁(-2//1), U₁(0//1), U₁(1//1)) ← ():\n",
       "[:, :, 1, 1] =\n",
       " 0.0586671  -0.697682\n",
       " 0.367885   -1.64263 \n",
       "\n",
       "[:, :, 2, 1] =\n",
       "  0.0977603  -0.300421\n",
       " -0.110334    1.1333  \n",
       "\n",
       "[:, :, 3, 1] =\n",
       " 1.79002   -1.77985 \n",
       " 0.505422  -0.208185\n",
       "\n",
       "[:, :, 4, 1] =\n",
       " -0.110823  -0.364995\n",
       "  1.52804    1.55208 \n",
       "\n",
       "[:, :, 1, 2] =\n",
       " 0.207303  -0.612026 \n",
       " 0.80285   -0.0734088\n",
       "\n",
       "[:, :, 2, 2] =\n",
       " -0.769646   1.43574\n",
       " -0.687379  -1.26407\n",
       "\n",
       "[:, :, 3, 2] =\n",
       " -0.0401125   0.204448\n",
       "  1.99324    -0.459035\n",
       "\n",
       "[:, :, 4, 2] =\n",
       " -0.687276   0.295302\n",
       " -0.662761  -0.766065\n",
       "* Data for sector (U₁(0//1), U₁(0//1), U₁(-1//1), U₁(1//1)) ← ():\n",
       "[:, :, 1, 1] =\n",
       "  0.954638  -1.00141    -1.02192     0.375959\n",
       " -1.6723    -0.0637697  -0.874367   -0.918784\n",
       "  1.10811   -0.578719    0.0684035  -1.85992 \n",
       "\n",
       "[:, :, 2, 1] =\n",
       " -0.889755  -0.269164  -0.644334    1.45191 \n",
       "  0.761939   0.217443   0.315289   -0.313391\n",
       "  0.189958  -0.304542  -0.0913488  -0.908007\n",
       "\n",
       "[:, :, 3, 1] =\n",
       " 0.15265     1.08112   -0.137478  -0.400539\n",
       " 0.929735    0.814835   0.272642  -0.797892\n",
       " 0.0560535  -0.442197   0.31153    0.311501\n",
       "\n",
       "[:, :, 1, 2] =\n",
       "  0.673566   0.271704   0.159527   0.281887\n",
       " -0.842823  -0.700403  -0.172622   1.36318 \n",
       "  0.249977  -0.627247  -0.613273  -1.34172 \n",
       "\n",
       "[:, :, 2, 2] =\n",
       "  0.267209  -1.9019     0.687193   -0.981602\n",
       " -0.838962   1.42507   -0.0510275   0.664235\n",
       "  1.02452    0.129265   1.64868     1.04184 \n",
       "\n",
       "[:, :, 3, 2] =\n",
       " -0.161452   0.404781  -0.749463   1.12487 \n",
       " -1.02709   -0.36752   -2.29276   -0.423153\n",
       " -0.761166   0.510315  -1.06547   -0.690233\n",
       "* Data for sector (U₁(-1//1), U₁(1//1), U₁(-1//1), U₁(1//1)) ← ():\n",
       "[:, :, 1, 1] =\n",
       " -0.148064  -1.33012  -1.5107 \n",
       "  1.49327   -1.83057   1.19923\n",
       "\n",
       "[:, :, 2, 1] =\n",
       "  0.868439  1.56423   -3.14054  \n",
       " -0.154227  0.637954   0.0480299\n",
       "\n",
       "[:, :, 3, 1] =\n",
       " -0.191529  -1.92584     -0.688634\n",
       " -0.958104  -0.00342814   0.521175\n",
       "\n",
       "[:, :, 1, 2] =\n",
       " -0.902836  -1.77457   -0.682966\n",
       " -0.505413   0.344769   0.526715\n",
       "\n",
       "[:, :, 2, 2] =\n",
       " -1.56796   -0.624279  -1.14796 \n",
       "  0.720948  -2.31222   -0.904011\n",
       "\n",
       "[:, :, 3, 2] =\n",
       " -0.259356  -0.0106057  -0.26809\n",
       "  1.23339   -0.783432   -1.28601\n",
       "* Data for sector (U₁(1//1), U₁(-1//1), U₁(-1//1), U₁(1//1)) ← ():\n",
       "[:, :, 1, 1] =\n",
       "  1.17279   0.331137  1.16601 \n",
       " -0.397493  1.33083   0.839693\n",
       "\n",
       "[:, :, 2, 1] =\n",
       " -0.179869  0.445687   0.26622\n",
       "  0.780209  1.73539   -1.74837\n",
       "\n",
       "[:, :, 3, 1] =\n",
       " 0.998859  -0.890587  -0.734119\n",
       " 1.23026   -0.640925  -0.766094\n",
       "\n",
       "[:, :, 1, 2] =\n",
       " -0.946601  -0.279509  -1.36441 \n",
       " -0.437022   0.423987  -0.484835\n",
       "\n",
       "[:, :, 2, 2] =\n",
       "  1.45659   -0.668718   1.90863\n",
       " -0.504561  -0.0853063  2.05277\n",
       "\n",
       "[:, :, 3, 2] =\n",
       " 0.691286   0.878693  1.24867 \n",
       " 0.031603  -0.298398  0.752111\n",
       "* Data for sector (U₁(-1//1), U₁(-1//1), U₁(1//1), U₁(1//1)) ← ():\n",
       "[:, :, 1, 1] =\n",
       " 0.102045  -0.322006  1.15598\n",
       " 0.45434   -0.380339  1.40766\n",
       "\n",
       "[:, :, 2, 1] =\n",
       " 0.42364   0.206158  -0.379456\n",
       " 0.468375  1.81482   -2.25733 \n",
       "\n",
       "[:, :, 3, 1] =\n",
       " -1.7673    -0.418396   0.106476\n",
       "  0.622401  -0.0925127  0.754116\n",
       "\n",
       "[:, :, 1, 2] =\n",
       " -0.726638  -0.59349   -0.033   \n",
       "  2.02101   -0.675006  -0.596291\n",
       "\n",
       "[:, :, 2, 2] =\n",
       " -0.439404   1.00666  1.32494 \n",
       "  2.52957   -1.04622  0.907168\n",
       "\n",
       "[:, :, 3, 2] =\n",
       " -0.703458  -1.41022   -0.160747\n",
       " -0.220823  -0.489331   0.98892 \n",
       "* Data for sector (U₁(0//1), U₁(-2//1), U₁(1//1), U₁(1//1)) ← ():\n",
       "[:, :, 1, 1] =\n",
       " -0.108098  0.448304\n",
       "  1.00135   0.131369\n",
       "  1.18461   0.261249\n",
       "\n",
       "[:, :, 2, 1] =\n",
       " 0.000306321  -0.902614\n",
       " 1.92053      -0.751838\n",
       " 0.177281      0.650713\n",
       "\n",
       "[:, :, 3, 1] =\n",
       " 0.698552  -0.991009\n",
       " 2.81008   -0.460246\n",
       " 1.11529    1.99363 \n",
       "\n",
       "[:, :, 1, 2] =\n",
       " -0.371896   -0.368393\n",
       "  1.47056    -0.130645\n",
       "  0.0874351  -2.15988 \n",
       "\n",
       "[:, :, 2, 2] =\n",
       " -0.642748  -0.828373\n",
       " -1.16918    1.39673 \n",
       " -1.07272   -0.620952\n",
       "\n",
       "[:, :, 3, 2] =\n",
       "  1.18767    0.224449\n",
       " -0.669689  -1.55628 \n",
       "  0.040751  -1.42387 \n",
       "* Data for sector (U₁(1//1), U₁(0//1), U₁(-2//1), U₁(1//1)) ← ():\n",
       "[:, :, 1, 1] =\n",
       "  0.68155  -0.0886866  1.40532    0.579581\n",
       " -1.05343   0.198524   0.562553  -0.417398\n",
       "\n",
       "[:, :, 2, 1] =\n",
       " 0.667896  1.49485   1.65632  -0.197589\n",
       " 0.84154   0.429124  1.55509  -0.690774\n",
       "\n",
       "[:, :, 1, 2] =\n",
       " -0.204128   0.189151  -0.711125  -0.785367\n",
       " -0.864761  -1.1551     0.904237  -0.997718\n",
       "\n",
       "[:, :, 2, 2] =\n",
       " -0.590047   0.172251  -0.995973   2.41454 \n",
       "  0.786103  -1.1004    -1.9089    -0.250135\n",
       "* Data for sector (U₁(0//1), U₁(1//1), U₁(-2//1), U₁(1//1)) ← ():\n",
       "[:, :, 1, 1] =\n",
       "  0.0936897  -0.121583  -0.278451\n",
       " -1.39518    -0.529552  -1.01457 \n",
       " -1.59836    -0.231215  -1.32381 \n",
       "\n",
       "[:, :, 2, 1] =\n",
       " -0.195548   0.70155    0.391248\n",
       "  0.110432  -1.87745    0.794919\n",
       " -0.457751   0.352611  -0.868187\n",
       "\n",
       "[:, :, 1, 2] =\n",
       " -2.24714    1.71197    -0.365729\n",
       " -0.280762  -1.98069    -0.926563\n",
       " -0.43501   -0.0372689   0.656393\n",
       "\n",
       "[:, :, 2, 2] =\n",
       " -0.0991974  -1.36896    0.394222\n",
       " -1.07851    -0.555782  -0.487372\n",
       "  0.159156    0.480844  -1.71135 \n",
       "* Data for sector (U₁(-1//1), U₁(2//1), U₁(-2//1), U₁(1//1)) ← ():\n",
       "[:, :, 1, 1] =\n",
       " -0.155628  -0.298696 \n",
       " -1.82686   -0.0905647\n",
       "\n",
       "[:, :, 2, 1] =\n",
       "  0.677204  0.707987\n",
       " -0.428213  0.975161\n",
       "\n",
       "[:, :, 1, 2] =\n",
       " -1.46849   -0.59955  \n",
       "  0.275209  -0.0899223\n",
       "\n",
       "[:, :, 2, 2] =\n",
       " -0.459007  0.670382\n",
       "  0.398647  0.944093\n",
       "* Data for sector (U₁(-1//1), U₁(-2//1), U₁(2//1), U₁(1//1)) ← ():\n",
       "[:, :, 1, 1] =\n",
       " 0.541824  0.0896703\n",
       " 0.733035  1.74487  \n",
       "\n",
       "[:, :, 2, 1] =\n",
       " -1.12051  1.04277   \n",
       " -2.01378  0.00136848\n",
       "\n",
       "[:, :, 1, 2] =\n",
       " -2.14436    0.0989367\n",
       "  0.200195  -0.245101 \n",
       "\n",
       "[:, :, 2, 2] =\n",
       " -0.168714  0.774051\n",
       "  1.29918   0.36279 \n"
      ]
     },
     "execution_count": 25,
     "metadata": {},
     "output_type": "execute_result"
    }
   ],
   "source": [
    "V1 = U1Space(0=>3,1=>2,-1=>2)\n",
    "V2 = U1Space(0=>4,1=>3,-1=>3,2=>2,-2=>2)\n",
    "t = Tensor(randn, V1 ⊗ V2 ⊗ V2' ⊗ V1')"
   ]
  },
  {
   "cell_type": "markdown",
   "metadata": {
    "slideshow": {
     "slide_type": "subslide"
    }
   },
   "source": [
    "### Symmetric tensors"
   ]
  },
  {
   "cell_type": "code",
   "execution_count": 26,
   "metadata": {
    "scrolled": false,
    "slideshow": {
     "slide_type": "-"
    }
   },
   "outputs": [
    {
     "name": "stdout",
     "output_type": "stream",
     "text": [
      "dim(domain(S)) = 98\n"
     ]
    },
    {
     "data": {
      "text/plain": [
       "TensorMap(ProductSpace(RepresentationSpace{U₁}(0//1=>24, 1//1=>21, -1//1=>21, -2//1=>12, 2//1=>12, -3//1=>4, 3//1=>4)) ← ProductSpace(RepresentationSpace{U₁}(0//1=>24, 1//1=>21, -1//1=>21, -2//1=>12, 2//1=>12, -3//1=>4, 3//1=>4))):\n",
       "* Data for sector (U₁(0//1),) ← (U₁(0//1),):\n",
       " 9.40942  0.0      0.0      0.0      0.0      …  0.0      0.0       0.0     \n",
       " 0.0      8.72463  0.0      0.0      0.0         0.0      0.0       0.0     \n",
       " 0.0      0.0      7.81949  0.0      0.0         0.0      0.0       0.0     \n",
       " 0.0      0.0      0.0      7.49838  0.0         0.0      0.0       0.0     \n",
       " 0.0      0.0      0.0      0.0      7.13776     0.0      0.0       0.0     \n",
       " 0.0      0.0      0.0      0.0      0.0      …  0.0      0.0       0.0     \n",
       " 0.0      0.0      0.0      0.0      0.0         0.0      0.0       0.0     \n",
       " 0.0      0.0      0.0      0.0      0.0         0.0      0.0       0.0     \n",
       " 0.0      0.0      0.0      0.0      0.0         0.0      0.0       0.0     \n",
       " 0.0      0.0      0.0      0.0      0.0         0.0      0.0       0.0     \n",
       " 0.0      0.0      0.0      0.0      0.0      …  0.0      0.0       0.0     \n",
       " 0.0      0.0      0.0      0.0      0.0         0.0      0.0       0.0     \n",
       " 0.0      0.0      0.0      0.0      0.0         0.0      0.0       0.0     \n",
       " 0.0      0.0      0.0      0.0      0.0         0.0      0.0       0.0     \n",
       " 0.0      0.0      0.0      0.0      0.0         0.0      0.0       0.0     \n",
       " 0.0      0.0      0.0      0.0      0.0      …  0.0      0.0       0.0     \n",
       " 0.0      0.0      0.0      0.0      0.0         0.0      0.0       0.0     \n",
       " 0.0      0.0      0.0      0.0      0.0         0.0      0.0       0.0     \n",
       " 0.0      0.0      0.0      0.0      0.0         0.0      0.0       0.0     \n",
       " 0.0      0.0      0.0      0.0      0.0         0.0      0.0       0.0     \n",
       " 0.0      0.0      0.0      0.0      0.0      …  0.0      0.0       0.0     \n",
       " 0.0      0.0      0.0      0.0      0.0         0.58945  0.0       0.0     \n",
       " 0.0      0.0      0.0      0.0      0.0         0.0      0.377333  0.0     \n",
       " 0.0      0.0      0.0      0.0      0.0         0.0      0.0       0.134767\n",
       "* Data for sector (U₁(1//1),) ← (U₁(1//1),):\n",
       " 8.37462  0.0      0.0      0.0      …  0.0       0.0       0.0      \n",
       " 0.0      7.99424  0.0      0.0         0.0       0.0       0.0      \n",
       " 0.0      0.0      7.42403  0.0         0.0       0.0       0.0      \n",
       " 0.0      0.0      0.0      6.86019     0.0       0.0       0.0      \n",
       " 0.0      0.0      0.0      0.0         0.0       0.0       0.0      \n",
       " 0.0      0.0      0.0      0.0      …  0.0       0.0       0.0      \n",
       " 0.0      0.0      0.0      0.0         0.0       0.0       0.0      \n",
       " 0.0      0.0      0.0      0.0         0.0       0.0       0.0      \n",
       " 0.0      0.0      0.0      0.0         0.0       0.0       0.0      \n",
       " 0.0      0.0      0.0      0.0         0.0       0.0       0.0      \n",
       " 0.0      0.0      0.0      0.0      …  0.0       0.0       0.0      \n",
       " 0.0      0.0      0.0      0.0         0.0       0.0       0.0      \n",
       " 0.0      0.0      0.0      0.0         0.0       0.0       0.0      \n",
       " 0.0      0.0      0.0      0.0         0.0       0.0       0.0      \n",
       " 0.0      0.0      0.0      0.0         0.0       0.0       0.0      \n",
       " 0.0      0.0      0.0      0.0      …  0.0       0.0       0.0      \n",
       " 0.0      0.0      0.0      0.0         0.0       0.0       0.0      \n",
       " 0.0      0.0      0.0      0.0         0.0       0.0       0.0      \n",
       " 0.0      0.0      0.0      0.0         0.538938  0.0       0.0      \n",
       " 0.0      0.0      0.0      0.0         0.0       0.319424  0.0      \n",
       " 0.0      0.0      0.0      0.0      …  0.0       0.0       0.0389519\n",
       "* Data for sector (U₁(-1//1),) ← (U₁(-1//1),):\n",
       " 7.8708  0.0      0.0      0.0      0.0      …  0.0       0.0       0.0     \n",
       " 0.0     7.16018  0.0      0.0      0.0         0.0       0.0       0.0     \n",
       " 0.0     0.0      6.89249  0.0      0.0         0.0       0.0       0.0     \n",
       " 0.0     0.0      0.0      6.43206  0.0         0.0       0.0       0.0     \n",
       " 0.0     0.0      0.0      0.0      5.99182     0.0       0.0       0.0     \n",
       " 0.0     0.0      0.0      0.0      0.0      …  0.0       0.0       0.0     \n",
       " 0.0     0.0      0.0      0.0      0.0         0.0       0.0       0.0     \n",
       " 0.0     0.0      0.0      0.0      0.0         0.0       0.0       0.0     \n",
       " 0.0     0.0      0.0      0.0      0.0         0.0       0.0       0.0     \n",
       " 0.0     0.0      0.0      0.0      0.0         0.0       0.0       0.0     \n",
       " 0.0     0.0      0.0      0.0      0.0      …  0.0       0.0       0.0     \n",
       " 0.0     0.0      0.0      0.0      0.0         0.0       0.0       0.0     \n",
       " 0.0     0.0      0.0      0.0      0.0         0.0       0.0       0.0     \n",
       " 0.0     0.0      0.0      0.0      0.0         0.0       0.0       0.0     \n",
       " 0.0     0.0      0.0      0.0      0.0         0.0       0.0       0.0     \n",
       " 0.0     0.0      0.0      0.0      0.0      …  0.0       0.0       0.0     \n",
       " 0.0     0.0      0.0      0.0      0.0         0.0       0.0       0.0     \n",
       " 0.0     0.0      0.0      0.0      0.0         0.0       0.0       0.0     \n",
       " 0.0     0.0      0.0      0.0      0.0         0.895997  0.0       0.0     \n",
       " 0.0     0.0      0.0      0.0      0.0         0.0       0.416996  0.0     \n",
       " 0.0     0.0      0.0      0.0      0.0      …  0.0       0.0       0.134352\n",
       "* Data for sector (U₁(-2//1),) ← (U₁(-2//1),):\n",
       " 5.97121  0.0      0.0      0.0      …  0.0      0.0      0.0       0.0    \n",
       " 0.0      5.79633  0.0      0.0         0.0      0.0      0.0       0.0    \n",
       " 0.0      0.0      5.56112  0.0         0.0      0.0      0.0       0.0    \n",
       " 0.0      0.0      0.0      4.55653     0.0      0.0      0.0       0.0    \n",
       " 0.0      0.0      0.0      0.0         0.0      0.0      0.0       0.0    \n",
       " 0.0      0.0      0.0      0.0      …  0.0      0.0      0.0       0.0    \n",
       " 0.0      0.0      0.0      0.0         0.0      0.0      0.0       0.0    \n",
       " 0.0      0.0      0.0      0.0         0.0      0.0      0.0       0.0    \n",
       " 0.0      0.0      0.0      0.0         1.95552  0.0      0.0       0.0    \n",
       " 0.0      0.0      0.0      0.0         0.0      0.81212  0.0       0.0    \n",
       " 0.0      0.0      0.0      0.0      …  0.0      0.0      0.393441  0.0    \n",
       " 0.0      0.0      0.0      0.0         0.0      0.0      0.0       0.16704\n",
       "* Data for sector (U₁(2//1),) ← (U₁(2//1),):\n",
       " 6.71842  0.0     0.0      0.0      …  0.0      0.0      0.0      0.0     \n",
       " 0.0      5.9308  0.0      0.0         0.0      0.0      0.0      0.0     \n",
       " 0.0      0.0     4.85857  0.0         0.0      0.0      0.0      0.0     \n",
       " 0.0      0.0     0.0      4.54575     0.0      0.0      0.0      0.0     \n",
       " 0.0      0.0     0.0      0.0         0.0      0.0      0.0      0.0     \n",
       " 0.0      0.0     0.0      0.0      …  0.0      0.0      0.0      0.0     \n",
       " 0.0      0.0     0.0      0.0         0.0      0.0      0.0      0.0     \n",
       " 0.0      0.0     0.0      0.0         0.0      0.0      0.0      0.0     \n",
       " 0.0      0.0     0.0      0.0         1.50413  0.0      0.0      0.0     \n",
       " 0.0      0.0     0.0      0.0         0.0      1.26573  0.0      0.0     \n",
       " 0.0      0.0     0.0      0.0      …  0.0      0.0      0.55661  0.0     \n",
       " 0.0      0.0     0.0      0.0         0.0      0.0      0.0      0.119769\n",
       "* Data for sector (U₁(-3//1),) ← (U₁(-3//1),):\n",
       " 2.0826  0.0      0.0      0.0      \n",
       " 0.0     1.98124  0.0      0.0      \n",
       " 0.0     0.0      1.26401  0.0      \n",
       " 0.0     0.0      0.0      0.0551977\n",
       "* Data for sector (U₁(3//1),) ← (U₁(3//1),):\n",
       " 3.58989  0.0      0.0     0.0     \n",
       " 0.0      2.57278  0.0     0.0     \n",
       " 0.0      0.0      1.6857  0.0     \n",
       " 0.0      0.0      0.0     0.369254\n"
      ]
     },
     "execution_count": 26,
     "metadata": {},
     "output_type": "execute_result"
    }
   ],
   "source": [
    "U,S,V=svd(t,(1,3),(2,4));\n",
    "@show dim(domain(S))\n",
    "S"
   ]
  },
  {
   "cell_type": "markdown",
   "metadata": {
    "slideshow": {
     "slide_type": "subslide"
    }
   },
   "source": [
    "### Symmetric tensors"
   ]
  },
  {
   "cell_type": "code",
   "execution_count": 27,
   "metadata": {},
   "outputs": [
    {
     "ename": "LoadError",
     "evalue": "\u001b[91mMethodError: no method matching resize!(::Strided.StridedView{Float64,1,Array{Float64,1},Base.#identity}, ::Int64)\u001b[0m\nClosest candidates are:\n  resize!(\u001b[91m::Array{T,1} where T\u001b[39m, ::Integer) at array.jl:772\n  resize!(\u001b[91m::BitArray{1}\u001b[39m, ::Integer) at bitarray.jl:825\u001b[39m",
     "output_type": "error",
     "traceback": [
      "\u001b[91mMethodError: no method matching resize!(::Strided.StridedView{Float64,1,Array{Float64,1},Base.#identity}, ::Int64)\u001b[0m\nClosest candidates are:\n  resize!(\u001b[91m::Array{T,1} where T\u001b[39m, ::Integer) at array.jl:772\n  resize!(\u001b[91m::BitArray{1}\u001b[39m, ::Integer) at bitarray.jl:825\u001b[39m",
      "",
      "Stacktrace:",
      " [1] \u001b[1m_truncate!\u001b[22m\u001b[22m\u001b[1m(\u001b[22m\u001b[22m::TensorKit.VectorDict{U₁,Strided.StridedView{Float64,1,Array{Float64,1},Base.#identity}}, ::TensorKit.TruncationDimension, ::Int64\u001b[1m)\u001b[22m\u001b[22m at \u001b[1m/Users/jutho/.julia/v0.6/TensorKit/src/tensors/tensor.jl:652\u001b[22m\u001b[22m",
      " [2] \u001b[1msvd!\u001b[22m\u001b[22m\u001b[1m(\u001b[22m\u001b[22m::TensorKit.TensorMap{U₁Space,2,2,TensorKit.VectorDict{U₁,Strided.StridedView{Float64,2,Array{Float64,2},Base.#identity}},U₁,TensorKit.FusionTree{U₁,2,0,1,Void},TensorKit.FusionTree{U₁,2,0,1,Void}}, ::TensorKit.TruncationDimension, ::Int64\u001b[1m)\u001b[22m\u001b[22m at \u001b[1m/Users/jutho/.julia/v0.6/TensorKit/src/tensors/tensor.jl:538\u001b[22m\u001b[22m",
      " [3] \u001b[1msvd\u001b[22m\u001b[22m\u001b[1m(\u001b[22m\u001b[22m::TensorKit.TensorMap{U₁Space,4,0,TensorKit.VectorDict{U₁,Strided.StridedView{Float64,2,Array{Float64,2},Base.#identity}},U₁,TensorKit.FusionTree{U₁,4,2,3,Void},TensorKit.FusionTree{U₁,0,0,0,Void}}, ::Tuple{Int64,Int64}, ::Tuple{Int64,Int64}, ::TensorKit.TruncationDimension\u001b[1m)\u001b[22m\u001b[22m at \u001b[1m/Users/jutho/.julia/v0.6/TensorKit/src/tensors/factorizations.jl:26\u001b[22m\u001b[22m",
      " [4] \u001b[1minclude_string\u001b[22m\u001b[22m\u001b[1m(\u001b[22m\u001b[22m::String, ::String\u001b[1m)\u001b[22m\u001b[22m at \u001b[1m./loading.jl:522\u001b[22m\u001b[22m"
     ]
    }
   ],
   "source": [
    "U,S,V,ϵ=svd(t,(1,3),(2,4),truncdim(97));\n",
    "ϵ"
   ]
  },
  {
   "cell_type": "markdown",
   "metadata": {
    "slideshow": {
     "slide_type": "subslide"
    }
   },
   "source": [
    "## Tensor Contractions"
   ]
  },
  {
   "cell_type": "code",
   "execution_count": 28,
   "metadata": {
    "slideshow": {
     "slide_type": "-"
    }
   },
   "outputs": [],
   "source": [
    "d, D = 2, 32\n",
    "Vphys = ℂ^d\n",
    "Vvirt = ℂ^D\n",
    "A = Tensor(randnormal, Vvirt ⊗ Vphys ⊗ Vvirt')\n",
    "h = TensorMap(randn, Vphys ⊗ Vphys, Vphys ⊗ Vphys)\n",
    "\n",
    "@tensor hAA[α,t1,t2,α'] := h[t1,t2,s1,s2]*A[α,s1,β]*A[β,s2,α']\n",
    "\n",
    "@tensor hAA[-1,-2,-3,-4] = h[-2,-3,2,3]*A[-1,2,1]*A[1,3,-4];"
   ]
  },
  {
   "cell_type": "markdown",
   "metadata": {
    "slideshow": {
     "slide_type": "subslide"
    }
   },
   "source": [
    "## Optimization of tensor contraction order\n",
    "\n",
    "Contraction order matters!\n",
    "\n",
    "* matrix - matrix - vector multiplication: `A*B*v`: \n",
    "  `A*(B*v)` is much faster than `(A*B)*v`\n",
    "\n",
    "* Optimal contraction order in more complicated tensor networks?\n",
    "  <img src=\"mera.png\" style=\"width: 200px;\"/>\n",
    "  \n",
    "* Pairwise contraction is always sufficient, but in which sequence?"
   ]
  },
  {
   "cell_type": "markdown",
   "metadata": {
    "slideshow": {
     "slide_type": "subslide"
    }
   },
   "source": [
    "## Optimization of tensor contraction order\n",
    "\n",
    "\n",
    "* Manual determination can become laborious task\n",
    "* Contraction of two-dimensional multiscale entanglement renormalization ansatz:\n",
    "  <img src=\"2dmerac.png\" style=\"width: 1200px;\"/>"
   ]
  },
  {
   "cell_type": "markdown",
   "metadata": {
    "slideshow": {
     "slide_type": "subslide"
    }
   },
   "source": [
    "### Algorithmic determination of optimal contraction sequence\n",
    "\n",
    "\"Faster identification of optimal contraction sequences for tensor networks\"\n",
    "\n",
    "Robert N. C. Pfeifer, JH, and Frank Verstraete, Phys Rev E 90, 033315 (2014)\n",
    "\n",
    "* Breadth-first constructive approach:\n",
    "  <img src=\"algorithm.png\" style=\"width: 800px;\"/>\n",
    "* Add tricks to make it efficient   "
   ]
  },
  {
   "cell_type": "markdown",
   "metadata": {
    "slideshow": {
     "slide_type": "subslide"
    }
   },
   "source": [
    "## Optimization of tensor contraction order"
   ]
  },
  {
   "cell_type": "markdown",
   "metadata": {
    "slideshow": {
     "slide_type": "-"
    }
   },
   "source": [
    "  <img src=\"mera2.png\" style=\"width: 1200px;\"/>\n",
    "  "
   ]
  },
  {
   "cell_type": "markdown",
   "metadata": {
    "slideshow": {
     "slide_type": "subslide"
    }
   },
   "source": [
    "## Optimization of tensor contraction order\n",
    "\n"
   ]
  },
  {
   "cell_type": "code",
   "execution_count": 29,
   "metadata": {
    "slideshow": {
     "slide_type": "-"
    }
   },
   "outputs": [
    {
     "name": "stdout",
     "output_type": "stream",
     "text": [
      "(:(:=), (:ref, :result, -4, -5, -6, -1, -2, -3), (:call, :*, (:ref, :W1, 1, 2, -1), (:ref, :W2, 3, 4, -2), (:ref, :W3, 5, 6, -3), (:ref, :U1, 7, 8, 2, 3), (:ref, :U2, 9, 10, 4, 5), (:ref, :h, 11, 12, 13, 7, 8, 9), (:ref, (:call, :conj, :U1), 11, 12, 14, 15), (:ref, (:call, :conj, :U2), 13, 10, 16, 17), (:ref, (:call, :conj, :W1), 1, 14, -4), (:ref, (:call, :conj, :W2), 15, 16, -5), (:ref, (:call, :conj, :W3), 17, 6, -6)))"
     ]
    }
   ],
   "source": [
    "ex=:(result[-4,-5,-6,-1,-2,-3] := \n",
    "        W1[1,2,-1]*W2[3,4,-2]*W3[5,6,-3]*\n",
    "        U1[7,8,2,3]*U2[9,10,4,5]*\n",
    "        h[11,12,13,7,8,9]*\n",
    "        conj(U1)[11,12,14,15]*conj(U2)[13,10,16,17]*\n",
    "        conj(W1)[1,14,-4]*conj(W2)[15,16,-5]*conj(W3)[17,6,-6])\n",
    "Meta.show_sexpr(ex)\n"
   ]
  },
  {
   "cell_type": "code",
   "execution_count": 30,
   "metadata": {
    "slideshow": {
     "slide_type": "-"
    }
   },
   "outputs": [
    {
     "data": {
      "text/plain": [
       "(((9, 1), ((3, 11), ((2, 5), ((8, 10), (4, (6, 7)))))), 2*χ^9 + 4*χ^8 + 0*χ^7 + 2*χ^6 + 2*χ^5 + 0*χ^4 + 0*χ^3 + 0*χ^2 + 0*χ + 0)"
      ]
     },
     "execution_count": 30,
     "metadata": {},
     "output_type": "execute_result"
    }
   ],
   "source": [
    "@optimalcontractiontree W1[1,2,-1]*W2[3,4,-2]*W3[5,6,-3]*\n",
    "        U1[7,8,2,3]*U2[9,10,4,5]*\n",
    "        h[11,12,13,7,8,9]*\n",
    "        conj(U1)[11,12,14,15]*conj(U2)[13,10,16,17]*\n",
    "        conj(W1)[1,14,-4]*conj(W2)[15,16,-5]*conj(W3)[17,6,-6]\n"
   ]
  },
  {
   "cell_type": "code",
   "execution_count": 31,
   "metadata": {
    "slideshow": {
     "slide_type": "-"
    }
   },
   "outputs": [
    {
     "name": "stdout",
     "output_type": "stream",
     "text": [
      "elapsed time: 0.021642211 seconds\n"
     ]
    },
    {
     "data": {
      "text/plain": [
       "0.021642211"
      ]
     },
     "execution_count": 31,
     "metadata": {},
     "output_type": "execute_result"
    }
   ],
   "source": [
    "tic()\n",
    "@optimalcontractiontree W1[1,2,-1]*W2[3,4,-2]*W3[5,6,-3]*\n",
    "        U1[7,8,2,3]*U2[9,10,4,5]*\n",
    "        h[11,12,13,7,8,9]*\n",
    "        conj(U1)[11,12,14,15]*conj(U2)[13,10,16,17]*\n",
    "        conj(W1)[1,14,-4]*conj(W2)[15,16,-5]*conj(W3)[17,6,-6]\n",
    "toc()\n"
   ]
  },
  {
   "cell_type": "code",
   "execution_count": 32,
   "metadata": {},
   "outputs": [
    {
     "name": "stdout",
     "output_type": "stream",
     "text": [
      "elapsed time: 0.002390268 seconds\n"
     ]
    },
    {
     "data": {
      "text/plain": [
       "0.002390268"
      ]
     },
     "execution_count": 32,
     "metadata": {},
     "output_type": "execute_result"
    }
   ],
   "source": [
    "tic()\n",
    "@optimalcontractiontree W1[1,2,-1]*W2[3,4,-2]*W3[5,6,-3]*\n",
    "        U1[7,8,2,3]*U2[9,10,4,5]*\n",
    "        h[11,12,13,7,8,9]*\n",
    "        conj(U1)[11,12,14,15]*conj(U2)[13,10,16,17]*\n",
    "        conj(W1)[1,14,-4]*conj(W2)[15,16,-5]*conj(W3)[17,6,-6]\n",
    "toc()\n",
    "\n"
   ]
  },
  {
   "cell_type": "markdown",
   "metadata": {
    "slideshow": {
     "slide_type": "subslide"
    }
   },
   "source": [
    "## Optimization of tensor contraction order"
   ]
  },
  {
   "cell_type": "code",
   "execution_count": 33,
   "metadata": {
    "collapsed": true,
    "slideshow": {
     "slide_type": "skip"
    }
   },
   "outputs": [],
   "source": [
    "V=ℂ^5;\n",
    "W1 = W2 = W3 = TensorMap(randisometry,V ⊗ V, V);\n",
    "U1 = U2 = TensorMap(randisometry, V ⊗ V, V ⊗ V);\n",
    "h = TensorMap(randn, V ⊗ V ⊗ V, V ⊗ V ⊗ V);"
   ]
  },
  {
   "cell_type": "code",
   "execution_count": 34,
   "metadata": {
    "slideshow": {
     "slide_type": "-"
    }
   },
   "outputs": [
    {
     "name": "stdout",
     "output_type": "stream",
     "text": [
      " 18.231829 seconds (10.02 M allocations: 2.083 GiB, 5.22% gc time)\n",
      "  1.110044 seconds (671.56 k allocations: 41.934 MiB, 9.34% gc time)\n"
     ]
    }
   ],
   "source": [
    "@time @tensor result[-4,-5,-6,-1,-2,-3] := \n",
    "        W1[1,2,-1]*W2[3,4,-2]*W3[5,6,-3]*\n",
    "        U1[7,8,2,3]*U2[9,10,4,5]*\n",
    "        h[11,12,13,7,8,9]*\n",
    "        conj(U1[11,12,14,15])*conj(U2[13,10,16,17])*\n",
    "        conj(W1[1,14,-4])*conj(W2[15,16,-5])*conj(W3[17,6,-6])\n",
    "@time @tensoropt result[-4,-5,-6,-1,-2,-3] := \n",
    "        W1[1,2,-1]*W2[3,4,-2]*W3[5,6,-3]*\n",
    "        U1[7,8,2,3]*U2[9,10,4,5]*\n",
    "        h[11,12,13,7,8,9]*\n",
    "        conj(U1[11,12,14,15])*conj(U2[13,10,16,17])*\n",
    "        conj(W1[1,14,-4])*conj(W2[15,16,-5])*conj(W3[17,6,-6]);"
   ]
  },
  {
   "cell_type": "code",
   "execution_count": 35,
   "metadata": {},
   "outputs": [
    {
     "name": "stdout",
     "output_type": "stream",
     "text": [
      "  0.012159 seconds (372 allocations: 2.665 MiB, 82.11% gc time)\n"
     ]
    }
   ],
   "source": [
    "@time @tensor result[-4,-5,-6,-1,-2,-3] := \n",
    "        W1[1,2,-1]*W2[3,4,-2]*W3[5,6,-3]*\n",
    "        U1[7,8,2,3]*U2[9,10,4,5]*\n",
    "        h[11,12,13,7,8,9]*\n",
    "        conj(U1[11,12,14,15])*conj(U2[13,10,16,17])*\n",
    "        conj(W1[1,14,-4])*conj(W2[15,16,-5])*conj(W3[17,6,-6])\n",
    "@time @tensoropt result[-4,-5,-6,-1,-2,-3] := \n",
    "        W1[1,2,-1]*W2[3,4,-2]*W3[5,6,-3]*\n",
    "        U1[7,8,2,3]*U2[9,10,4,5]*\n",
    "        h[11,12,13,7,8,9]*\n",
    "        conj(U1[11,12,14,15])*conj(U2[13,10,16,17])*\n",
    "        conj(W1[1,14,-4])*conj(W2[15,16,-5])*conj(W3[17,6,-6]);"
   ]
  },
  {
   "cell_type": "markdown",
   "metadata": {
    "slideshow": {
     "slide_type": "slide"
    }
   },
   "source": [
    "# Some benchmarks"
   ]
  },
  {
   "cell_type": "markdown",
   "metadata": {},
   "source": [
    "* TensorKit.jl vs ITensor v2.1.0 and Uni10 1.0\n",
    "* All linked to same version of OpenBLAS\n",
    "\n",
    "* Disclaimers:\n",
    "    * Very preliminary and limited benchmark (only one specific contraction, no factorization)\n",
    "    * I am not a C++ programmer "
   ]
  },
  {
   "cell_type": "markdown",
   "metadata": {
    "slideshow": {
     "slide_type": "subslide"
    }
   },
   "source": [
    "# Some benchmarks"
   ]
  },
  {
   "cell_type": "code",
   "execution_count": null,
   "metadata": {
    "slideshow": {
     "slide_type": "skip"
    }
   },
   "outputs": [],
   "source": [
    "using Cxx\n",
    "using ProfileView\n",
    "using PyPlot"
   ]
  },
  {
   "cell_type": "code",
   "execution_count": null,
   "metadata": {
    "collapsed": true
   },
   "outputs": [],
   "source": [
    "using Cxx"
   ]
  },
  {
   "cell_type": "code",
   "execution_count": null,
   "metadata": {
    "collapsed": true
   },
   "outputs": [],
   "source": [
    "const itensorpath = \"/Users/jutho/Dropbox/Code/Libraries/itensor/\"\n",
    "Libdl.dlopen(itensorpath * \"lib/libitensor.dylib\", Libdl.RTLD_GLOBAL)\n",
    "addHeaderDir(itensorpath, kind=C_System)\n",
    "addHeaderDir(\"/usr/local/opt/openblas/include\", kind=C_System)\n",
    "cxxinclude(\"itensor/all.h\")"
   ]
  },
  {
   "cell_type": "code",
   "execution_count": null,
   "metadata": {
    "collapsed": true
   },
   "outputs": [],
   "source": [
    "const uni10path = \"/Users/jutho/Dropbox/Code/Libraries/uni10/\"\n",
    "Libdl.dlopen(uni10path * \"lib/libuni10.dylib\", Libdl.RTLD_GLOBAL)\n",
    "addHeaderDir(uni10path * \"include\", kind=C_System)\n",
    "cxxinclude(\"uni10.hpp\")"
   ]
  },
  {
   "cell_type": "markdown",
   "metadata": {
    "slideshow": {
     "slide_type": "subslide"
    }
   },
   "source": [
    "## MPS - MPO Environment without symmetries"
   ]
  },
  {
   "cell_type": "code",
   "execution_count": null,
   "metadata": {},
   "outputs": [],
   "source": [
    "function time_mpo_nosym_tk(dphys::Int, dvirt::Int, n::Int)\n",
    "    Vphys = ℂ^dphys\n",
    "    Vvirt = ℂ^dvirt\n",
    "\n",
    "    A = Tensor(randn, Vvirt ⊗ Vphys ⊗ Vvirt')\n",
    "    FL = Tensor(randn, Vvirt ⊗ Vphys' ⊗ Vvirt')\n",
    "    FR = Tensor(randn, Vvirt ⊗ Vphys ⊗ Vvirt')\n",
    "    M = Tensor(randn, Vphys ⊗ Vphys ⊗ Vphys' ⊗ Vphys')\n",
    "\n",
    "    e = 0.;\n",
    "    times = zeros(Float64, n)\n",
    "    for i = 1:n\n",
    "        elapsed = Base.time_ns()\n",
    "        @tensor e += (((FL[alpha',t,alpha]*A[alpha,s,beta])*FR[beta,t',beta'])*conj(A[alpha',s',beta']))*M[t,s',t',s]\n",
    "        elapsed = Base.time_ns() - elapsed\n",
    "        times[i] = elapsed/1e9\n",
    "    end\n",
    "    return times\n",
    "end\n",
    "function time_mpo_nosym_itensor(dphys::Int, dvirt::Int, n::Int)\n",
    "    itimes = Vector{UInt}(n)\n",
    "    icxx\"\"\"\n",
    "    using namespace itensor;\n",
    "\n",
    "    auto alpha = Index(\"alpha\", $dvirt);\n",
    "    auto beta = Index(\"beta\", $dvirt);\n",
    "    auto s = Index(\"s\", $dphys);\n",
    "    auto t = Index(\"t\", $dphys);\n",
    "    \n",
    "    auto A = randomTensor(alpha, s, beta);\n",
    "    auto FL = randomTensor(prime(alpha), t, alpha);\n",
    "    auto FR = randomTensor(beta, prime(t), prime(beta));\n",
    "    auto M = randomTensor(t, prime(s), prime(t), s);\n",
    "\n",
    "    unsigned long* itimes = $(pointer(itimes)::Ptr{UInt});\n",
    "    int i = 0;\n",
    "    double e = 0.;\n",
    "    while (i < $n)\n",
    "    {\n",
    "        unsigned long elapsed = $:(Base.time_ns()::UInt64);\n",
    "        ITensor v = (((FL * A) * FR)*prime(conj(A))) * M;\n",
    "        e += v.real();\n",
    "        elapsed = $:(Base.time_ns()::UInt64) - elapsed;\n",
    "        itimes[i] = elapsed;\n",
    "        i += 1;\n",
    "    }\n",
    "    \"\"\"\n",
    "    times = itimes/1e9\n",
    "end\n",
    "function time_mpo_nosym_uni10(dphys::Int, dvirt::Int, n::Int)\n",
    "    itimes = Vector{UInt}(n)\n",
    "    icxx\"\"\"\n",
    "    using namespace uni10;\n",
    "    Bond Pout(BD_IN, $dphys);\n",
    "    Bond Pin(BD_OUT, $dphys);\n",
    "    Bond Vout(BD_IN, $dvirt);\n",
    "    Bond Vin(BD_OUT, $dvirt);\n",
    "    \n",
    "    std::vector<Bond> Aind;\n",
    "    Aind.push_back(Vout);\n",
    "    Aind.push_back(Pout);\n",
    "    Aind.push_back(Vin);\n",
    "    UniTensor A(Aind, \"A\");\n",
    "    A.randomize();\n",
    "\n",
    "    std::vector<Bond> FLind;\n",
    "    FLind.push_back(Vout);\n",
    "    FLind.push_back(Pin);\n",
    "    FLind.push_back(Vin);\n",
    "    UniTensor FL(FLind, \"FL\");\n",
    "    FL.randomize();\n",
    "\n",
    "    std::vector<Bond> FRind;\n",
    "    FRind.push_back(Vout);\n",
    "    FRind.push_back(Pout);\n",
    "    FRind.push_back(Vin);\n",
    "    UniTensor FR(FRind, \"FR\");\n",
    "    FR.randomize();\n",
    "    \n",
    "    std::vector<Bond> Mind;\n",
    "    Mind.push_back(Pout);\n",
    "    Mind.push_back(Pout);\n",
    "    Mind.push_back(Pin);\n",
    "    Mind.push_back(Pin);\n",
    "    UniTensor M(Mind, \"M\");\n",
    "    M.randomize();\n",
    "    \n",
    "    std::vector<Bond> A2ind;\n",
    "    A2ind.push_back(Vout);\n",
    "    A2ind.push_back(Pin);\n",
    "    A2ind.push_back(Vin);\n",
    "    UniTensor A2(A2ind, \"cA\");\n",
    "    A2.randomize();\n",
    "\n",
    "    int labelA[] = {1,5,2};\n",
    "    int labelFL[] = {6,3,1};\n",
    "    int labelFR[] = {2,4,8};\n",
    "    int labelM[] = {3,7,4,5};\n",
    "    int labelA2[] = {8,7,6};\n",
    "\n",
    "    A.setLabel(labelA);\n",
    "    FL.setLabel(labelFL);\n",
    "    FR.setLabel(labelFR);\n",
    "    M.setLabel(labelM);\n",
    "    A2.setLabel(labelA2);\n",
    "\n",
    "    unsigned long* itimes = $(pointer(itimes)::Ptr{UInt});\n",
    "    int i = 0;\n",
    "    double e = 0.;\n",
    "    while (i < $n)\n",
    "    {\n",
    "        unsigned long elapsed = $:(Base.time_ns()::UInt64);\n",
    "        auto v = (((FL*A)*FR)*A2)*M;\n",
    "        e += v.getBlock()[0];\n",
    "        elapsed = $:(Base.time_ns()::UInt64) - elapsed;\n",
    "        itimes[i] = elapsed;\n",
    "        i += 1;\n",
    "    }\n",
    "    \"\"\"\n",
    "    times = itimes/1e9\n",
    "end"
   ]
  },
  {
   "cell_type": "markdown",
   "metadata": {
    "slideshow": {
     "slide_type": "subslide"
    }
   },
   "source": [
    "## MPS - MPO Environment without symmetries"
   ]
  },
  {
   "cell_type": "code",
   "execution_count": null,
   "metadata": {
    "slideshow": {
     "slide_type": "skip"
    }
   },
   "outputs": [],
   "source": [
    "# compile\n",
    "d = 2; D = 32;\n",
    "n = 1;\n",
    "times = (time_mpo_nosym_tk(d,D,n), time_mpo_nosym_itensor(d,D,n), time_mpo_nosym_uni10(d,D,n))"
   ]
  },
  {
   "cell_type": "code",
   "execution_count": null,
   "metadata": {},
   "outputs": [],
   "source": [
    "# small\n",
    "d = 2; D = 32;\n",
    "n = 10000;\n",
    "times = (time_mpo_nosym_tk(d,D,n), time_mpo_nosym_itensor(d,D,n), time_mpo_nosym_uni10(d,D,n))\n",
    "plot(sort(times[1]));plot(sort(times[2]));plot(sort(times[3]));ylim([0.,10*minimum(times[1])])\n",
    "legend([\"TensorKit.jl\",\"ITensor v2.1.0\",\"Uni10 v1.0\"])"
   ]
  },
  {
   "cell_type": "markdown",
   "metadata": {
    "slideshow": {
     "slide_type": "subslide"
    }
   },
   "source": [
    "## MPS - MPO Environment without symmetries"
   ]
  },
  {
   "cell_type": "code",
   "execution_count": null,
   "metadata": {},
   "outputs": [],
   "source": [
    "# medium\n",
    "d = 3; D = 128; n = 1000;\n",
    "times = (time_mpo_nosym_tk(d,D,n), time_mpo_nosym_itensor(d,D,n), time_mpo_nosym_uni10(d,D,n))\n",
    "plot(sort(times[1]));plot(sort(times[2]));plot(sort(times[3]));ylim([0.,10*minimum(times[1])])\n",
    "legend([\"TensorKit.jl\",\"ITensor v2.1.0\",\"Uni10 v1.0\"])"
   ]
  },
  {
   "cell_type": "markdown",
   "metadata": {
    "slideshow": {
     "slide_type": "subslide"
    }
   },
   "source": [
    "## MPS - MPO Environment without symmetries"
   ]
  },
  {
   "cell_type": "code",
   "execution_count": null,
   "metadata": {},
   "outputs": [],
   "source": [
    "# large\n",
    "d = 4; D = 512; n = 50;\n",
    "times = (time_mpo_nosym_tk(d,D,n), time_mpo_nosym_itensor(d,D,n), time_mpo_nosym_uni10(d,D,n))\n",
    "plot(sort(times[1]));plot(sort(times[2]));plot(sort(times[3]));ylim([0.,10*minimum(times[1])])\n",
    "legend([\"TensorKit.jl\",\"ITensor v2.1.0\",\"Uni10 v1.0\"])"
   ]
  },
  {
   "cell_type": "markdown",
   "metadata": {
    "slideshow": {
     "slide_type": "subslide"
    }
   },
   "source": [
    "## MPS - MPO Environment with U1 symmetry"
   ]
  },
  {
   "cell_type": "code",
   "execution_count": null,
   "metadata": {},
   "outputs": [],
   "source": [
    "function time_mpo_sym_tk(Vphys::U1Space, Vvirt::U1Space, n::Int)\n",
    "    A = Tensor(randn, Vvirt ⊗ Vphys ⊗ Vvirt')\n",
    "    FL = Tensor(randn, Vvirt ⊗ Vphys' ⊗ Vvirt')\n",
    "    FR = Tensor(randn, Vvirt ⊗ Vphys ⊗ Vvirt')\n",
    "    M = Tensor(randn, Vphys ⊗ Vphys ⊗ Vphys' ⊗ Vphys')\n",
    "\n",
    "\n",
    "    times = zeros(Float64, n)\n",
    "    for i = 1:n\n",
    "        elapsed = Base.time_ns()\n",
    "        @tensor Aenv[alpha' beta'; s'] := ((FL[alpha',t,alpha]*A[alpha,s,beta])*M[t,s',t',s])*FR[beta, t', beta']\n",
    "        elapsed = Base.time_ns() - elapsed\n",
    "        times[i] = elapsed/1e9\n",
    "    end\n",
    "    return times\n",
    "end\n",
    "function time_mpo_sym_itensor(Vphys::U1Space, Vvirt::U1Space, n::Int)\n",
    "    itimes = Vector{UInt}(n)\n",
    "    Qphys = Vector{Int}()\n",
    "    dphys = Vector{Int}()\n",
    "    for q in sectors(Vphys)\n",
    "        push!(Qphys, q.charge)\n",
    "        push!(dphys, dim(Vphys, q))\n",
    "    end\n",
    "    nphys = length(Qphys)\n",
    "    Qvirt = Vector{Int}()\n",
    "    dvirt = Vector{Int}()\n",
    "    for q in sectors(Vvirt)\n",
    "        push!(Qvirt, q.charge)\n",
    "        push!(dvirt, dim(Vvirt, q))\n",
    "    end\n",
    "    nvirt = length(Qvirt)\n",
    "    icxx\"\"\"\n",
    "    using namespace itensor;\n",
    "    auto QNphys = stdx::reserve_vector<IndexQN>($nphys);\n",
    "    auto QNvirt = stdx::reserve_vector<IndexQN>($nvirt);\n",
    "\n",
    "    long *Qphys = $(pointer(Qphys)::Ptr{Int});\n",
    "    long *dphys = $(pointer(dphys)::Ptr{Int});\n",
    "    long *Qvirt = $(pointer(Qvirt)::Ptr{Int});\n",
    "    long *dvirt = $(pointer(dvirt)::Ptr{Int});\n",
    "\n",
    "    int i = 0;\n",
    "    while (i < $nphys) {\n",
    "        QNphys.emplace_back(Index(\"I\"+std::to_string(Qphys[i]),dphys[i]), QN(Qphys[i]));\n",
    "        i++;\n",
    "    }\n",
    "    i = 0;\n",
    "    while (i < $nvirt) {\n",
    "        QNvirt.emplace_back(Index(\"I\"+std::to_string(Qvirt[i]),dvirt[i]), QN(Qvirt[i]));\n",
    "        i++;\n",
    "    }\n",
    "    auto QNvirt2 = std::vector<IndexQN>(QNvirt);\n",
    "    auto QNphys2 = std::vector<IndexQN>(QNphys);\n",
    "\n",
    "    auto alpha = IQIndex(\"alpha\", std::move(QNvirt));\n",
    "    auto beta = IQIndex(\"beta\", std::move(QNvirt2));\n",
    "    auto s = IQIndex(\"s\", std::move(QNphys));\n",
    "    auto t = IQIndex(\"t\", std::move(QNphys2));\n",
    "\n",
    "    auto A = randomTensor(QN(0), alpha, s, dag(beta));\n",
    "    auto FL = randomTensor(QN(0), prime(alpha), dag(t), dag(alpha));\n",
    "    auto FR = randomTensor(QN(0), beta, prime(t), dag(prime(beta)));\n",
    "    auto M = randomTensor(QN(0), t, prime(s), dag(prime(t)), dag(s));\n",
    "    \n",
    "    unsigned long* itimes = $(pointer(itimes)::Ptr{UInt});\n",
    "    i = 0;\n",
    "    while (i < $n)\n",
    "    {\n",
    "        unsigned long elapsed = $:(Base.time_ns()::UInt64);\n",
    "        auto FLA = ((FL * A)*M)*FR;\n",
    "        elapsed = $:(Base.time_ns()::UInt64) - elapsed;\n",
    "        itimes[i] = elapsed;\n",
    "        i += 1;\n",
    "    }\n",
    "    \"\"\"\n",
    "    times = itimes/1e9\n",
    "end\n",
    "function time_mpo_sym_uni10(Vphys::U1Space, Vvirt::U1Space, n::Int)\n",
    "    itimes = Vector{UInt}(n)\n",
    "    Qphys = Vector{Int}()\n",
    "    for q in sectors(Vphys)\n",
    "        for k = 1:dim(Vphys, q)\n",
    "            push!(Qphys, q.charge)\n",
    "        end\n",
    "    end\n",
    "    nphys = length(Qphys)\n",
    "    Qvirt = Vector{Int}()\n",
    "    for q in sectors(Vvirt)\n",
    "        for k = 1:dim(Vvirt, q)\n",
    "            push!(Qvirt, q.charge)\n",
    "        end\n",
    "    end\n",
    "    nvirt = length(Qvirt)\n",
    "    icxx\"\"\"\n",
    "    using namespace uni10;\n",
    "    std::vector<Qnum> Qphys;\n",
    "    std::vector<Qnum> Qvirt;\n",
    "    long *intphys = $(pointer(Qphys)::Ptr{Int});\n",
    "    long *intvirt = $(pointer(Qvirt)::Ptr{Int});\n",
    "    int i = 0;\n",
    "    while (i < $nphys) {\n",
    "        Qphys.push_back(Qnum(intphys[i]));\n",
    "        i++;\n",
    "    }\n",
    "    i = 0;\n",
    "    while (i < $nvirt) {\n",
    "        Qvirt.push_back(Qnum(intvirt[i]));\n",
    "        i++;\n",
    "    }\n",
    "    Bond Pout(BD_IN, Qphys);\n",
    "    Bond Pin(BD_OUT, Qphys);\n",
    "    Bond Vout(BD_IN, Qvirt);\n",
    "    Bond Vin(BD_OUT, Qvirt);\n",
    "        \n",
    "    std::vector<Bond> Aind;\n",
    "    Aind.push_back(Vout);\n",
    "    Aind.push_back(Pout);\n",
    "    Aind.push_back(Vin);\n",
    "\n",
    "    std::vector<Bond> FLind;\n",
    "    FLind.push_back(Vout);\n",
    "    FLind.push_back(Pin);\n",
    "    FLind.push_back(Vin);\n",
    "\n",
    "    std::vector<Bond> FRind;\n",
    "    FRind.push_back(Vout);\n",
    "    FRind.push_back(Pout);\n",
    "    FRind.push_back(Vin);\n",
    "    \n",
    "    std::vector<Bond> Mind;\n",
    "    Mind.push_back(Pout);\n",
    "    Mind.push_back(Pout);\n",
    "    Mind.push_back(Pin);\n",
    "    Mind.push_back(Pin);\n",
    "\n",
    "    \n",
    "    UniTensor A(Aind, \"A\");\n",
    "    A.randomize();\n",
    "\n",
    "    UniTensor FL(FLind, \"FL\");\n",
    "    FL.randomize();\n",
    "\n",
    "    UniTensor FR(FRind, \"FR\");\n",
    "    FR.randomize();\n",
    "\n",
    "    UniTensor M(Mind, \"M\");\n",
    "    M.randomize();\n",
    "\n",
    "\n",
    "    \n",
    "    std::vector<Bond> A2ind;\n",
    "    A2ind.push_back(Vout);\n",
    "    A2ind.push_back(Pin);\n",
    "    A2ind.push_back(Vin);\n",
    "    UniTensor A2(A2ind, \"cA\");\n",
    "    A2.randomize();\n",
    "\n",
    "    int labelA[] = {1,5,2};\n",
    "    int labelFL[] = {6,3,1};\n",
    "    int labelFR[] = {2,4,8};\n",
    "    int labelM[] = {3,7,4,5};\n",
    "    int labelA2[] = {8,7,6};\n",
    "\n",
    "    A.setLabel(labelA);\n",
    "    FL.setLabel(labelFL);\n",
    "    FR.setLabel(labelFR);\n",
    "    M.setLabel(labelM);\n",
    "    A2.setLabel(labelA2);\n",
    "\n",
    "    unsigned long* itimes = $(pointer(itimes)::Ptr{UInt});\n",
    "    i = 0;\n",
    "    double e = 0.;\n",
    "    while (i < $n)\n",
    "    {\n",
    "        unsigned long elapsed = $:(Base.time_ns()::UInt64);\n",
    "        auto FLA = ((FL * A)*M)*FR;\n",
    "        elapsed = $:(Base.time_ns()::UInt64) - elapsed;\n",
    "        itimes[i] = elapsed;\n",
    "        i += 1;\n",
    "    }\n",
    "    \"\"\"\n",
    "    times = itimes/1e9\n",
    "end"
   ]
  },
  {
   "cell_type": "code",
   "execution_count": null,
   "metadata": {
    "collapsed": true,
    "slideshow": {
     "slide_type": "skip"
    }
   },
   "outputs": [],
   "source": [
    "# compile\n",
    "Vphys = U1Space(0=>2,-1=>1,+1=>1)\n",
    "Vvirt = U1Space(0=>10,-1=>8,+1=>8,-2=>6,+2=>6,-3=>4,+3=>4,-4=>2,+4=>2)\n",
    "n = 100\n",
    "times = (time_mpo_sym_tk(Vphys,Vvirt,n),time_mpo_sym_itensor(Vphys,Vvirt,n),time_mpo_sym_uni10(Vphys,Vvirt,n));"
   ]
  },
  {
   "cell_type": "markdown",
   "metadata": {
    "slideshow": {
     "slide_type": "subslide"
    }
   },
   "source": [
    "## MPS - MPO Environment with U1 symmetry"
   ]
  },
  {
   "cell_type": "code",
   "execution_count": null,
   "metadata": {},
   "outputs": [],
   "source": [
    "# small\n",
    "Vphys = U1Space(0=>2,-1=>1,+1=>1)\n",
    "Vvirt = U1Space(0=>10,-1=>8,+1=>8,-2=>6,+2=>6,-3=>4,+3=>4,-4=>2,+4=>2)\n",
    "n = 10000\n",
    "times = (time_mpo_sym_tk(Vphys,Vvirt,n),time_mpo_sym_itensor(Vphys,Vvirt,n),time_mpo_sym_uni10(Vphys,Vvirt,n))\n",
    "plot(sort(times[1]));plot(sort(times[2]));plot(sort(times[3]));ylim([0.,10*minimum(times[1])])\n",
    "legend([\"TensorKit.jl\",\"ITensor v2.1.0\",\"Uni10 v1.0\"])"
   ]
  },
  {
   "cell_type": "markdown",
   "metadata": {
    "slideshow": {
     "slide_type": "subslide"
    }
   },
   "source": [
    "## MPS - MPO Environment with U1 symmetry"
   ]
  },
  {
   "cell_type": "code",
   "execution_count": null,
   "metadata": {},
   "outputs": [],
   "source": [
    "# medium\n",
    "Vphys = U1Space(0=>4,-1=>2,+1=>2,-2=>2,+2=>2)\n",
    "Vvirt = U1Space(0=>50,-1=>40,+1=>40,-2=>30,+2=>30,-3=>20,+3=>20,-4=>10,+4=>10)\n",
    "n = 1000\n",
    "times = (time_mpo_sym_tk(Vphys,Vvirt,n),time_mpo_sym_itensor(Vphys,Vvirt,n),time_mpo_sym_uni10(Vphys,Vvirt,n))\n",
    "plot(sort(times[1]));plot(sort(times[2]));plot(sort(times[3]));ylim([0.,10*minimum(times[1])])\n",
    "legend([\"TensorKit.jl\",\"ITensor v2.1.0\",\"Uni10 v1.0\"])"
   ]
  },
  {
   "cell_type": "markdown",
   "metadata": {
    "slideshow": {
     "slide_type": "subslide"
    }
   },
   "source": [
    "## Number of lines of code: ITensor"
   ]
  },
  {
   "cell_type": "code",
   "execution_count": null,
   "metadata": {},
   "outputs": [],
   "source": [
    "cd(itensorpath*\"itensor\")\n",
    "run(pipeline(`find . -iname '*.h' -o -iname '*.ih' -o -iname '*.cc'`,`grep -v mps`,`xargs wc -l`,`tail -n 1`))"
   ]
  },
  {
   "cell_type": "markdown",
   "metadata": {
    "slideshow": {
     "slide_type": "subslide"
    }
   },
   "source": [
    "## Number of lines of code: Uni10"
   ]
  },
  {
   "cell_type": "code",
   "execution_count": null,
   "metadata": {},
   "outputs": [],
   "source": [
    "cd(\"/Users/jutho/Dropbox/Code/Libraries/uni10-build/uni10/src\")\n",
    "run(pipeline(`find . -iname '*.hpp' -o -iname '*.h' -o -iname '*.cpp'`,`xargs wc -l`,`tail -n 1`))"
   ]
  },
  {
   "cell_type": "markdown",
   "metadata": {
    "slideshow": {
     "slide_type": "subslide"
    }
   },
   "source": [
    "## Number of lines of code: TensorKit & dependencies"
   ]
  },
  {
   "cell_type": "code",
   "execution_count": null,
   "metadata": {},
   "outputs": [],
   "source": [
    "cd(\"/Users/jutho/Dropbox/Code/Packages/Strided/src\")\n",
    "run(pipeline(`find . -iname '*.jl'`,`xargs wc -l`,`tail -n 1`))"
   ]
  },
  {
   "cell_type": "code",
   "execution_count": null,
   "metadata": {},
   "outputs": [],
   "source": [
    "cd(\"/Users/jutho/Dropbox/Code/Packages/TupleTools/src\")\n",
    "run(pipeline(`find . -iname '*.jl'`,`xargs wc -l`,`tail -n 1`))"
   ]
  },
  {
   "cell_type": "code",
   "execution_count": null,
   "metadata": {},
   "outputs": [],
   "source": [
    "cd(\"/Users/jutho/Dropbox/Code/Packages/TensorOperations/src\")\n",
    "run(pipeline(`find . -iname '*.jl'`,`xargs wc -l`,`tail -n 1`))"
   ]
  },
  {
   "cell_type": "code",
   "execution_count": null,
   "metadata": {},
   "outputs": [],
   "source": [
    "cd(\"/Users/jutho/Dropbox/Code/Packages/WignerSymbols/src\")\n",
    "run(pipeline(`find . -iname '*.jl'`,`xargs wc -l`,`tail -n 1`))"
   ]
  },
  {
   "cell_type": "code",
   "execution_count": null,
   "metadata": {},
   "outputs": [],
   "source": [
    "cd(\"/Users/jutho/Dropbox/Code/Packages/TensorKit/src\")\n",
    "run(pipeline(`find . -iname '*.jl'`,`xargs wc -l`,`tail -n 1`))"
   ]
  },
  {
   "cell_type": "markdown",
   "metadata": {
    "slideshow": {
     "slide_type": "slide"
    }
   },
   "source": [
    "## Summary\n",
    "\n",
    "* Currently in TensorKit:\n",
    "    * Abelian and Non-Abelian symmetries: $\\mathsf{U}_1$, $\\mathbb{Z}_N$, $\\mathsf{SU}_2$, $\\mathsf{U}_1 \\rtimes C$\n",
    "    * Any tensor product of the above\n",
    "    * Any symmetry a user provides, but with some work to be done if $N_{a,b}^{c} > 1$\n",
    "    * Fermions (using super vector spaces), but currently untested\n",
    "* Any number type `Float32`, `Float64`, `Complex{Float32}`, `Complex{Float64}`, MPFR big precision, high precision numbers provided by external packages, ...\n",
    "\n",
    "* First steps into multithreading beyond BLAS\n",
    "\n",
    "## Outlook\n",
    "\n",
    "* Public version (open source, MIT licensed) soon... (also waiting for Julia to stabilize)\n",
    "* Actual tensor network algorithms\n",
    "* Arbitrary topological symmetries\n",
    "* Tensor network objects that allow to efficiently recycle temporaries, extract environments, ...\n",
    "* Spatial symmetries?\n",
    "* GPU support?"
   ]
  }
 ],
 "metadata": {
  "celltoolbar": "Slideshow",
  "kernelspec": {
   "display_name": "Julia 0.6.0",
   "language": "julia",
   "name": "julia-0.6"
  },
  "language_info": {
   "file_extension": ".jl",
   "mimetype": "application/julia",
   "name": "julia",
   "version": "0.6.2"
  }
 },
 "nbformat": 4,
 "nbformat_minor": 1
}
