{
 "cells": [
  {
   "cell_type": "markdown",
   "metadata": {
    "slideshow": {
     "slide_type": "slide"
    }
   },
   "source": [
    "### TDA 2016, January 21st, Leuven\n",
    "\n",
    "# &nbsp; \n",
    "# &nbsp;\n",
    "\n",
    "# TensorOperations.jl:\n",
    "## Convenient tensor operations with Julia\n",
    "### (and fun with metaprogramming)\n",
    "\n",
    "# &nbsp;\n",
    "# &nbsp;\n",
    "\n",
    "### Jutho Haegeman\n",
    "#### Department of Physics and Astronomy\n",
    "#### UGent"
   ]
  },
  {
   "cell_type": "markdown",
   "metadata": {
    "slideshow": {
     "slide_type": "slide"
    }
   },
   "source": [
    "### my motivation: quantum many body physics\n",
    "* weirdness of quantum mechanics: Schrodinger's cat\n",
    "![Schrodinger's cat](schrodinger.png)"
   ]
  },
  {
   "cell_type": "markdown",
   "metadata": {
    "slideshow": {
     "slide_type": "slide"
    }
   },
   "source": [
    "### my motivation: quantum many body physics\n",
    "* quantum bit ( = qubit):\n",
    "$$\\vert\\Psi\\rangle = \\alpha \\vert 0\\rangle + \\beta \\vert 1\\rangle$$\n",
    "with $\\alpha,\\beta\\in\\mathbb{C}$\n",
    "* intrinsically indeterministic:\n",
    "\n",
    "    * $|\\alpha|^2$: probability of measuring 0\n",
    "    * $|\\beta|^2$: probability of measuring 1\n",
    "\n",
    "* for $N$ different qubits?\n",
    "$$\\vert\\Psi\\rangle = \\Psi_{00000} \\vert 00000\\rangle + \\Psi_{00001} \\vert 00001\\rangle + \\ldots + \\Psi_{11111} \\vert 11111\\rangle$$\n",
    "$\\Rightarrow$ storing a quantum state of $N$ qubits requires $2^N$ complex numbers $\\Psi_{i_1,i_2,\\ldots,i_{N}}$"
   ]
  },
  {
   "cell_type": "markdown",
   "metadata": {
    "slideshow": {
     "slide_type": "slide"
    }
   },
   "source": [
    "### my motivation: quantum many body physics\n",
    "* quantum state is a high-order tensor / multidimensional array:\n",
    "![State Psi](psi.png)\n",
    "* Curse of dimensionality: exponential scaling in the number of degrees of freedom (qubits, spins, atoms, ...)"
   ]
  },
  {
   "cell_type": "code",
   "execution_count": null,
   "metadata": {
    "collapsed": true,
    "slideshow": {
     "slide_type": "slide"
    }
   },
   "outputs": [],
   "source": [
    "![Tensor networks](tn.png)"
   ]
  },
  {
   "cell_type": "markdown",
   "metadata": {
    "slideshow": {
     "slide_type": "slide"
    }
   },
   "source": [
    "### Tensors and tensor contractions\n",
    "* graphical notation:\n",
    "    * matrix - vector multiplication: ![matvec](matvec.png)\n",
    "    * matrix - matrix multiplication: ![matmat](matmat.png)\n",
    "* general tensor operations: permutations, partial traces, contractions\n",
    "    * graphical: ![tensor operation](tensorcontraction.png)\n",
    "    * index notation with Einstein summation convention:\n",
    "    $D_{a,b,c} = A_{a,d,e,c}\\cdot B_{f,e,b,d,f}+C_{c,b,a}$"
   ]
  },
  {
   "cell_type": "markdown",
   "metadata": {
    "slideshow": {
     "slide_type": "slide"
    }
   },
   "source": [
    "### Tensor operations in Julia"
   ]
  },
  {
   "cell_type": "code",
   "execution_count": 6,
   "metadata": {
    "collapsed": false,
    "slideshow": {
     "slide_type": "fragment"
    }
   },
   "outputs": [
    {
     "data": {
      "text/plain": [
       "9.24156474531335e-15"
      ]
     },
     "execution_count": 6,
     "metadata": {},
     "output_type": "execute_result"
    }
   ],
   "source": [
    "n=3;\n",
    "A=randn(n,n,n,n);\n",
    "B=randn(n,n,n,n,n);\n",
    "C=randn(n,n,n);\n",
    "\n",
    "D2=zeros(n,n,n);\n",
    "for a=1:n, b=1:n, c=1:n\n",
    "    D2[a,b,c] += C[c,b,a]\n",
    "    for d=1:n, e=1:n, f=1:n\n",
    "        D2[a,b,c] += A[a,d,e,c]*B[f,e,b,d,f]\n",
    "    end\n",
    "end\n",
    "\n",
    "using TensorOperations\n",
    "@tensor D[a,b,c] := A[a,d,e,c]*B[f,e,b,d,f] + C[c,b,a];\n",
    "\n",
    "vecnorm(D-D2)"
   ]
  },
  {
   "cell_type": "code",
   "execution_count": 7,
   "metadata": {
    "collapsed": false,
    "slideshow": {
     "slide_type": "fragment"
    }
   },
   "outputs": [
    {
     "data": {
      "text/plain": [
       "f2! (generic function with 1 method)"
      ]
     },
     "execution_count": 7,
     "metadata": {},
     "output_type": "execute_result"
    }
   ],
   "source": [
    "function f1!(D,n,A,B,C)\n",
    "    for a=1:n, b=1:n, c=1:n\n",
    "        D[a,b,c] += C[c,b,a]\n",
    "        for d=1:n, e=1:n, f=1:n\n",
    "            D[a,b,c] += A[a,d,e,c]*B[f,e,b,d,f]\n",
    "        end\n",
    "    end\n",
    "    return D\n",
    "end\n",
    "function f2!(D,n,A,B,C)\n",
    "    @tensor D[a,b,c] = A[a,d,e,c]*B[f,e,b,d,f] + C[c,b,a];\n",
    "    return D\n",
    "end"
   ]
  },
  {
   "cell_type": "code",
   "execution_count": 8,
   "metadata": {
    "collapsed": false,
    "slideshow": {
     "slide_type": "fragment"
    }
   },
   "outputs": [],
   "source": [
    "n=30;\n",
    "A=randn(n,n,n,n);\n",
    "B=randn(n,n,n,n,n);\n",
    "C=randn(n,n,n);\n",
    "D=zeros(n,n,n);"
   ]
  },
  {
   "cell_type": "code",
   "execution_count": 9,
   "metadata": {
    "collapsed": false,
    "slideshow": {
     "slide_type": "fragment"
    }
   },
   "outputs": [
    {
     "name": "stdout",
     "output_type": "stream",
     "text": [
      "  5.910319 seconds (14.34 k allocations: 658.876 KB)\n",
      "  0.019754 seconds (5.79 k allocations: 6.808 MB)\n"
     ]
    }
   ],
   "source": [
    "@time f1!(D,n,A,B,C);\n",
    "@time f2!(D,n,A,B,C);"
   ]
  },
  {
   "cell_type": "markdown",
   "metadata": {
    "slideshow": {
     "slide_type": "slide"
    }
   },
   "source": [
    "### What is going on underneath?\n",
    "* Basic tensor operations (`op` can be idenity (doing nothing) or `conj`):\n",
    "    * permutations and addition: `C = β*C + α*permutation(op(A))`\n",
    "    * partial trace: `C = β*C + α*partialtrace(op(A))`\n",
    "    * contraction: `C = β*C + α*contract(op(A),op(B))`\n",
    "    \n",
    "  (also via method based access)"
   ]
  },
  {
   "cell_type": "markdown",
   "metadata": {
    "slideshow": {
     "slide_type": "slide"
    }
   },
   "source": [
    "### 1. Permutations"
   ]
  },
  {
   "cell_type": "code",
   "execution_count": 10,
   "metadata": {
    "collapsed": false,
    "slideshow": {
     "slide_type": "fragment"
    }
   },
   "outputs": [],
   "source": [
    "A=randn(10,10,10,10,10,10,10,10);\n",
    "B=zeros(10,10,10,10,10,10,10,10);"
   ]
  },
  {
   "cell_type": "code",
   "execution_count": 12,
   "metadata": {
    "collapsed": false,
    "slideshow": {
     "slide_type": "fragment"
    }
   },
   "outputs": [
    {
     "name": "stdout",
     "output_type": "stream",
     "text": [
      "  1.906119 seconds (40 allocations: 1.406 KB)\n",
      "  0.353497 seconds (32 allocations: 1.406 KB)\n"
     ]
    }
   ],
   "source": [
    "@time permutedims!(B,A,[8,7,6,5,4,3,2,1]);\n",
    "@time @tensor B[8,7,6,5,4,3,2,1] = A[1,2,3,4,5,6,7,8];"
   ]
  },
  {
   "cell_type": "code",
   "execution_count": 14,
   "metadata": {
    "collapsed": false,
    "slideshow": {
     "slide_type": "fragment"
    }
   },
   "outputs": [
    {
     "name": "stdout",
     "output_type": "stream",
     "text": [
      "  0.101288 seconds (4 allocations: 160 bytes)\n",
      "  0.127674 seconds (40 allocations: 1.406 KB)\n",
      "  0.132622 seconds (32 allocations: 1.406 KB)\n"
     ]
    }
   ],
   "source": [
    "@time copy!(B,A);\n",
    "@time permutedims!(B,A,[1,2,3,4,5,6,7,8]);\n",
    "@time @tensor B[1,2,3,4,5,6,7,8] = A[1,2,3,4,5,6,7,8];"
   ]
  },
  {
   "cell_type": "markdown",
   "metadata": {
    "slideshow": {
     "slide_type": "slide"
    }
   },
   "source": [
    "### 1. Permutations\n",
    "* How to optimize permutations? Why is it slower than normal copy?\n",
    "* Even for matrix transposition?\n",
    "  ```julia\n",
    "  transpose!(dst,src)```\n",
    "  ![transpose](transpose.png)\n",
    "  Memory is linear $\\Rightarrow$ `transpose` require unfavorable memory access!"
   ]
  },
  {
   "cell_type": "markdown",
   "metadata": {
    "collapsed": true,
    "slideshow": {
     "slide_type": "fragment"
    }
   },
   "source": [
    "```julia\n",
    "function transpose!(B::StridedMatrix,A::StridedMatrix)\n",
    "    m, n = size(A)\n",
    "    size(B,1) == n && size(B,2) == m || throw(DimensionMismatch(\"transpose\"))\n",
    "\n",
    "    if m*n<=4*transposebaselength\n",
    "        @inbounds begin\n",
    "            for j = 1:n\n",
    "                for i = 1:m\n",
    "                    B[j,i] = transpose(A[i,j])\n",
    "                end\n",
    "            end\n",
    "        end\n",
    "    else\n",
    "        transposeblock!(B,A,m,n,0,0)\n",
    "    end\n",
    "    return B\n",
    "end\n",
    "function transposeblock!(B::StridedMatrix,A::StridedMatrix,m::Int,n::Int,offseti::Int,offsetj::Int)\n",
    "    if m*n<=transposebaselength\n",
    "        @inbounds begin\n",
    "            for j = offsetj+(1:n)\n",
    "                for i = offseti+(1:m)\n",
    "                    B[j,i] = transpose(A[i,j])\n",
    "                end\n",
    "            end\n",
    "        end\n",
    "    elseif m>n\n",
    "        newm=m>>1\n",
    "        transposeblock!(B,A,newm,n,offseti,offsetj)\n",
    "        transposeblock!(B,A,m-newm,n,offseti+newm,offsetj)\n",
    "    else\n",
    "        newn=n>>1\n",
    "        transposeblock!(B,A,m,newn,offseti,offsetj)\n",
    "        transposeblock!(B,A,m,n-newn,offseti,offsetj+newn)\n",
    "    end\n",
    "    return B\n",
    "end\n",
    "```"
   ]
  },
  {
   "cell_type": "markdown",
   "metadata": {
    "slideshow": {
     "slide_type": "slide"
    }
   },
   "source": [
    "### 1. Permutations\n",
    "* How to generalize to multidimensional permutations?\n",
    "    1. How to write nested loops depending on the dimensionality of the array?\n",
    "    2. What is the best blocking (divide and conquer) strategy?"
   ]
  },
  {
   "cell_type": "markdown",
   "metadata": {
    "slideshow": {
     "slide_type": "fragment"
    }
   },
   "source": [
    "1. Solution to 1: generated functions!\n",
    "\n",
    "parse -> expressions -> macro expansion -> new expression -> type inference -> generated functions -> compile -> run\n",
    "\n",
    "[TensorOperations.jl kernels](https://github.com/Jutho/TensorOperations.jl/tree/staged/src)"
   ]
  },
  {
   "cell_type": "markdown",
   "metadata": {
    "slideshow": {
     "slide_type": "fragment"
    }
   },
   "source": [
    "2. Solution to 2: divide dimensions along which the minimum of the memory jumps of the two arrays is maximal."
   ]
  },
  {
   "cell_type": "markdown",
   "metadata": {
    "slideshow": {
     "slide_type": "slide"
    }
   },
   "source": [
    "### 2. Partial trace\n",
    "* very similar, but somewhat more carefull\n",
    "\n",
    "### 3. Tensor contraction: very similar to matrix multiplication\n",
    "\n",
    "* Fastest algorithm: permute input arrays and reshape them such that you can use BLAS matrix multiplication\n",
    "  ![simple contraction](simplecontraction.png)"
   ]
  },
  {
   "cell_type": "markdown",
   "metadata": {
    "slideshow": {
     "slide_type": "fragment"
    }
   },
   "source": [
    "```julia\n",
    "Amat=reshape(permutedims(A,[1,4,2,3]),(dA1*dA4,dA2*dA3))\n",
    "Bmat=reshape(permutedims(B,[3,1,2]),(dB3*dB1,dB2))\n",
    "Cmat=Amat*Bmat\n",
    "C=permutedims(reshape(Cmat,(dA1,dA4,dB2)),[1,3,2])\n",
    "```"
   ]
  },
  {
   "cell_type": "markdown",
   "metadata": {
    "slideshow": {
     "slide_type": "fragment"
    }
   },
   "source": [
    "```julia\n",
    "using TensorOperations\n",
    "C = tensorcontract(A,[1,2,3,4],B,[3,5,2],[1,5,4])\n",
    "@tensor C[a,b,c] = A[a,d,e,c]*B[e,b,d]\n",
    "```"
   ]
  },
  {
   "cell_type": "markdown",
   "metadata": {
    "slideshow": {
     "slide_type": "slide"
    }
   },
   "source": [
    "### Future directions:\n",
    "#### Contraction order matters!\n",
    "\n",
    "* matrix - matrix - vector multiplication: `A*B*v`: `A*(B*v)` is much faster than `(A*B)*v`\n",
    "* ![mera](mera.png)"
   ]
  },
  {
   "cell_type": "markdown",
   "metadata": {
    "slideshow": {
     "slide_type": "fragment"
    }
   },
   "source": [
    "#### What is optimal contraction order?\n",
    "\n",
    "* ![2dmerac](2dmerac.png)\n",
    "* \"Faster identification of optimal contraction sequences for tensor networks\" (PR E 90, 033315 (2014))\n",
    "    \n",
    "####  $\\Rightarrow$ implement new macro that takes `A[...]*B[...]*C[...]*D[...]` and transforms it into e.g. `A[...]*((B[...]*C[...])*D[...])` at compile time"
   ]
  },
  {
   "cell_type": "markdown",
   "metadata": {
    "slideshow": {
     "slide_type": "fragment"
    }
   },
   "source": [
    "#### More flexible index notation; mixed combinations of manual loops, creating slices and applying tensor operations\n",
    "#### Multi-threading? GPU?"
   ]
  },
  {
   "cell_type": "code",
   "execution_count": null,
   "metadata": {
    "collapsed": true
   },
   "outputs": [],
   "source": []
  }
 ],
 "metadata": {
  "celltoolbar": "Slideshow",
  "kernelspec": {
   "display_name": "Julia 0.4.1",
   "language": "julia",
   "name": "julia-0.4"
  },
  "language_info": {
   "file_extension": ".jl",
   "mimetype": "application/julia",
   "name": "julia",
   "version": "0.4.3"
  }
 },
 "nbformat": 4,
 "nbformat_minor": 0
}
