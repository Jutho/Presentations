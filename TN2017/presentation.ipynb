{
 "cells": [
  {
   "cell_type": "markdown",
   "metadata": {
    "slideshow": {
     "slide_type": "slide"
    }
   },
   "source": [
    "### Tensor Computation Workshop 2017, September 15, NYC\n",
    "\n",
    "# &nbsp;\n",
    "\n",
    "# TensorOperations.jl:\n",
    "## Elementary tensor operations with Julia\n",
    "### (and fun with metaprogramming)\n",
    "\n",
    "# &nbsp;\n",
    "\n",
    "### Jutho Haegeman\n",
    "#### Department of Physics and Astronomy, UGent"
   ]
  },
  {
   "cell_type": "markdown",
   "metadata": {
    "slideshow": {
     "slide_type": "slide"
    }
   },
   "source": [
    "## Overview\n",
    "\n",
    "\n",
    "* **Motivation: Tensor Network Decompositions in Quantum Physics**\n",
    "* **Intro to the Julia Language**\n",
    "* **TensorOperations.jl**\n",
    "* **Implementation of basic tensor operations (with metaprogramming)**\n",
    "* **Optimization of tensor contraction order**\n",
    "* **Outlook**"
   ]
  },
  {
   "cell_type": "markdown",
   "metadata": {
    "slideshow": {
     "slide_type": "subslide"
    }
   },
   "source": [
    "## Motivation: quantum many body physics\n",
    "* quantum bit ( = qubit):\n",
    "\n",
    "$$\\vert\\Psi\\rangle = \\alpha \\vert 0\\rangle + \\beta \\vert 1\\rangle\\quad\\text{with}\\quad\\alpha,\\beta\\in\\mathbb{C}$$\n",
    "\n",
    "* intrinsically indeterministic:\n",
    "\n",
    "    * $|\\alpha|^2$: probability of measuring 0\n",
    "    * $|\\beta|^2$: probability of measuring 1\n",
    "\n",
    "* for $N$ different qubits? \n",
    "\n",
    "$$\\vert\\Psi\\rangle = \\Psi_{00000}\\vert 00000 \\rangle + \\Psi_{00001} \\vert 00001\\rangle + \\ldots+ \\Psi_{11111} \\vert 11111\\rangle$$\n",
    "\n",
    "**$\\Rightarrow$ storing a quantum state of $N$ qubits requires $2^N$ complex numbers: $\\Psi_{i_1,i_2,\\ldots,i_{N}}$**"
   ]
  },
  {
   "cell_type": "markdown",
   "metadata": {
    "slideshow": {
     "slide_type": "subslide"
    }
   },
   "source": [
    "## Motivation: quantum many body physics\n",
    "* quantum state is a high-order tensor / multidimensional array:\n",
    "  <img src=\"psi.png\" style=\"width: 500px;\"/>\n",
    "\n",
    "* Curse of dimensionality: exponential scaling in $N$, the number of degrees of freedom (qubits, spins, atoms, ...)\n",
    "  \n",
    "* Realistic materials: $N$ is in the order of Avogadro's number, i.e. $O(10^{23})$\n",
    "  <img src=\"graphene.jpg\" style=\"width: 300px;\"/>"
   ]
  },
  {
   "cell_type": "markdown",
   "metadata": {
    "slideshow": {
     "slide_type": "subslide"
    }
   },
   "source": [
    "## Motivation: tensor network decompositions\n",
    "* graphical notation:\n",
    "    * matrix - vector multiplication: <img src=\"matvec.png\" style=\"width: 400px;\"/>\n",
    "    * matrix - matrix multiplication: <img src=\"matmat.png\" style=\"width: 400px;\"/>\n",
    "* tensor network decompositions for efficient description of quantum states\n",
    "  <img src=\"tn2.png\" style=\"width: 600px;\"/>"
   ]
  },
  {
   "cell_type": "markdown",
   "metadata": {
    "slideshow": {
     "slide_type": "slide"
    }
   },
   "source": [
    "## Introduction to the Julia Language\n",
    "\n",
    "  <img src=\"julia.png\" style=\"width: 200px;\"/>\n"
   ]
  },
  {
   "cell_type": "markdown",
   "metadata": {
    "slideshow": {
     "slide_type": "fragment"
    }
   },
   "source": [
    "* Selling point: dynamic high-level language with the speed of a statically-compiled language"
   ]
  },
  {
   "cell_type": "markdown",
   "metadata": {
    "slideshow": {
     "slide_type": "fragment"
    }
   },
   "source": [
    "* Key features:\n",
    "    * Just-in-time compiled (using LLVM infrastructure)\n",
    "    * Dynamic type system\n",
    "    * Multiple dispatch:\n",
    "        * define function behavior across many combinations of argument types\n",
    "        * automatic generation of efficient, specialized code for different argument types\n",
    "    * Good support for computational science: numerics, statistics, multidimensional arrays, ...\n",
    "    * Homoiconic and powerful metaprogramming facilities"
   ]
  },
  {
   "cell_type": "markdown",
   "metadata": {
    "slideshow": {
     "slide_type": "subslide"
    }
   },
   "source": [
    "### Code generation"
   ]
  },
  {
   "cell_type": "code",
   "execution_count": 31,
   "metadata": {
    "slideshow": {
     "slide_type": "-"
    }
   },
   "outputs": [
    {
     "data": {
      "text/plain": [
       "myabs2 (generic function with 2 methods)"
      ]
     },
     "execution_count": 31,
     "metadata": {},
     "output_type": "execute_result"
    }
   ],
   "source": [
    "function myabs(x)\n",
    "    if x < 0\n",
    "        return -x\n",
    "    end\n",
    "    return x\n",
    "end\n",
    "function myabs2(x::Real)\n",
    "    if x < 0\n",
    "        return -x\n",
    "    end\n",
    "    return x\n",
    "end\n",
    "function myabs2(x::Unsigned)\n",
    "    return x\n",
    "end"
   ]
  },
  {
   "cell_type": "markdown",
   "metadata": {
    "slideshow": {
     "slide_type": "subslide"
    }
   },
   "source": [
    "### Code generation"
   ]
  },
  {
   "cell_type": "code",
   "execution_count": 62,
   "metadata": {
    "slideshow": {
     "slide_type": "-"
    }
   },
   "outputs": [
    {
     "name": "stdout",
     "output_type": "stream",
     "text": [
      "\t.section\t__TEXT,__text,regular,pure_instructions\n",
      "Filename: In[31]\n",
      "\tpushq\t%rbp\n",
      "\tmovq\t%rsp, %rbp\n",
      "Source line: 2\n",
      "\ttestq\t%rdi, %rdi\n",
      "\tjs\tL14\n",
      "Source line: 5\n",
      "\tmovq\t%rdi, %rax\n",
      "\tpopq\t%rbp\n",
      "\tretq\n",
      "Source line: 3\n",
      "L14:\n",
      "\tnegq\t%rdi\n",
      "\tmovq\t%rdi, %rax\n",
      "\tpopq\t%rbp\n",
      "\tretq\n",
      "\tnopw\t%cs:(%rax,%rax)\n"
     ]
    }
   ],
   "source": [
    "@code_native myabs(3) # LLVM code for 64-bit integer"
   ]
  },
  {
   "cell_type": "code",
   "execution_count": 33,
   "metadata": {},
   "outputs": [
    {
     "name": "stdout",
     "output_type": "stream",
     "text": [
      "\n",
      "define i64 @julia_myabs_62677(i64) #0 !dbg !5 {\n",
      "L4:\n",
      "  ret i64 %0\n",
      "}\n"
     ]
    }
   ],
   "source": [
    "code_llvm(myabs,Tuple{UInt64}) # LLVM code for 64-bit unsigned integer"
   ]
  },
  {
   "cell_type": "code",
   "execution_count": 34,
   "metadata": {},
   "outputs": [
    {
     "name": "stdout",
     "output_type": "stream",
     "text": [
      "\n",
      "define double @julia_myabs_62678(double) #0 !dbg !5 {\n",
      "top:\n",
      "  %1 = fcmp uge double %0, 0.000000e+00\n",
      "  br i1 %1, label %L9, label %if\n",
      "\n",
      "if:                                               ; preds = %top\n",
      "  %2 = fsub double -0.000000e+00, %0\n",
      "  ret double %2\n",
      "\n",
      "L9:                                               ; preds = %top\n",
      "  ret double %0\n",
      "}\n"
     ]
    }
   ],
   "source": [
    "code_llvm(myabs,Tuple{Float64}) # LLVM code for 64-bit floating point"
   ]
  },
  {
   "cell_type": "markdown",
   "metadata": {
    "slideshow": {
     "slide_type": "subslide"
    }
   },
   "source": [
    "### Type inference & type stability"
   ]
  },
  {
   "cell_type": "code",
   "execution_count": 35,
   "metadata": {
    "slideshow": {
     "slide_type": "-"
    }
   },
   "outputs": [
    {
     "name": "stdout",
     "output_type": "stream",
     "text": [
      "Variables:\n",
      "  #self#::#mysqrt\n",
      "  x::Float64\n",
      "\n",
      "Body:\n",
      "  begin \n",
      "      unless (Base.lt_float)(x::Float64, (Base.sitofp)(Float64, 0)::Float64)::Bool goto 3\n",
      "      return $(Expr(:invoke, MethodInstance for sqrt(::Complex{Float64}), :(Main.sqrt), :($(Expr(:new, Complex{Float64}, :(x), :((Base.sitofp)(Float64, 0)::Float64))))))\n",
      "      3: \n",
      "      return (Base.Math.sqrt_llvm)(x::Float64)::Float64\n",
      "  end\u001b[1m\u001b[91m::Union{Complex{Float64}, Float64}\u001b[39m\u001b[22m\n"
     ]
    }
   ],
   "source": [
    "mysqrt(x) = x < zero(x) ? sqrt(complex(x)) : sqrt(x)\n",
    "code_warntype(mysqrt,Tuple{Float64})"
   ]
  },
  {
   "cell_type": "markdown",
   "metadata": {
    "slideshow": {
     "slide_type": "subslide"
    }
   },
   "source": [
    "### Type inference & type stability"
   ]
  },
  {
   "cell_type": "code",
   "execution_count": 36,
   "metadata": {
    "slideshow": {
     "slide_type": "-"
    }
   },
   "outputs": [
    {
     "name": "stdout",
     "output_type": "stream",
     "text": [
      "Variables:\n",
      "  #self#::#summyabs\n",
      "  v::Array{Float64,1}\n",
      "  i::Int64\n",
      "  #temp#@_4::Int64\n",
      "  s::Float64\n",
      "  fy::Float64\n",
      "  #temp#@_7::Float64\n",
      "\n",
      "Body:\n",
      "  begin \n",
      "      SSAValue(2) = (Base.arrayref)(v::Array{Float64,1}, 1)::Float64\n",
      "      $(Expr(:inbounds, false))\n",
      "      # meta: location In[31] myabs 2\n",
      "      # meta: location float.jl < 491\n",
      "      fy::Float64 = (Base.sitofp)(Float64, 0)::Float64\n",
      "      # meta: pop location\n",
      "      unless (Base.or_int)((Base.lt_float)(SSAValue(2), fy::Float64)::Bool, (Base.and_int)((Base.and_int)((Base.eq_float)(SSAValue(2), fy::Float64)::Bool, (Base.lt_float)(fy::Float64, 9.223372036854776e18)::Bool)::Bool, (Base.slt_int)((Base.fptosi)(Int64, fy::Float64)::Int64, 0)::Bool)::Bool)::Bool goto 11 # line 3:\n",
      "      #temp#@_7::Float64 = (Base.neg_float)(SSAValue(2))::Float64\n",
      "      goto 14\n",
      "      11:  # line 5:\n",
      "      #temp#@_7::Float64 = SSAValue(2)\n",
      "      14: \n",
      "      # meta: pop location\n",
      "      $(Expr(:inbounds, :pop))\n",
      "      s::Float64 = #temp#@_7::Float64 # line 3:\n",
      "      SSAValue(3) = (Base.arraylen)(v::Array{Float64,1})::Int64\n",
      "      SSAValue(4) = (Base.select_value)((Base.sle_int)(2, SSAValue(3))::Bool, SSAValue(3), (Base.sub_int)(2, 1)::Int64)::Int64\n",
      "      #temp#@_4::Int64 = 2\n",
      "      22: \n",
      "      unless (Base.not_int)((#temp#@_4::Int64 === (Base.add_int)(SSAValue(4), 1)::Int64)::Bool)::Bool goto 32\n",
      "      SSAValue(5) = #temp#@_4::Int64\n",
      "      SSAValue(6) = (Base.add_int)(#temp#@_4::Int64, 1)::Int64\n",
      "      i::Int64 = SSAValue(5)\n",
      "      #temp#@_4::Int64 = SSAValue(6) # line 4:\n",
      "      s::Float64 = (Base.add_float)(s::Float64, (Base.abs_float)((Base.arrayref)(v::Array{Float64,1}, i::Int64)::Float64)::Float64)::Float64\n",
      "      30: \n",
      "      goto 22\n",
      "      32:  # line 6:\n",
      "      return s::Float64\n",
      "  end::Float64\n"
     ]
    }
   ],
   "source": [
    "function summyabs(v::Vector)\n",
    "    s = myabs(v[1])\n",
    "    for i = 2:length(v)\n",
    "        s += abs(v[i])\n",
    "    end\n",
    "    return s\n",
    "end\n",
    "code_warntype(summyabs, Tuple{Vector{Float64}})"
   ]
  },
  {
   "cell_type": "markdown",
   "metadata": {
    "slideshow": {
     "slide_type": "subslide"
    }
   },
   "source": [
    "### Type inference & type stability"
   ]
  },
  {
   "cell_type": "code",
   "execution_count": 37,
   "metadata": {
    "slideshow": {
     "slide_type": "-"
    }
   },
   "outputs": [
    {
     "name": "stdout",
     "output_type": "stream",
     "text": [
      "Variables:\n",
      "  #self#::#summysqrt\n",
      "  v::Array{Int64,1}\n",
      "  i::Int64\n",
      "  #temp#@_4::Int64\n",
      "  s\u001b[1m\u001b[91m::Union{Complex{Float64}, Float64}\u001b[39m\u001b[22m\n",
      "  #temp#@_6\u001b[1m\u001b[91m::Union{Complex{Float64}, Float64}\u001b[39m\u001b[22m\n",
      "  #temp#@_7\u001b[1m\u001b[91m::Union{Complex{Float64}, Float64}\u001b[39m\u001b[22m\n",
      "  #temp#@_8::Core.MethodInstance\n",
      "  #temp#@_9\u001b[1m\u001b[91m::Union{Complex{Float64}, Float64}\u001b[39m\u001b[22m\n",
      "\n",
      "Body:\n",
      "  begin \n",
      "      SSAValue(2) = (Base.arrayref)(v::Array{Int64,1}, 1)::Int64\n",
      "      $(Expr(:inbounds, false))\n",
      "      # meta: location In[35] mysqrt 1\n",
      "      unless (Base.slt_int)(SSAValue(2), 0)::Bool goto 7\n",
      "      #temp#@_6\u001b[1m\u001b[91m::Union{Complex{Float64}, Float64}\u001b[39m\u001b[22m = $(Expr(:invoke, MethodInstance for sqrt(::Complex{Float64}), :(Base.sqrt), :($(Expr(:new, Complex{Float64}, :((Base.sitofp)(Float64, SSAValue(2))::Float64), :((Base.sitofp)(Float64, 0)::Float64))))))\n",
      "      goto 9\n",
      "      7: \n",
      "      #temp#@_6\u001b[1m\u001b[91m::Union{Complex{Float64}, Float64}\u001b[39m\u001b[22m = (Base.Math.sqrt_llvm)((Base.sitofp)(Float64, SSAValue(2))::Float64)::Float64\n",
      "      9: \n",
      "      # meta: pop location\n",
      "      $(Expr(:inbounds, :pop))\n",
      "      s\u001b[1m\u001b[91m::Union{Complex{Float64}, Float64}\u001b[39m\u001b[22m = #temp#@_6\u001b[1m\u001b[91m::Union{Complex{Float64}, Float64}\u001b[39m\u001b[22m # line 3:\n",
      "      SSAValue(5) = (Base.arraylen)(v::Array{Int64,1})::Int64\n",
      "      SSAValue(9) = (Base.select_value)((Base.sle_int)(2, SSAValue(5))::Bool, SSAValue(5), (Base.sub_int)(2, 1)::Int64)::Int64\n",
      "      #temp#@_4::Int64 = 2\n",
      "      17: \n",
      "      unless (Base.not_int)((#temp#@_4::Int64 === (Base.add_int)(SSAValue(9), 1)::Int64)::Bool)::Bool goto 67\n",
      "      SSAValue(10) = #temp#@_4::Int64\n",
      "      SSAValue(11) = (Base.add_int)(#temp#@_4::Int64, 1)::Int64\n",
      "      i::Int64 = SSAValue(10)\n",
      "      #temp#@_4::Int64 = SSAValue(11) # line 4:\n",
      "      SSAValue(6) = (Base.arrayref)(v::Array{Int64,1}, i::Int64)::Int64\n",
      "      $(Expr(:inbounds, false))\n",
      "      # meta: location In[35] mysqrt 1\n",
      "      unless (Base.slt_int)(SSAValue(6), 0)::Bool goto 30\n",
      "      #temp#@_7\u001b[1m\u001b[91m::Union{Complex{Float64}, Float64}\u001b[39m\u001b[22m = $(Expr(:invoke, MethodInstance for sqrt(::Complex{Float64}), :(Base.sqrt), :($(Expr(:new, Complex{Float64}, :((Base.sitofp)(Float64, SSAValue(6))::Float64), :((Base.sitofp)(Float64, 0)::Float64))))))\n",
      "      goto 32\n",
      "      30: \n",
      "      #temp#@_7\u001b[1m\u001b[91m::Union{Complex{Float64}, Float64}\u001b[39m\u001b[22m = (Base.Math.sqrt_llvm)((Base.sitofp)(Float64, SSAValue(6))::Float64)::Float64\n",
      "      32: \n",
      "      # meta: pop location\n",
      "      $(Expr(:inbounds, :pop))\n",
      "      unless (#temp#@_7\u001b[1m\u001b[91m::Union{Complex{Float64}, Float64}\u001b[39m\u001b[22m isa Complex{Float64})::Bool goto 45\n",
      "      unless (s\u001b[1m\u001b[91m::Union{Complex{Float64}, Float64}\u001b[39m\u001b[22m isa Complex{Float64})::Bool goto 39\n",
      "      #temp#@_8::Core.MethodInstance = MethodInstance for +(::Complex{Float64}, ::Complex{Float64})\n",
      "      goto 61\n",
      "      39: \n",
      "      unless (s\u001b[1m\u001b[91m::Union{Complex{Float64}, Float64}\u001b[39m\u001b[22m isa Float64)::Bool goto 43\n",
      "      #temp#@_8::Core.MethodInstance = MethodInstance for +(::Float64, ::Complex{Float64})\n",
      "      goto 61\n",
      "      43: \n",
      "      goto 58\n",
      "      45: \n",
      "      unless (#temp#@_7\u001b[1m\u001b[91m::Union{Complex{Float64}, Float64}\u001b[39m\u001b[22m isa Float64)::Bool goto 56\n",
      "      unless (s\u001b[1m\u001b[91m::Union{Complex{Float64}, Float64}\u001b[39m\u001b[22m isa Complex{Float64})::Bool goto 50\n",
      "      #temp#@_8::Core.MethodInstance = MethodInstance for +(::Complex{Float64}, ::Float64)\n",
      "      goto 61\n",
      "      50: \n",
      "      unless (s\u001b[1m\u001b[91m::Union{Complex{Float64}, Float64}\u001b[39m\u001b[22m isa Float64)::Bool goto 54\n",
      "      #temp#@_8::Core.MethodInstance = MethodInstance for +(::Float64, ::Float64)\n",
      "      goto 61\n",
      "      54: \n",
      "      goto 58\n",
      "      56: \n",
      "      goto 58\n",
      "      58: \n",
      "      #temp#@_9\u001b[1m\u001b[91m::Union{Complex{Float64}, Float64}\u001b[39m\u001b[22m = (s\u001b[1m\u001b[91m::Union{Complex{Float64}, Float64}\u001b[39m\u001b[22m + #temp#@_7\u001b[1m\u001b[91m::Union{Complex{Float64}, Float64}\u001b[39m\u001b[22m)\u001b[1m\u001b[91m::Union{Complex{Float64}, Float64}\u001b[39m\u001b[22m\n",
      "      goto 63\n",
      "      61: \n",
      "      #temp#@_9\u001b[1m\u001b[91m::Union{Complex{Float64}, Float64}\u001b[39m\u001b[22m = $(Expr(:invoke, :(#temp#@_8), :(Main.+), :(s), :(#temp#@_7)))\n",
      "      63: \n",
      "      s\u001b[1m\u001b[91m::Union{Complex{Float64}, Float64}\u001b[39m\u001b[22m = #temp#@_9\u001b[1m\u001b[91m::Union{Complex{Float64}, Float64}\u001b[39m\u001b[22m\n",
      "      65: \n",
      "      goto 17\n",
      "      67:  # line 6:\n",
      "      return s\u001b[1m\u001b[91m::Union{Complex{Float64}, Float64}\u001b[39m\u001b[22m\n",
      "  end\u001b[1m\u001b[91m::Union{Complex{Float64}, Float64}\u001b[39m\u001b[22m\n"
     ]
    }
   ],
   "source": [
    "function summysqrt(v::Vector)\n",
    "    s = mysqrt(v[1])\n",
    "    for i = 2:length(v)\n",
    "        s += mysqrt(v[i])\n",
    "    end\n",
    "    return s\n",
    "end\n",
    "code_warntype(summysqrt,Tuple{Vector{Int64}})"
   ]
  },
  {
   "cell_type": "markdown",
   "metadata": {
    "slideshow": {
     "slide_type": "subslide"
    }
   },
   "source": [
    "### Homoiconicity"
   ]
  },
  {
   "cell_type": "code",
   "execution_count": 38,
   "metadata": {
    "collapsed": true,
    "slideshow": {
     "slide_type": "-"
    }
   },
   "outputs": [],
   "source": [
    "ex=:(function summysqrt(v::Vector)\n",
    "        s = mysqrt(v[1])\n",
    "        for i = 2:length(v)\n",
    "            s += mysqrt(v[i])\n",
    "        end\n",
    "        return x\n",
    "    end);"
   ]
  },
  {
   "cell_type": "code",
   "execution_count": 39,
   "metadata": {
    "slideshow": {
     "slide_type": "-"
    }
   },
   "outputs": [
    {
     "data": {
      "text/plain": [
       "Expr"
      ]
     },
     "execution_count": 39,
     "metadata": {},
     "output_type": "execute_result"
    }
   ],
   "source": [
    "typeof(ex)"
   ]
  },
  {
   "cell_type": "code",
   "execution_count": 40,
   "metadata": {
    "slideshow": {
     "slide_type": "-"
    }
   },
   "outputs": [
    {
     "name": "stdout",
     "output_type": "stream",
     "text": [
      "function\n",
      "summysqrt(v::Vector)\n",
      "begin  # In[38], line 2:\n",
      "    s = mysqrt(v[1]) # In[38], line 3:\n",
      "    for i = 2:length(v) # In[38], line 4:\n",
      "        s += mysqrt(v[i])\n",
      "    end # In[38], line 6:\n",
      "    return x\n",
      "end\n"
     ]
    }
   ],
   "source": [
    "println(ex.head),println(ex.args[1]),println(ex.args[2]);"
   ]
  },
  {
   "cell_type": "code",
   "execution_count": 41,
   "metadata": {
    "slideshow": {
     "slide_type": "-"
    }
   },
   "outputs": [
    {
     "name": "stdout",
     "output_type": "stream",
     "text": [
      "(:function, (:call, :summysqrt, (:(::), :v, :Vector)), (:block,\n",
      "    (:line, 2, Symbol(\"In[38]\")),\n",
      "    (:(=), :s, (:call, :mysqrt, (:ref, :v, 1))),\n",
      "    (:line, 3, Symbol(\"In[38]\")),\n",
      "    (:for, (:(=), :i, (:(:), 2, (:call, :length, :v))), (:block,\n",
      "        (:line, 4, Symbol(\"In[38]\")),\n",
      "        (:+=, :s, (:call, :mysqrt, (:ref, :v, :i)))\n",
      "      )),\n",
      "    (:line, 6, Symbol(\"In[38]\")),\n",
      "    (:return, :x)\n",
      "  ))"
     ]
    }
   ],
   "source": [
    "Meta.show_sexpr(ex)"
   ]
  },
  {
   "cell_type": "markdown",
   "metadata": {
    "slideshow": {
     "slide_type": "subslide"
    }
   },
   "source": [
    "### Metaprogramming"
   ]
  },
  {
   "cell_type": "code",
   "execution_count": 42,
   "metadata": {
    "slideshow": {
     "slide_type": "-"
    }
   },
   "outputs": [
    {
     "data": {
      "text/plain": [
       "@twice (macro with 1 method)"
      ]
     },
     "execution_count": 42,
     "metadata": {},
     "output_type": "execute_result"
    }
   ],
   "source": [
    "macro twice(ex)\n",
    "    Expr(:block, esc(ex), esc(ex))\n",
    "end"
   ]
  },
  {
   "cell_type": "code",
   "execution_count": 43,
   "metadata": {
    "slideshow": {
     "slide_type": "-"
    }
   },
   "outputs": [
    {
     "data": {
      "text/plain": [
       "5"
      ]
     },
     "execution_count": 43,
     "metadata": {},
     "output_type": "execute_result"
    }
   ],
   "source": [
    "x=3;\n",
    "@twice x+=1\n",
    "x"
   ]
  },
  {
   "cell_type": "code",
   "execution_count": 44,
   "metadata": {
    "slideshow": {
     "slide_type": "-"
    }
   },
   "outputs": [
    {
     "data": {
      "text/plain": [
       "quote \n",
       "    x += 1\n",
       "    x += 1\n",
       "end"
      ]
     },
     "execution_count": 44,
     "metadata": {},
     "output_type": "execute_result"
    }
   ],
   "source": [
    "macroexpand(:(@twice x+=1))"
   ]
  },
  {
   "cell_type": "markdown",
   "metadata": {
    "slideshow": {
     "slide_type": "slide"
    }
   },
   "source": [
    "## TensorOperations.jl\n",
    "* general tensor operations include permutations, partial traces, contractions\n",
    "    * graphical:\n",
    "      <img src=\"tensorcontraction.png\" style=\"width: 500px;\"/>\n",
    "      \n",
    "    * index notation with Einstein summation convention:\n",
    "      $$D_{a,b,c} = A_{a,d,e,c}\\cdot B_{f,e,b,d,f}+C_{c,b,a}$$"
   ]
  },
  {
   "cell_type": "code",
   "execution_count": 64,
   "metadata": {
    "slideshow": {
     "slide_type": "subslide"
    }
   },
   "outputs": [
    {
     "data": {
      "text/plain": [
       "quote \n",
       "    D2 = (TensorOperations.deindexify)((TensorOperations.indexify)(A, (TensorOperations.Indices){(:a, :d, :e, :c)}()) * (TensorOperations.indexify)(B, (TensorOperations.Indices){(:f, :e, :b, :d, :f)}()) + (TensorOperations.indexify)(C, (TensorOperations.Indices){(:c, :b, :a)}()), (TensorOperations.Indices){(:a, :b, :c)}())\n",
       "end"
      ]
     },
     "execution_count": 64,
     "metadata": {},
     "output_type": "execute_result"
    }
   ],
   "source": [
    "n=3;\n",
    "A=randn(n,n,n,n);\n",
    "B=randn(n,n,n,n,n);\n",
    "C=randn(n,n,n);\n",
    "\n",
    "D=zeros(n,n,n);\n",
    "for a=1:n, b=1:n, c=1:n\n",
    "    D[a,b,c] += C[c,b,a]\n",
    "    for d=1:n, e=1:n, f=1:n\n",
    "        D[a,b,c] += A[a,d,e,c]*B[f,e,b,d,f]\n",
    "    end\n",
    "end\n",
    "\n",
    "using TensorOperations\n",
    "@tensor D2[a,b,c] := A[a,d,e,c]*B[f,e,b,d,f] + C[c,b,a];\n",
    "\n",
    "@tensor D3[α,β,3] := A[α,d',-7,3]*B[f′′,-7,β,d',f′′] + C[3,β,α];\n",
    "\n",
    "vecnorm(D-D2)\n",
    "\n",
    "macroexpand(:(@tensor D2[a,b,c] := A[a,d,e,c]*B[f,e,b,d,f] + C[c,b,a];))"
   ]
  },
  {
   "cell_type": "code",
   "execution_count": 46,
   "metadata": {
    "collapsed": true,
    "slideshow": {
     "slide_type": "subslide"
    }
   },
   "outputs": [],
   "source": [
    "function f1!(D,n,A,B,C)\n",
    "    for a=1:n, b=1:n, c=1:n\n",
    "        D[a,b,c] += C[c,b,a]\n",
    "        for d=1:n, e=1:n, f=1:n\n",
    "            D[a,b,c] += A[a,d,e,c]*B[f,e,b,d,f]\n",
    "        end\n",
    "    end\n",
    "    return D\n",
    "end\n",
    "function f2!(D,n,A,B,C)\n",
    "    @tensor D[a,b,c] = A[a,d,e,c]*B[f,e,b,d,f] + C[c,b,a] \n",
    "    return D\n",
    "end\n",
    "\n",
    "n=30;\n",
    "A=randn(n,n,n,n);\n",
    "B=randn(n,n,n,n,n);\n",
    "C=randn(n,n,n);\n",
    "D=zeros(n,n,n);"
   ]
  },
  {
   "cell_type": "code",
   "execution_count": 47,
   "metadata": {
    "slideshow": {
     "slide_type": "skip"
    }
   },
   "outputs": [
    {
     "name": "stdout",
     "output_type": "stream",
     "text": [
      "  6.015464 seconds (7.77 k allocations: 372.718 KiB)\n",
      "  0.027367 seconds (1.63 k allocations: 6.682 MiB)\n"
     ]
    }
   ],
   "source": [
    "@time f1!(D,n,A,B,C);\n",
    "@time f2!(D,n,A,B,C);"
   ]
  },
  {
   "cell_type": "code",
   "execution_count": 48,
   "metadata": {
    "slideshow": {
     "slide_type": "-"
    }
   },
   "outputs": [
    {
     "name": "stdout",
     "output_type": "stream",
     "text": [
      "  5.773314 seconds (4 allocations: 160 bytes)\n",
      "  0.016246 seconds (117 allocations: 6.598 MiB)\n"
     ]
    }
   ],
   "source": [
    "@time f1!(D,n,A,B,C);\n",
    "@time f2!(D,n,A,B,C);"
   ]
  },
  {
   "cell_type": "markdown",
   "metadata": {
    "slideshow": {
     "slide_type": "subslide"
    }
   },
   "source": [
    "### What is going on underneath?\n",
    "* **Basic tensor operations** (inspired by BLAS)\n",
    "    * permutations and addition: `C = β*C + α*permutation(op(A))`\n",
    "    * partial trace: `C = β*C + α*partialtrace(op(A))`\n",
    "    * contraction: `C = β*C + α*contract(op(A),op(B))`\n",
    "    \n",
    "  `op` can be idenity (doing nothing) or `conj`\n",
    "    \n",
    "  also available via function based syntax"
   ]
  },
  {
   "cell_type": "markdown",
   "metadata": {
    "slideshow": {
     "slide_type": "slide"
    }
   },
   "source": [
    "## Implementation of basic tensor operations (with metaprogramming)\n",
    "### 1. Permutations"
   ]
  },
  {
   "cell_type": "code",
   "execution_count": 49,
   "metadata": {
    "collapsed": true,
    "slideshow": {
     "slide_type": "-"
    }
   },
   "outputs": [],
   "source": [
    "A=randn(10,10,10,10,10,10,10,10);\n",
    "B=zeros(10,10,10,10,10,10,10,10);"
   ]
  },
  {
   "cell_type": "code",
   "execution_count": 50,
   "metadata": {
    "slideshow": {
     "slide_type": "-"
    }
   },
   "outputs": [
    {
     "data": {
      "text/plain": [
       "myreverse! (generic function with 1 method)"
      ]
     },
     "execution_count": 50,
     "metadata": {},
     "output_type": "execute_result"
    }
   ],
   "source": [
    "myreverse!(B,A) = (@tensor B[8,7,6,5,4,3,2,1] = A[1,2,3,4,5,6,7,8])"
   ]
  },
  {
   "cell_type": "code",
   "execution_count": 51,
   "metadata": {
    "slideshow": {
     "slide_type": "skip"
    }
   },
   "outputs": [
    {
     "name": "stdout",
     "output_type": "stream",
     "text": [
      "  0.216277 seconds (8 allocations: 224 bytes)\n",
      " 19.048340 seconds (450.00 M allocations: 6.706 GiB, 4.22% gc time)\n",
      "  0.284500 seconds (260.51 k allocations: 3.995 MiB, 0.53% gc time)\n"
     ]
    }
   ],
   "source": [
    "@time copy!(B,A);\n",
    "@time permutedims!(B,A,[8,7,6,5,4,3,2,1]);\n",
    "@time myreverse!(B,A);"
   ]
  },
  {
   "cell_type": "code",
   "execution_count": 52,
   "metadata": {
    "slideshow": {
     "slide_type": "-"
    }
   },
   "outputs": [
    {
     "name": "stdout",
     "output_type": "stream",
     "text": [
      "  0.128558 seconds (8 allocations: 224 bytes)\n",
      " 20.239143 seconds (450.00 M allocations: 6.706 GiB, 2.12% gc time)\n",
      "  0.309911 seconds (260.01 k allocations: 3.968 MiB)\n"
     ]
    }
   ],
   "source": [
    "@time copy!(B,A);\n",
    "@time permutedims!(B,A,[8,7,6,5,4,3,2,1]);\n",
    "@time myreverse!(B,A);"
   ]
  },
  {
   "cell_type": "markdown",
   "metadata": {
    "slideshow": {
     "slide_type": "subslide"
    }
   },
   "source": [
    "#### Timing results:\n",
    "  <img src=\"permutationtimings.pdf\" style=\"width: 1600px;\"/>\n",
    "\n"
   ]
  },
  {
   "cell_type": "markdown",
   "metadata": {
    "slideshow": {
     "slide_type": "subslide"
    }
   },
   "source": [
    "### 1. Permutations\n",
    "* How to optimize permutations? Why is it slower than normal copy?\n",
    "* Even for matrix transposition?\n",
    "  <img src=\"transpose.png\" style=\"width: 600px;\"/>\n",
    "  Memory is linear $\\Rightarrow$ `transpose` requires unfavorable memory access!\n",
    "* Cache-oblivious approach (divide and conquer) already gives you a decent efficiency!"
   ]
  },
  {
   "cell_type": "markdown",
   "metadata": {
    "slideshow": {
     "slide_type": "subslide"
    }
   },
   "source": [
    "### 1. Permutations\n",
    "* How to generalize cache-oblivious approach to multidimensional permutations?\n",
    "    1. What is the best blocking (divide and conquer) strategy?\n",
    "    2. How to write nested loops depending on the dimensionality of the array?\n"
   ]
  },
  {
   "cell_type": "markdown",
   "metadata": {
    "slideshow": {
     "slide_type": "-"
    }
   },
   "source": [
    "* Solution to 1: divide dimensions along which the minimum of the memory jumps of the two arrays is maximal.\n",
    "* Solution to 2: generated functions!\n",
    "\n",
    "parse -> expressions -> macro expansion -> new expression -> type inference -> generated functions -> compile -> run\n",
    "\n",
    "[TensorOperations.jl kernels](https://github.com/Jutho/TensorOperations.jl/blob/master/src/implementation/kernels.jl)\n"
   ]
  },
  {
   "cell_type": "markdown",
   "metadata": {
    "slideshow": {
     "slide_type": "subslide"
    }
   },
   "source": [
    "### 2. Partial trace\n",
    "* very similar, but somewhat more carefull\n",
    "\n",
    "### 3. Tensor contraction: very similar to matrix multiplication\n",
    "\n",
    "* Native divide and conquer implementation\n",
    "* TTGT approach using BLAS"
   ]
  },
  {
   "cell_type": "markdown",
   "metadata": {
    "slideshow": {
     "slide_type": "slide"
    }
   },
   "source": [
    "## Optimization of tensor contraction order\n",
    "\n",
    "### Contraction order matters!\n",
    "\n",
    "* matrix - matrix - vector multiplication: `A*B*v`: \n",
    "  \n",
    "  `A*(B*v)` is much faster than `(A*B)*v`\n",
    "\n",
    "\n",
    "* Optimal contraction order in more complicated tensor networks?\n",
    "  <img src=\"mera.png\" style=\"width: 200px;\"/>\n",
    "  \n",
    "* Pairwise contraction is always sufficient, but in which sequence?"
   ]
  },
  {
   "cell_type": "markdown",
   "metadata": {
    "slideshow": {
     "slide_type": "subslide"
    }
   },
   "source": [
    "### What is optimal contraction sequence?\n",
    "\n",
    "* Manual determination can become laborious task\n",
    "* Contraction of two-dimensional multiscale entanglement renormalization ansatz:\n",
    "  <img src=\"2dmerac.png\" style=\"width: 1200px;\"/>"
   ]
  },
  {
   "cell_type": "markdown",
   "metadata": {
    "slideshow": {
     "slide_type": "subslide"
    }
   },
   "source": [
    "### Algorithmic determination of optimal contraction sequence\n",
    "\n",
    "\"Faster identification of optimal contraction sequences for tensor networks\"\n",
    "\n",
    "Robert N. C. Pfeifer, JH, and Frank Verstraete, Phys Rev E 90, 033315 (2014)\n",
    "\n",
    "* Breadth-first constructive approach:\n",
    "  <img src=\"algorithm.png\" style=\"width: 800px;\"/>\n",
    "* Add tricks to make it efficient   "
   ]
  },
  {
   "cell_type": "markdown",
   "metadata": {
    "slideshow": {
     "slide_type": "subslide"
    }
   },
   "source": [
    "  <img src=\"mera2.png\" style=\"width: 1200px;\"/>\n",
    "  "
   ]
  },
  {
   "cell_type": "code",
   "execution_count": 53,
   "metadata": {
    "slideshow": {
     "slide_type": "subslide"
    }
   },
   "outputs": [
    {
     "name": "stdout",
     "output_type": "stream",
     "text": [
      "(:(:=), (:ref, :result, -1, -2, -3, -4, -5, -6), (:call, :*, (:ref, :W1, -1, 1, 2), (:ref, :W2, -2, 3, 4), (:ref, :W3, -3, 5, 6), (:ref, :U1, 2, 3, 7, 8), (:ref, :U2, 4, 5, 9, 10), (:ref, :h, 7, 8, 9, 11, 12, 13), (:ref, (:call, :conj, :U1), 14, 15, 11, 12), (:ref, (:call, :conj, :U2), 16, 17, 13, 10), (:ref, (:call, :conj, :W1), -4, 1, 14), (:ref, (:call, :conj, :W2), -5, 15, 16), (:ref, (:call, :conj, :W3), -6, 17, 6)))"
     ]
    }
   ],
   "source": [
    "ex=:(result[-1,-2,-3,-4,-5,-6] := \n",
    "        W1[-1,1,2]*W2[-2,3,4]*W3[-3,5,6]*\n",
    "        U1[2,3,7,8]*U2[4,5,9,10]*\n",
    "        h[7,8,9,11,12,13]*\n",
    "        conj(U1)[14,15,11,12]*conj(U2)[16,17,13,10]*\n",
    "        conj(W1)[-4,1,14]*conj(W2)[-5,15,16]*conj(W3)[-6,17,6])\n",
    "Meta.show_sexpr(ex)\n"
   ]
  },
  {
   "cell_type": "code",
   "execution_count": 66,
   "metadata": {
    "slideshow": {
     "slide_type": "-"
    }
   },
   "outputs": [
    {
     "ename": "LoadError",
     "evalue": "\u001b[91mMethodError: Cannot `convert` an object of type TensorOperations.Power{:χ,Int64} to an object of type TensorOperations.Power{:chi,Int64}\nThis may have arisen from a call to the constructor TensorOperations.Power{:chi,Int64}(...),\nsince type constructors fall back to convert methods.\u001b[39m",
     "output_type": "error",
     "traceback": [
      "\u001b[91mMethodError: Cannot `convert` an object of type TensorOperations.Power{:χ,Int64} to an object of type TensorOperations.Power{:chi,Int64}\nThis may have arisen from a call to the constructor TensorOperations.Power{:chi,Int64}(...),\nsince type constructors fall back to convert methods.\u001b[39m",
      "",
      "Stacktrace:",
      " [1] \u001b[1minclude_string\u001b[22m\u001b[22m\u001b[1m(\u001b[22m\u001b[22m::String, ::String\u001b[1m)\u001b[22m\u001b[22m at \u001b[1m./loading.jl:515\u001b[22m\u001b[22m"
     ]
    }
   ],
   "source": [
    "@optimalcontractiontree !(1,5) W1[-1,1,2]*W2[-2,3,4]*W3[-3,5,6]*\n",
    "        U1[2,3,7,8]*U2[4,5,9,10]*\n",
    "        h[7,8,9,11,12,13]*\n",
    "        conj(U1)[14,15,11,12]*conj(U2)[16,17,13,10]*\n",
    "        conj(W1)[-4,1,14]*conj(W2)[-5,15,16]*conj(W3)[-6,17,6]\n"
   ]
  },
  {
   "cell_type": "code",
   "execution_count": 55,
   "metadata": {
    "slideshow": {
     "slide_type": "-"
    }
   },
   "outputs": [
    {
     "name": "stdout",
     "output_type": "stream",
     "text": [
      "elapsed time: 0.004234351 seconds\n"
     ]
    },
    {
     "data": {
      "text/plain": [
       "0.004234351"
      ]
     },
     "execution_count": 55,
     "metadata": {},
     "output_type": "execute_result"
    }
   ],
   "source": [
    "tic()\n",
    "@optimalcontractiontree W1[-1,1,2]*W2[-2,3,4]*W3[-3,5,6]*\n",
    "        U1[2,3,7,8]*U2[4,5,9,10]*\n",
    "        h[7,8,9,11,12,13]*\n",
    "        conj(U1)[14,15,11,12]*conj(U2)[16,17,13,10]*\n",
    "        conj(W1)[-4,1,14]*conj(W2)[-5,15,16]*conj(W3)[-6,17,6]\n",
    "toc()\n"
   ]
  },
  {
   "cell_type": "code",
   "execution_count": 65,
   "metadata": {
    "slideshow": {
     "slide_type": "subslide"
    }
   },
   "outputs": [
    {
     "name": "stdout",
     "output_type": "stream",
     "text": [
      "(:(=), :result, (:call, :(TensorOperations.deindexify), (:call, :*, (:call, :*, (:call, :(TensorOperations.indexify), (:call, :conj, :W1), (:call, (:curly, :(TensorOperations.Indices), (-4, 1, 14)))), (:call, :(TensorOperations.indexify), :W1, (:call, (:curly, :(TensorOperations.Indices), (-1, 1, 2))))), (:call, :*, (:call, :*, (:call, :(TensorOperations.indexify), :W3, (:call, (:curly, :(TensorOperations.Indices), (-3, 5, 6)))), (:call, :(TensorOperations.indexify), (:call, :conj, :W3), (:call, (:curly, :(TensorOperations.Indices), (-6, 17, 6))))), (:call, :*, (:call, :*, (:call, :(TensorOperations.indexify), :W2, (:call, (:curly, :(TensorOperations.Indices), (-2, 3, 4)))), (:call, :(TensorOperations.indexify), :U2, (:call, (:curly, :(TensorOperations.Indices), (4, 5, 9, 10))))), (:call, :*, (:call, :*, (:call, :(TensorOperations.indexify), (:call, :conj, :U2), (:call, (:curly, :(TensorOperations.Indices), (16, 17, 13, 10)))), (:call, :(TensorOperations.indexify), (:call, :conj, :W2), (:call, (:curly, :(TensorOperations.Indices), (-5, 15, 16))))), (:call, :*, (:call, :(TensorOperations.indexify), :U1, (:call, (:curly, :(TensorOperations.Indices), (2, 3, 7, 8)))), (:call, :*, (:call, :(TensorOperations.indexify), :h, (:call, (:curly, :(TensorOperations.Indices), (7, 8, 9, 11, 12, 13)))), (:call, :(TensorOperations.indexify), (:call, :conj, :U1), (:call, (:curly, :(TensorOperations.Indices), (14, 15, 11, 12)))))))))), (:call, (:curly, :(TensorOperations.Indices), (-1, -2, -3, -4, -5, -6)))))"
     ]
    }
   ],
   "source": [
    "using TensorOperations\n",
    "function f1(W1, W2, W3, U1, U2, h)\n",
    "    @tensor result[:] := \n",
    "        W1[-1,1,2]*W2[-2,3,4]*W3[-3,5,6]*\n",
    "        U1[2,3,7,8]*U2[4,5,9,10]*\n",
    "        h[7,8,9,11,12,13]*\n",
    "        conj(U1)[14,15,11,12]*conj(U2)[16,17,13,10]*\n",
    "        conj(W1)[-4,1,14]*conj(W2)[-5,15,16]*conj(W3)[-6,17,6]\n",
    "    return result\n",
    "end\n",
    "function f2(W1, W2, W3, U1, U2, h)\n",
    "    @tensoropt result[-1,-2,-3,-4,-5,-6] := \n",
    "        W1[-1,1,2]*W2[-2,3,4]*W3[-3,5,6]*\n",
    "        U1[2,3,7,8]*U2[4,5,9,10]*\n",
    "        h[7,8,9,11,12,13]*\n",
    "        conj(U1)[14,15,11,12]*conj(U2)[16,17,13,10]*\n",
    "        conj(W1)[-4,1,14]*conj(W2)[-5,15,16]*conj(W3)[-6,17,6]\n",
    "    return result\n",
    "end\n",
    "Meta.show_sexpr(macroexpand(:(@tensoropt result[-1,-2,-3,-4,-5,-6] := \n",
    "        W1[-1,1,2]*W2[-2,3,4]*W3[-3,5,6]*\n",
    "        U1[2,3,7,8]*U2[4,5,9,10]*\n",
    "        h[7,8,9,11,12,13]*\n",
    "        conj(U1)[14,15,11,12]*conj(U2)[16,17,13,10]*\n",
    "        conj(W1)[-4,1,14]*conj(W2)[-5,15,16]*conj(W3)[-6,17,6])))"
   ]
  },
  {
   "cell_type": "code",
   "execution_count": 57,
   "metadata": {
    "collapsed": true,
    "slideshow": {
     "slide_type": "subslide"
    }
   },
   "outputs": [],
   "source": [
    "x=5;\n",
    "W1=W2=W3=randn(x,x,x);\n",
    "U1=U2=randn(x,x,x,x);\n",
    "h=randn(x,x,x,x,x,x);"
   ]
  },
  {
   "cell_type": "code",
   "execution_count": 58,
   "metadata": {
    "slideshow": {
     "slide_type": "skip"
    }
   },
   "outputs": [
    {
     "name": "stdout",
     "output_type": "stream",
     "text": [
      "  2.078769 seconds (1.95 M allocations: 2.404 GiB, 12.24% gc time)\n",
      "  0.033222 seconds (7.19 k allocations: 3.434 MiB)\n"
     ]
    }
   ],
   "source": [
    "@time result=f1(W1, W2, W3, U1, U2, h);\n",
    "@time result2=f2(W1, W2, W3, U1, U2, h);"
   ]
  },
  {
   "cell_type": "code",
   "execution_count": 59,
   "metadata": {},
   "outputs": [
    {
     "name": "stdout",
     "output_type": "stream",
     "text": [
      "  2.449243 seconds (1.94 M allocations: 2.403 GiB, 19.23% gc time)\n",
      "  0.001907 seconds (922 allocations: 3.090 MiB)\n"
     ]
    }
   ],
   "source": [
    "@time result=f1(W1, W2, W3, U1, U2, h);\n",
    "@time result2=f2(W1, W2, W3, U1, U2, h);"
   ]
  },
  {
   "cell_type": "code",
   "execution_count": 60,
   "metadata": {
    "slideshow": {
     "slide_type": "-"
    }
   },
   "outputs": [
    {
     "data": {
      "text/plain": [
       "8.32871813299754e-16"
      ]
     },
     "execution_count": 60,
     "metadata": {},
     "output_type": "execute_result"
    }
   ],
   "source": [
    "vecnorm(result-result2)/vecnorm(result)"
   ]
  },
  {
   "cell_type": "markdown",
   "metadata": {
    "slideshow": {
     "slide_type": "slide"
    }
   },
   "source": [
    "## Outlook\n",
    "Possible features that might be added to `TensorOperations.jl` in the future:\n",
    "* More flexible index notation\n",
    "    * to allow for a mixed combination with manual loops in order to take slices\n",
    "    * to automatically specify reshapes: e.g. \n",
    "    ```julia\n",
    "    C[(a,b),(c,d)] = A[a,c,e]*B[b,d,e]\n",
    "    Q,R = qr(C)\n",
    "    E[a,f,b] = Q[(a,b),g]*D[g,f]\n",
    "    ```\n",
    "* Multi-threading support? Currently being implemented in Julia\n",
    "* GPU support? Also being developed in Julia\n",
    "* Linking to TBLIS, HPTT, ...\n",
    "\n",
    "## Conclusions\n",
    "* Julia is a promising language for developing tensor algorithms (and much more)\n",
    "* I would like to see all of BLAS and LAPACK (with a modernized interface) being written in pure Julia, with maybe a  small amount LLVM / Assembly code injections (`Base.llvmcal(\"...\")`) for the wholy quadruple of types, but also allowing completely generic user types (finite fields, ...) "
   ]
  }
 ],
 "metadata": {
  "celltoolbar": "Slideshow",
  "kernelspec": {
   "display_name": "Julia 0.6.0",
   "language": "julia",
   "name": "julia-0.6"
  },
  "language_info": {
   "file_extension": ".jl",
   "mimetype": "application/julia",
   "name": "julia",
   "version": "0.6.0"
  }
 },
 "nbformat": 4,
 "nbformat_minor": 1
}
